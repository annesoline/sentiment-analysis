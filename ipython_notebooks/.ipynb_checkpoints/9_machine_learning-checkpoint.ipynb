{
  "metadata": {
    "kernelspec": {
      "name": "py-dku-containerized-venv-edf_sentiment_analysis-cpu-xl-2-cpu-16gb-ram",
      "display_name": "Python in CPU-XL-2-cpu-16Gb-Ram (env edf_sentiment_analysis)",
      "language": "python"
    },
    "hide_input": false,
    "language_info": {
      "name": "python",
      "version": "3.9.20",
      "mimetype": "text/x-python",
      "codemirror_mode": {
        "name": "ipython",
        "version": 3
      },
      "pygments_lexer": "ipython3",
      "nbconvert_exporter": "python",
      "file_extension": ".py"
    },
    "creationTag": {
      "versionNumber": 0,
      "lastModifiedBy": {
        "login": "anne-soline.guilbert-ly@dataiku.com"
      },
      "lastModifiedOn": 1742812779766
    },
    "modifiedBy": "anne-soline.guilbert-ly@dataiku.com",
    "customFields": {},
    "dkuGit": {
      "lastInteraction": 0
    },
    "associatedRecipe": "recipe_from_notebook_9_machine_learning",
    "createdOn": 1742812779766,
    "creator": "anne-soline.guilbert-ly@dataiku.com",
    "tags": [
      "recipe-editor"
    ]
  },
  "nbformat": 4,
  "nbformat_minor": 1,
  "cells": [
    {
      "execution_count": 0,
      "cell_type": "code",
      "metadata": {},
      "source": [
        "import dataiku\nfrom dataiku import pandasutils as pdu\nimport pandas as pd\nfrom datetime import datetime"
      ],
      "outputs": []
    },
    {
      "execution_count": 0,
      "cell_type": "code",
      "metadata": {},
      "source": [
        "tweets_train \u003d dataiku.Dataset(\"tweets_train\")\ntrain_df \u003d tweets_train.get_dataframe()"
      ],
      "outputs": []
    },
    {
      "execution_count": 0,
      "cell_type": "code",
      "metadata": {},
      "source": [
        "import numpy as np\nfrom sklearn.preprocessing import StandardScaler\nfrom sklearn.preprocessing import LabelEncoder\nfrom sklearn.feature_extraction.text import TfidfVectorizer\n\ndef preprocess_data(df: pd.DataFrame, tfidf: TfidfVectorizer, label_col: str \u003d \u0027label\u0027) -\u003e tuple[pd.DataFrame, pd.Series]:\n\n    features \u003d [\u0027tweet_length_chars\u0027, \u0027tweet_length_words\u0027, \u0027repetitive_letters\u0027,\n                      \u0027mention_only\u0027, \u0027unreadable\u0027, \u0027too_many_numbers\u0027]\n    scaler \u003d StandardScaler()\n    X \u003d scaler.fit_transform(df[features].fillna(0))\n    X \u003d pd.DataFrame(X, columns\u003dfeatures, index\u003ddf.index)\n\n    # Encode label\n    y \u003d df[label_col]\n    label_encoder \u003d LabelEncoder()\n    y \u003d pd.Series(label_encoder.fit_transform(y))\n\n    # Step 3: Apply TF-IDF transformation on the text column\n    if tfidf is None:\n        tfidf \u003d TfidfVectorizer(\n            min_df\u003d0.01,  # Adjusted min_df to a lower value\n            max_df\u003d0.9,   # Adjusted max_df to a higher value\n            ngram_range\u003d(1, 1),\n            stop_words\u003dNone\n        )\n\n        try:\n            X_tfidf \u003d tfidf.fit_transform(df[\u0027text\u0027].fillna(\u0027\u0027))\n            \n        except ValueError as e:\n            print(f\"Error during TF-IDF transformation: {e}\")\n            return None, None, None, None\n    else:\n        X_tfidf \u003d tfidf.transform(df[\u0027text\u0027].fillna(\u0027\u0027))\n\n    # Combine TF-IDF features with other features\n    X_combined \u003d np.hstack((X.values, X_tfidf.toarray()))\n\n    return X_combined, y, tfidf\n"
      ],
      "outputs": []
    },
    {
      "execution_count": 0,
      "cell_type": "code",
      "metadata": {},
      "source": [
        "from sklearn.linear_model import LogisticRegression\nfrom sklearn.metrics import accuracy_score, classification_report, roc_auc_score, precision_score, recall_score, f1_score\nfrom sklearn.model_selection import StratifiedKFold\nimport matplotlib.pyplot as plt\nimport seaborn as sns\n\ndef train_model_with_tfidf_stratified_kfold(df: pd.DataFrame, n_splits: int \u003d 5, max_features: int \u003d 5000)-\u003etuple[pd.DataFrame, list, LogisticRegression]:\n    \"\"\"\n    Applies a logistic regression model using TF-IDF features and evaluates it with stratified K-fold cross-validation.\n\n    Parameters:\n    df (pd.DataFrame): The input DataFrame containing the dataset.\n    n_splits (int): The number of splits for stratified K-fold cross-validation. Default is 5.\n    max_features (int): The maximum number of features to consider for the TF-IDF vectorizer. Default is 5000.\n\n    Returns:\n    tuple: A tuple containing the list of accuracies, classification reports, ROC AUC scores for each fold, and the trained model.\n    \"\"\"\n    \n    X_combined, y, tfidf \u003d preprocess_data(df, None)\n\n    # Step 4: Stratified K-Fold Cross Validation\n    skf \u003d StratifiedKFold(n_splits\u003dn_splits, shuffle\u003dTrue, random_state\u003d42)\n    accuracies \u003d []\n    precisions \u003d []\n    recalls \u003d []\n    f1s \u003d []\n    reports \u003d []\n    roc_aucs \u003d []\n\n    for train_index, test_index in skf.split(X_combined, y):\n\n        X_train, X_test \u003d X_combined[train_index], X_combined[test_index]\n        y_train, y_test \u003d y.iloc[train_index], y.iloc[test_index]\n        # Define the model\n        model \u003d LogisticRegression(max_iter\u003d1000)\n        # Train the model\n        model.fit(X_train, y_train)\n\n        # Predict on the test set\n        y_pred \u003d model.predict(X_test)\n        y_pred_proba \u003d model.predict_proba(X_test)\n\n        # Evaluate the model\n        accuracy \u003d accuracy_score(y_test, y_pred)\n        precision \u003d precision_score(y_test, y_pred, average\u003d\u0027weighted\u0027, zero_division\u003d0)\n        recall \u003d recall_score(y_test, y_pred, average\u003d\u0027weighted\u0027, zero_division\u003d0)\n        f1 \u003d f1_score(y_test, y_pred, average\u003d\u0027weighted\u0027, zero_division\u003d0)\n        roc_auc \u003d roc_auc_score(y_test, y_pred_proba, multi_class\u003d\u0027ovr\u0027)\n        report \u003d classification_report(y_test, y_pred, output_dict\u003dTrue, zero_division\u003d0)\n\n        accuracies.append(accuracy)\n        precisions.append(precision)\n        recalls.append(recall)\n        f1s.append(f1)\n        roc_aucs.append(roc_auc)\n        reports.append(report)\n\n    metrics_df \u003d pd.DataFrame({\n        \u0027Mean Accuracy\u0027: [np.mean(accuracies)],\n        \u0027Mean Precision\u0027: [np.mean(precisions)],\n        \u0027Mean Recall\u0027: [np.mean(recalls)],\n        \u0027Mean F1 Score\u0027: [np.mean(f1s)],\n        \u0027Mean ROC AUC\u0027: [np.mean([auc for auc in roc_aucs if auc is not None])],\n        \u0027Model Name\u0027: [\u0027Logistic Regression\u0027],\n        \u0027Date and Time\u0027: [datetime.now().strftime(\u0027%Y-%m-%d %H:%M:%S\u0027)]\n    })\n\n    return metrics_df, reports, model, tfidf"
      ],
      "outputs": []
    },
    {
      "cell_type": "markdown",
      "metadata": {},
      "source": [
        "# Train tweets_encryption_train_df"
      ]
    },
    {
      "execution_count": 0,
      "cell_type": "code",
      "metadata": {},
      "source": [
        "lr_metrics_df, reports, lr_model, tfidf \u003d train_model_with_tfidf_stratified_kfold(train_df)"
      ],
      "outputs": []
    },
    {
      "execution_count": 0,
      "cell_type": "code",
      "metadata": {},
      "source": [
        "metrics_per_fold_df \u003d pd.DataFrame()\n\nfor i, report in enumerate(reports):\n    if isinstance(report, dict):\n        # Remove \u0027accuracy\u0027, \u0027macro avg\u0027, and \u0027weighted avg\u0027 from the report\n        report.pop(\u0027accuracy\u0027, None)\n        report.pop(\u0027macro avg\u0027, None)\n        report.pop(\u0027weighted avg\u0027, None)\n\n        report_df \u003d pd.DataFrame.from_dict(report).transpose()\n        report_df[\u0027class\u0027] \u003d report_df.index  # Save the key of each dictionary into a new column called \"class\"\n        report_df[\u0027Fold\u0027] \u003d i + 1  # Add the fold number to the DataFrame\n        metrics_per_fold_df \u003d pd.concat([metrics_per_fold_df, report_df], ignore_index\u003dTrue)\n    else:\n        print(f\"Warning: Report for Fold {i+1} is not a dictionary and cannot be converted to a DataFrame.\")"
      ],
      "outputs": []
    },
    {
      "cell_type": "markdown",
      "metadata": {},
      "source": [
        "## Save pickle"
      ]
    },
    {
      "execution_count": 0,
      "cell_type": "code",
      "metadata": {},
      "source": [
        "date_time \u003d datetime.now().strftime(\u0027%Y-%m-%d_%H-%M-%S\u0027)\nlr_artefact_name \u003d f\"lr_{date_time}\"\nmetrics_per_fold_df[\"model\"] \u003d lr_artefact_name\nmetrics_per_fold_df[\"date_time\"] \u003d date_time"
      ],
      "outputs": []
    },
    {
      "execution_count": 0,
      "cell_type": "code",
      "metadata": {},
      "source": [
        "# Pipeline for encrypted data\nartefact_pickle_name \u003d f\"{lr_artefact_name}.pkl\"\nmodels_data_folder \u003d dataiku.Folder(\"VQ6fLov2\")\n\nwith tempfile.TemporaryDirectory() as temp_dir:\n\n    local_file_path \u003d os.path.join(temp_dir, artefact_pickle_name)\n\n    with open(local_file_path, \u0027wb\u0027) as file:\n        pickle.dump(lr_model, file)\n\n    models_data_folder.upload_file(artefact_pickle_name, local_file_path)"
      ],
      "outputs": []
    },
    {
      "cell_type": "markdown",
      "metadata": {},
      "source": [
        "# Create output datasets"
      ]
    },
    {
      "execution_count": 0,
      "cell_type": "code",
      "metadata": {},
      "source": [
        "# Recipe outputs\nlr_metrics \u003d dataiku.Dataset(\"lr_metrics\")\nlr_metrics.write_with_schema(lr_metrics_df)\n\nmetrics_per_fold \u003d dataiku.Dataset(\"metrics_per_fold\")\nmetrics_per_fold.write_with_schema(metrics_per_fold_df)\n"
      ],
      "outputs": []
    }
  ]
}