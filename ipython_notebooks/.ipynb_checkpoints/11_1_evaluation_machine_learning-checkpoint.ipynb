{
  "metadata": {
    "kernelspec": {
      "name": "py-dku-containerized-venv-edf_sentiment_analysis-cpu-xl-2-cpu-16gb-ram",
      "display_name": "Python in CPU-XL-2-cpu-16Gb-Ram (env edf_sentiment_analysis)",
      "language": "python"
    },
    "hide_input": false,
    "language_info": {
      "name": "python",
      "version": "3.9.20",
      "mimetype": "text/x-python",
      "codemirror_mode": {
        "name": "ipython",
        "version": 3
      },
      "pygments_lexer": "ipython3",
      "nbconvert_exporter": "python",
      "file_extension": ".py"
    },
    "modifiedBy": "anne-soline.guilbert-ly@dataiku.com",
    "customFields": {},
    "createdOn": 1743077160706,
    "creator": "anne-soline.guilbert-ly@dataiku.com",
    "tags": []
  },
  "nbformat": 4,
  "nbformat_minor": 1,
  "cells": [
    {
      "cell_type": "markdown",
      "metadata": {},
      "source": [
        "# Packages"
      ]
    },
    {
      "execution_count": 0,
      "cell_type": "code",
      "metadata": {},
      "source": [
        "import dataiku\n\nfrom sklearn.metrics import accuracy_score, precision_score, recall_score, f1_score, roc_auc_score\n\nfrom edf_commons.machine_learning import preprocess_data\n\nimport tempfile\nimport shutil\nimport pickle\nimport os\n"
      ],
      "outputs": []
    },
    {
      "cell_type": "markdown",
      "metadata": {},
      "source": [
        "# Global variables"
      ]
    },
    {
      "execution_count": 0,
      "cell_type": "code",
      "metadata": {},
      "source": [
        "project \u003d dataiku.Project()\nvariables \u003d project.get_variables()\nMODELS_PATH \u003d variables[\"standard\"][\"models_path\"]\nMODEL_FOLDER_ID \u003d variables[\"standard\"][\"model_folder_id\"]\nMODELS_DATA_FOLDER \u003d dataiku.Folder(MODEL_FOLDER_ID)\n"
      ],
      "outputs": []
    },
    {
      "cell_type": "markdown",
      "metadata": {},
      "source": [
        "# Input"
      ]
    },
    {
      "execution_count": 0,
      "cell_type": "code",
      "metadata": {},
      "source": [
        "tweets_eval \u003d dataiku.Dataset(\"prepared_tweets\")\neval_df \u003d tweets_eval.get_dataframe()"
      ],
      "outputs": []
    },
    {
      "execution_count": 0,
      "cell_type": "code",
      "metadata": {},
      "source": [
        "# Get the TFIDF model\ntfidf_path \u003d [path for path in MODELS_DATA_FOLDER.list_paths_in_partition() if \"/tfidf/\" in path][-1]\ntfidf_name \u003d tfidf_path.split(\"/\")[-1].split(\".pkl\")[0]\n\n# load latest TFIDF model\nwith tempfile.TemporaryDirectory() as temp_directory_name:\n\n    local_file_path \u003d temp_directory_name + \"/\" + tfidf_name\n\n    # Copy file from remote to local\n    with MODELS_DATA_FOLDER.get_download_stream(tfidf_path) as f_remote, open(local_file_path,\u0027wb\u0027) as f_local:\n        shutil.copyfileobj(f_remote, f_local)\n\n    # Load the pipeline\n    with open(local_file_path, \u0027rb\u0027) as file:\n        tfidf \u003d pickle.load(file)\n"
      ],
      "outputs": []
    },
    {
      "execution_count": 0,
      "cell_type": "code",
      "metadata": {},
      "source": [
        "# Get the Logistic Regression model\nlr_path \u003d [path for path in MODELS_DATA_FOLDER.list_paths_in_partition() if \"/lr/\" in path][-1]\nlr_name \u003d model_path.split(\"/\")[-1].split(\".pkl\")[0]\n\n# load latest TFIDF model\nwith tempfile.TemporaryDirectory() as temp_directory_name:\n\n    local_file_path \u003d temp_directory_name + \"/\" + lr_name\n\n    # Copy file from remote to local\n    with MODELS_DATA_FOLDER.get_download_stream(lr_path) as f_remote, open(local_file_path,\u0027wb\u0027) as f_local:\n        shutil.copyfileobj(f_remote, f_local)\n\n    # Load the pipeline\n    with open(local_file_path, \u0027rb\u0027) as file:\n        lr_model \u003d pickle.load(file)\n"
      ],
      "outputs": []
    },
    {
      "execution_count": 0,
      "cell_type": "code",
      "metadata": {},
      "source": [
        "# Preprocess the data\nX_eval, y_eval, _ \u003d preprocess_data(eval_df, tfidf)\n\n# Predict\neval_prediction_results_df \u003d eval_df.copy()\neval_prediction_results_df[\u0027predicted\u0027] \u003d lr_model.predict(X_eval)\neval_prediction_results_df[\u0027probability\u0027] \u003d lr_model.predict_proba(X_eval)[:, 1]\neval_prediction_results_df[\u0027correct_prediction\u0027] \u003d results_df[\u0027label\u0027] \u003d\u003d results_df[\u0027predicted\u0027]\n\n# Calculate evaluation metrics\naccuracy \u003d accuracy_score(y_eval, eval_prediction_results_df[\u0027predicted\u0027])\nprecision \u003d precision_score(y_eval, eval_prediction_results_df[\u0027predicted\u0027], average\u003d\u0027weighted\u0027)\nrecall \u003d recall_score(y_eval, results_df[\u0027predicted\u0027], average\u003d\u0027weighted\u0027)\nf1 \u003d f1_score(y_eval, results_df[\u0027predicted\u0027], average\u003d\u0027weighted\u0027)\nroc_auc \u003d roc_auc_score(y_eval, lr_model.predict_proba(X_eval), multi_class\u003d\u0027ovr\u0027, average\u003d\u0027weighted\u0027)\n\n# Print the evaluation metrics\nprint(f\"Accuracy: {accuracy}\")\nprint(f\"Precision: {precision}\")\nprint(f\"Recall: {recall}\")\nprint(f\"F1 Score: {f1}\")\nprint(f\"ROC AUC: {roc_auc}\")\n\neval_metrics_df \u003d pd.DataFrame({\n    \u0027Mean Accuracy\u0027: [accuracy],\n    \u0027Mean Precision\u0027: [precision],\n    \u0027Mean Recall\u0027: [recall],\n    \u0027Mean F1 Score\u0027: [f1],\n    \u0027Mean ROC AUC\u0027: [roc_auc],\n    \u0027Model Name\u0027: [\u0027Logistic Regression\u0027],\n    \u0027Date and Time\u0027: [datetime.now().strftime(\u0027%Y-%m-%d %H:%M:%S\u0027)]\n})\n"
      ],
      "outputs": []
    },
    {
      "cell_type": "markdown",
      "metadata": {},
      "source": [
        "# Create output datasets"
      ]
    },
    {
      "execution_count": 0,
      "cell_type": "code",
      "metadata": {},
      "source": [
        "# Recipe outputs\neval_prediction_results \u003d dataiku.Dataset(\"eval_prediction_results\")\neval_prediction_results.write_with_schema(eval_prediction_results_df)\n\neval_metrics \u003d dataiku.Dataset(\"eval_metrics\")\neval_metrics.write_with_schema(eval_metrics_df)\n"
      ],
      "outputs": []
    }
  ]
}