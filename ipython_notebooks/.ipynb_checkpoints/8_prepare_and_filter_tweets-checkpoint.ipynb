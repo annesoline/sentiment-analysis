{
  "metadata": {
    "kernelspec": {
      "name": "py-dku-containerized-venv-edf_sentiment_analysis-cpu-xl-2-cpu-16gb-ram",
      "display_name": "Python in CPU-XL-2-cpu-16Gb-Ram (env edf_sentiment_analysis)",
      "language": "python"
    },
    "hide_input": false,
    "language_info": {
      "name": "python",
      "version": "3.9.20",
      "mimetype": "text/x-python",
      "codemirror_mode": {
        "name": "ipython",
        "version": 3
      },
      "pygments_lexer": "ipython3",
      "nbconvert_exporter": "python",
      "file_extension": ".py"
    },
    "creationTag": {
      "versionNumber": 0,
      "lastModifiedBy": {
        "login": "anne-soline.guilbert-ly@dataiku.com"
      },
      "lastModifiedOn": 1742400046150
    },
    "customFields": {},
    "dkuGit": {
      "lastInteraction": 0
    },
    "associatedRecipe": "recipe_from_notebook_8_prepare_and_filter_tweets",
    "createdOn": 1742400046150,
    "creator": "anne-soline.guilbert-ly@dataiku.com",
    "tags": [
      "recipe-editor"
    ],
    "modifiedBy": "anne-soline.guilbert-ly@dataiku.com"
  },
  "nbformat": 4,
  "nbformat_minor": 1,
  "cells": [
    {
      "execution_count": 0,
      "cell_type": "code",
      "metadata": {},
      "source": [
        "%pylab inline"
      ],
      "outputs": []
    },
    {
      "execution_count": 0,
      "cell_type": "code",
      "metadata": {},
      "source": [
        "import dataiku\nfrom dataiku import pandasutils as pdu\nimport pandas as pd"
      ],
      "outputs": []
    },
    {
      "execution_count": 0,
      "cell_type": "code",
      "metadata": {},
      "source": [
        "cleaned_tweets_encryption \u003d dataiku.Dataset(\"cleaned_tweets_encryption\")\ncleaned_tweets_encryption_df \u003d cleaned_tweets_encryption.get_dataframe()"
      ],
      "outputs": []
    },
    {
      "cell_type": "markdown",
      "metadata": {},
      "source": [
        "## 8.1. Retrait des duplicatas"
      ]
    },
    {
      "execution_count": 0,
      "cell_type": "code",
      "metadata": {},
      "source": [
        "# Remove duplicates based on the \u0027is_duplicated\u0027 column\ncleaned_tweets_encryption_df \u003d cleaned_tweets_encryption_df[cleaned_tweets_encryption_df[\u0027is_duplicated\u0027] \u003d\u003d 0]"
      ],
      "outputs": []
    },
    {
      "cell_type": "markdown",
      "metadata": {},
      "source": [
        "## 8.2. Filter to balance the data on label column"
      ]
    },
    {
      "execution_count": 0,
      "cell_type": "code",
      "metadata": {},
      "source": [
        "cleaned_tweets_encryption_df[\u0027label\u0027].value_counts()"
      ],
      "outputs": []
    },
    {
      "execution_count": 0,
      "cell_type": "code",
      "metadata": {},
      "source": [
        "min_count \u003d cleaned_tweets_encryption_df[\u0027label\u0027].value_counts().min()\nbalanced_df \u003d cleaned_tweets_encryption_df.groupby(\u0027label\u0027, group_keys\u003dFalse).apply(lambda x: x.sample(min(len(x), min_count))).reset_index(drop\u003dTrue)\n"
      ],
      "outputs": []
    },
    {
      "execution_count": 0,
      "cell_type": "code",
      "metadata": {},
      "source": [
        "cleaned_tweets_encryption_df[\u0027label\u0027].value_counts()"
      ],
      "outputs": []
    },
    {
      "cell_type": "markdown",
      "metadata": {},
      "source": [
        "## 8.3. Stemming"
      ]
    },
    {
      "execution_count": 0,
      "cell_type": "code",
      "metadata": {},
      "source": [
        "# Apply stemming to the \u0027text\u0027 column\nfrom nltk.stem import PorterStemmer\n\nstemmer \u003d PorterStemmer()\n\ndef apply_stemming(text):\n    words \u003d str(text).split()\n    stemmed_words \u003d [stemmer.stem(word) for word in words]\n    return \u0027 \u0027.join(stemmed_words)\n\nbalanced_df[\u0027text\u0027] \u003d balanced_df[\u0027text\u0027].apply(apply_stemming)"
      ],
      "outputs": []
    },
    {
      "execution_count": 0,
      "cell_type": "code",
      "metadata": {},
      "source": [
        "# Recipe outputs\nprepared_tweets_encryption \u003d dataiku.Dataset(\"prepared_tweets_encryption\")\nprepared_tweets_encryption.write_with_schema(balanced_df)"
      ],
      "outputs": []
    }
  ]
}