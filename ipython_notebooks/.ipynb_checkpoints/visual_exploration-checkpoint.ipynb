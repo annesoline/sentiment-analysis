{
  "metadata": {
    "kernelspec": {
      "display_name": ".venv",
      "language": "python",
      "name": "python3"
    },
    "language_info": {
      "codemirror_mode": {
        "name": "ipython",
        "version": 3
      },
      "file_extension": ".py",
      "mimetype": "text/x-python",
      "name": "python",
      "nbconvert_exporter": "python",
      "pygments_lexer": "ipython3",
      "version": "3.9.21"
    },
    "dkuGit": {
      "lastInteraction": 1742213538057,
      "gitReference": {
        "remote": "git@github.com:annesoline/sentiment-analysis.git",
        "checkout": "refs/heads/main",
        "remotePath": "visual_exploration.ipynb",
        "remoteLogin": "",
        "lastHash": "2fa6138d799b001ab2aaea8b0946955fbd531195",
        "lastTimestamp": 1742213513000,
        "isDirty": false
      }
    },
    "creator": "anne-soline.guilbert-ly@dataiku.com",
    "createdOn": 1742213538051,
    "tags": [],
    "customFields": {},
    "modifiedBy": "anne-soline.guilbert-ly@dataiku.com"
  },
  "nbformat": 4,
  "nbformat_minor": 2,
  "cells": [
    {
      "execution_count": 0,
      "cell_type": "code",
      "metadata": {},
      "source": [
        "import matplotlib.pyplot as plt\n",
        "import pandas as pd\n",
        "# Word Cloud Visualization\n",
        "import matplotlib.pyplot as plt\n",
        "from wordcloud import WordCloud\n",
        "import re\n",
        "pd.set_option(\u0027display.max_colwidth\u0027, None)\n"
      ],
      "outputs": []
    },
    {
      "execution_count": 0,
      "cell_type": "code",
      "metadata": {},
      "source": [
        "df \u003d pd.read_csv(\u0027training.1600000.processed.noemoticon.csv\u0027, encoding\u003d\u0027latin-1\u0027, names\u003d[\u0027target\u0027, \u0027id\u0027, \u0027date\u0027, \u0027flag\u0027, \u0027user\u0027, \u0027text\u0027])"
      ],
      "outputs": []
    },
    {
      "cell_type": "markdown",
      "metadata": {},
      "source": [
        "# 3. Visual exploration of textual data"
      ]
    },
    {
      "execution_count": 0,
      "cell_type": "code",
      "metadata": {},
      "source": [
        "# Filter the data randomly and keep 10000 rows\n",
        "df \u003d df.sample(n\u003d10000, random_state\u003d42)\n"
      ],
      "outputs": []
    },
    {
      "execution_count": 0,
      "cell_type": "code",
      "metadata": {},
      "source": [
        "# Combine all tweets into one text\n",
        "all_text \u003d \u0027 \u0027.join(df[\u0027text\u0027].astype(str))\n",
        "\n",
        "# Clean text - remove URLs, mentions, special chars\n",
        "all_text \u003d re.sub(r\u0027http\\S+|@\\S+|[^\\w\\s]\u0027, \u0027\u0027, all_text.lower())\n",
        "\n",
        "# Create word cloud\n",
        "wordcloud \u003d WordCloud(width\u003d1200, height\u003d600, \n",
        "                     background_color\u003d\u0027white\u0027,\n",
        "                     max_words\u003d100).generate(all_text)\n",
        "\n",
        "# Display the word cloud\n",
        "plt.figure(figsize\u003d(12, 6))\n",
        "plt.imshow(wordcloud, interpolation\u003d\u0027bilinear\u0027)\n",
        "plt.axis(\u0027off\u0027)\n",
        "plt.title(\u0027Most Frequent Words in Tweets\u0027)\n",
        "plt.show()\n"
      ],
      "outputs": []
    },
    {
      "execution_count": 0,
      "cell_type": "code",
      "metadata": {},
      "source": [],
      "outputs": []
    }
  ]
}