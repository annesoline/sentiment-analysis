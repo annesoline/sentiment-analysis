{
  "metadata": {
    "kernelspec": {
      "name": "py-dku-venv-edf_sentiment_analysis",
      "display_name": "Python (env edf_sentiment_analysis)",
      "language": "python"
    },
    "hide_input": false,
    "language_info": {
      "name": "python",
      "version": "3.9.20",
      "mimetype": "text/x-python",
      "codemirror_mode": {
        "name": "ipython",
        "version": 3
      },
      "pygments_lexer": "ipython3",
      "nbconvert_exporter": "python",
      "file_extension": ".py"
    },
    "creator": "anne-soline.guilbert-ly@dataiku.com",
    "customFields": {},
    "createdOn": 1742380638432,
    "tags": [],
    "modifiedBy": "anne-soline.guilbert-ly@dataiku.com"
  },
  "nbformat": 4,
  "nbformat_minor": 1,
  "cells": [
    {
      "execution_count": 0,
      "cell_type": "code",
      "metadata": {},
      "source": [
        "import dataiku\nimport pandas as pd\nimport numpy as np\nfrom textblob import TextBlob\n"
      ],
      "outputs": []
    },
    {
      "execution_count": 0,
      "cell_type": "code",
      "metadata": {},
      "source": [
        "def get_sentiment_label(text):\n    polarity \u003d TextBlob(text).sentiment.polarity\n    if polarity \u003c\u003d -0.6:\n        return \"very negative\"\n    elif -0.6 \u003c polarity \u003c\u003d -0.2:\n        return \"negative\"\n    elif -0.2 \u003c polarity \u003c\u003d 0.2:\n        return \"neutral\"\n    elif 0.2 \u003c polarity \u003c\u003d 0.6:\n        return \"positive\"\n    else:\n        return \"very positive\"\n\ndf[\u0027label\u0027] \u003d df[\u0027text\u0027].apply(get_sentiment_label)\n"
      ],
      "outputs": []
    }
  ]
}