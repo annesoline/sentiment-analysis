{
  "metadata": {
    "kernelspec": {
      "name": "py-dku-venv-edf_sentiment_analysis",
      "display_name": "Python (env edf_sentiment_analysis)",
      "language": "python"
    },
    "language_info": {
      "name": "python",
      "version": "3.9.20",
      "mimetype": "text/x-python",
      "codemirror_mode": {
        "name": "ipython",
        "version": 3
      },
      "pygments_lexer": "ipython3",
      "nbconvert_exporter": "python",
      "file_extension": ".py"
    },
    "hide_input": false,
    "creator": "anne-soline.guilbert-ly@dataiku.com",
    "dkuGit": {
      "lastInteraction": 1742230932865,
      "gitReference": {
        "remote": "git@github.com:annesoline/sentiment-analysis.git",
        "checkout": "refs/heads/main",
        "remotePath": "check_sensible_data.ipynb",
        "remoteLogin": "",
        "lastHash": "804e5cfc33c9ef3e4f1d1489c9df687ccb0c5950",
        "lastTimestamp": 1742230879000,
        "isDirty": false
      }
    },
    "customFields": {},
    "createdOn": 1742230932864,
    "tags": [],
    "modifiedBy": "anne-soline.guilbert-ly@dataiku.com"
  },
  "nbformat": 4,
  "nbformat_minor": 2,
  "cells": [
    {
      "execution_count": 0,
      "cell_type": "code",
      "metadata": {},
      "source": [
        "import matplotlib.pyplot as plt\nimport pandas as pd\nimport dataiku\npd.set_option(\u0027display.max_colwidth\u0027, None)\n"
      ],
      "outputs": []
    },
    {
      "execution_count": 0,
      "cell_type": "code",
      "metadata": {},
      "source": [
        "enhanced_tweets_informations \u003d dataiku.Dataset(\"enhanced_tweets_informations\")\ndf \u003d enhanced_tweets_informations.get_dataframe()\n"
      ],
      "outputs": []
    },
    {
      "execution_count": 0,
      "cell_type": "code",
      "metadata": {},
      "source": [
        "import nltk\nfrom nltk import ne_chunk, pos_tag, word_tokenize\nfrom nltk.chunk import conlltags2tree, tree2conlltags\nnltk.download(\u0027maxent_ne_chunker_tab\u0027)\nnltk.download(\u0027words\u0027)\n\n# Function to extract named entities from text\ndef extract_entities(text):\n    words \u003d word_tokenize(text)\n    tagged \u003d pos_tag(words)\n    entities \u003d ne_chunk(tagged)\n    return entities\n\n# Apply the function to the text column in your DataFrame\ndf \u003d df.sample(n\u003d10, random_state\u003d42)\n\ndf[\u0027named_entities\u0027] \u003d df[\u0027text\u0027].apply(extract_entities)\n"
      ],
      "outputs": []
    },
    {
      "execution_count": 0,
      "cell_type": "code",
      "metadata": {},
      "source": [
        "df.head()"
      ],
      "outputs": []
    },
    {
      "execution_count": 0,
      "cell_type": "code",
      "metadata": {},
      "source": [
        ""
      ],
      "outputs": []
    }
  ]
}