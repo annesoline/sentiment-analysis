{
  "metadata": {
    "kernelspec": {
      "name": "py-dku-containerized-venv-edf_sentiment_analysis-gpu-s-1-gpu",
      "display_name": "Python in GPU-S-1-GPU (env edf_sentiment_analysis)",
      "language": "python"
    },
    "hide_input": false,
    "creationTag": {
      "versionNumber": 0,
      "lastModifiedBy": {
        "login": "anne-soline.guilbert-ly@dataiku.com"
      },
      "lastModifiedOn": 1742400046150
    },
    "customFields": {},
    "dkuGit": {
      "lastInteraction": 0
    },
    "associatedRecipe": "recipe_from_notebook_8_prepare_and_filter_tweets",
    "createdOn": 1742400046150,
    "creator": "anne-soline.guilbert-ly@dataiku.com",
    "tags": [
      "recipe-editor"
    ],
    "modifiedBy": "anne-soline.guilbert-ly@dataiku.com"
  },
  "nbformat": 4,
  "nbformat_minor": 1,
  "cells": [
    {
      "cell_type": "markdown",
      "metadata": {
        "trusted": false
      },
      "source": [
        "# Packages"
      ]
    },
    {
      "execution_count": 0,
      "cell_type": "code",
      "metadata": {},
      "source": [
        "import dataiku\nfrom dataiku import pandasutils as pdu\nimport pandas as pd\n\nfrom nltk.stem import PorterStemmer"
      ],
      "outputs": []
    },
    {
      "cell_type": "markdown",
      "metadata": {},
      "source": [
        "# Input"
      ]
    },
    {
      "execution_count": 0,
      "cell_type": "code",
      "metadata": {},
      "source": [
        "cleaned_tweets_encryption \u003d dataiku.Dataset(\"cleaned_tweets\")\ncleaned_tweets_encryption_df \u003d cleaned_tweets_encryption.get_dataframe()"
      ],
      "outputs": []
    },
    {
      "cell_type": "markdown",
      "metadata": {},
      "source": [
        "## 8.1. Retrait des duplicatas"
      ]
    },
    {
      "execution_count": 0,
      "cell_type": "code",
      "metadata": {},
      "source": [
        "cleaned_tweets_encryption_df \u003d cleaned_tweets_encryption_df[cleaned_tweets_encryption_df[\u0027is_duplicated\u0027] \u003d\u003d 0]"
      ],
      "outputs": []
    },
    {
      "cell_type": "markdown",
      "metadata": {},
      "source": [
        "## 8.2. Stemming"
      ]
    },
    {
      "execution_count": 0,
      "cell_type": "code",
      "metadata": {},
      "source": [
        "# Apply stemming to the \u0027text\u0027 column\n\nstemmer \u003d PorterStemmer()\n\ndef apply_stemming(text):\n    words \u003d str(text).split()\n    stemmed_words \u003d [stemmer.stem(word) for word in words]\n    return \u0027 \u0027.join(stemmed_words)\n\ncleaned_tweets_encryption_df[\u0027text\u0027] \u003d cleaned_tweets_encryption_df[\u0027text\u0027].apply(apply_stemming)"
      ],
      "outputs": []
    },
    {
      "cell_type": "markdown",
      "metadata": {},
      "source": [
        "# Output"
      ]
    },
    {
      "execution_count": 0,
      "cell_type": "code",
      "metadata": {},
      "source": [
        "# Recipe outputs\nprepared_tweets_encryption \u003d dataiku.Dataset(\"prepared_tweets\")\nprepared_tweets_encryption.write_with_schema(cleaned_tweets_encryption_df)"
      ],
      "outputs": []
    }
  ]
}