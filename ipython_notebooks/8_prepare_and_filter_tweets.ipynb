{
  "nbformat": 4,
  "nbformat_minor": 0,
  "metadata": {
    "kernelspec": {
      "display_name": "Python in CPU-XL-2-cpu-16Gb-Ram (env edf_sentiment_analysis)",
      "language": "python",
      "name": "py-dku-containerized-venv-edf_sentiment_analysis-cpu-xl-2-cpu-16gb-ram"
    },
    "associatedRecipe": "recipe_from_notebook_8_prepare_and_filter_tweets",
    "dkuGit": {
      "lastInteraction": 0
    },
    "creationTag": {
      "versionNumber": 0,
      "lastModifiedBy": {
        "login": "anne-soline.guilbert-ly@dataiku.com"
      },
      "lastModifiedOn": 1742400046150
    },
    "creator": "anne-soline.guilbert-ly@dataiku.com",
    "createdOn": 1742400046150,
    "tags": [
      "recipe-editor"
    ],
    "customFields": {}
  },
  "cells": [
    {
      "cell_type": "code",
      "metadata": {},
      "outputs": [],
      "execution_count": 0,
      "source": [
        "%pylab inline"
      ]
    },
    {
      "cell_type": "code",
      "metadata": {},
      "outputs": [],
      "execution_count": 0,
      "source": [
        "import dataiku\n",
        "from dataiku import pandasutils as pdu\n",
        "import pandas as pd"
      ]
    },
    {
      "cell_type": "code",
      "metadata": {},
      "outputs": [],
      "execution_count": 0,
      "source": [
        "cleaned_tweets_encryption \u003d dataiku.Dataset(\"cleaned_tweets_encryption\")\n",
        "cleaned_tweets_encryption_df \u003d cleaned_tweets_encryption.get_dataframe()"
      ]
    },
    {
      "cell_type": "markdown",
      "metadata": {},
      "source": [
        "## 8.1. Retrait des duplicatas"
      ]
    },
    {
      "cell_type": "code",
      "metadata": {},
      "outputs": [],
      "execution_count": 0,
      "source": [
        "# Remove duplicates based on the \u0027is_duplicated\u0027 column\n",
        "cleaned_tweets_encryption_df \u003d cleaned_tweets_encryption_df[cleaned_tweets_encryption_df[\u0027is_duplicated\u0027] \u003d\u003d 0]"
      ]
    },
    {
      "cell_type": "markdown",
      "metadata": {},
      "source": [
        "## 8.2. Stemming"
      ]
    },
    {
      "cell_type": "code",
      "metadata": {},
      "outputs": [],
      "execution_count": 0,
      "source": [
        "# Apply stemming to the \u0027text\u0027 column\n",
        "from nltk.stem import PorterStemmer\n",
        "\n",
        "stemmer \u003d PorterStemmer()\n",
        "\n",
        "def apply_stemming(text):\n",
        "    words \u003d str(text).split()\n",
        "    stemmed_words \u003d [stemmer.stem(word) for word in words]\n",
        "    return \u0027 \u0027.join(stemmed_words)\n",
        "\n",
        "cleaned_tweets_encryption_df[\u0027text\u0027] \u003d cleaned_tweets_encryption_df[\u0027text\u0027].apply(apply_stemming)"
      ]
    },
    {
      "cell_type": "code",
      "metadata": {},
      "outputs": [],
      "execution_count": 0,
      "source": [
        "# Recipe outputs\n",
        "prepared_tweets_encryption \u003d dataiku.Dataset(\"prepared_tweets_encryption\")\n",
        "prepared_tweets_encryption.write_with_schema(cleaned_tweets_encryption_df)"
      ]
    }
  ]
}