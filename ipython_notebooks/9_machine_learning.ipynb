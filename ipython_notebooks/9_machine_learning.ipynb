{
  "metadata": {
    "kernelspec": {
      "name": "py-dku-containerized-venv-edf_sentiment_analysis-cpu-xl-2-cpu-16gb-ram",
      "display_name": "Python in CPU-XL-2-cpu-16Gb-Ram (env edf_sentiment_analysis)",
      "language": "python"
    },
    "hide_input": false,
    "language_info": {
      "name": "python",
      "version": "3.9.20",
      "mimetype": "text/x-python",
      "codemirror_mode": {
        "name": "ipython",
        "version": 3
      },
      "pygments_lexer": "ipython3",
      "nbconvert_exporter": "python",
      "file_extension": ".py"
    },
    "creator": "anne-soline.guilbert-ly@dataiku.com",
    "customFields": {},
    "createdOn": 1742812779766,
    "tags": [
      "recipe-editor"
    ],
    "modifiedBy": "anne-soline.guilbert-ly@dataiku.com",
    "associatedRecipe": "recipe_from_notebook_9_machine_learning"
  },
  "nbformat": 4,
  "nbformat_minor": 1,
  "cells": [
    {
      "execution_count": 0,
      "cell_type": "code",
      "metadata": {},
      "source": [
        "import dataiku\nfrom dataiku import pandasutils as pdu\nimport pandas as pd"
      ],
      "outputs": []
    },
    {
      "execution_count": 0,
      "cell_type": "code",
      "metadata": {},
      "source": [
        "# Example: load a DSS dataset as a Pandas dataframe\nprepared_tweets_encryption \u003d dataiku.Dataset(\"prepared_tweets_encryption\")\ndf \u003d prepared_tweets_encryption.get_dataframe()"
      ],
      "outputs": []
    },
    {
      "execution_count": 0,
      "cell_type": "code",
      "metadata": {},
      "source": [
        "from sklearn.linear_model import LogisticRegression\nfrom sklearn.metrics import accuracy_score, classification_report, roc_auc_score\nfrom sklearn.feature_extraction.text import TfidfVectorizer\nfrom sklearn.model_selection import StratifiedKFold\nfrom sklearn.preprocessing import StandardScaler\nimport numpy as np\n\ndef apply_and_evaluate_model_with_tfidf_stratified_kfold(df, label_col\u003d\u0027label\u0027, n_splits\u003d5, max_features\u003d5000):\n\n    # Step 2: Split dataset into features and target\n    # Handle date, user, and language as dummy variables\n    X \u003d pd.get_dummies(df[[\u0027date\u0027, \u0027user\u0027, \u0027language\u0027]], drop_first\u003dTrue)\n    \n    # Handle numerical columns with standard scaling\n    numerical_cols \u003d [\u0027tweet_length_chars\u0027, \u0027tweet_length_words\u0027, \u0027repetitive_letters\u0027, \n                      \u0027mention_only\u0027, \u0027unreadable\u0027, \u0027too_many_numbers\u0027]\n    scaler \u003d StandardScaler()\n    X_numerical \u003d scaler.fit_transform(df[numerical_cols].fillna(0))\n    X_numerical \u003d pd.DataFrame(X_numerical, columns\u003dnumerical_cols, index\u003ddf.index)\n    \n    # Concatenate all features\n    X \u003d pd.concat([X, X_numerical], axis\u003d1)\n    y \u003d df[label_col]\n\n    # Step 3: Apply TF-IDF transformation on the text column\n    tfidf \u003d TfidfVectorizer(\n        min_df\u003d0.01,  # Adjusted min_df to a lower value\n        max_df\u003d0.9,   # Adjusted max_df to a higher value\n        ngram_range\u003d(1, 1),\n        stop_words\u003dNone\n    )\n\n    try:\n        X_tfidf \u003d tfidf.fit_transform(df[\u0027text\u0027].fillna(\u0027\u0027))\n    except ValueError as e:\n        print(f\"Error during TF-IDF transformation: {e}\")\n        return None, None, None\n\n    # Combine TF-IDF features with other features\n    X_combined \u003d np.hstack((X.values, X_tfidf.toarray()))\n\n    # Step 4: Stratified K-Fold Cross Validation\n    skf \u003d StratifiedKFold(n_splits\u003dn_splits, shuffle\u003dTrue, random_state\u003d42)\n    accuracies \u003d []\n    reports \u003d []\n    roc_aucs \u003d []\n\n    for train_index, test_index in skf.split(X_combined, y):\n        X_train, X_test \u003d X_combined[train_index], X_combined[test_index]\n        y_train, y_test \u003d y.iloc[train_index], y.iloc[test_index]\n\n        # Define the model\n        model \u003d LogisticRegression(max_iter\u003d1000)\n\n        # Train the model\n        model.fit(X_train, y_train)\n\n        # Predict on the test set\n        y_pred \u003d model.predict(X_test)\n        y_pred_proba \u003d model.predict_proba(X_test)\n\n        # Evaluate the model\n        accuracy \u003d accuracy_score(y_test, y_pred)\n        report \u003d classification_report(y_test, y_pred, output_dict\u003dTrue)\n        \n        try:\n            roc_auc \u003d roc_auc_score(y_test, y_pred_proba, multi_class\u003d\u0027ovr\u0027)\n        except ValueError as e:\n            print(f\"Error during ROC AUC calculation: {e}\")\n            roc_auc \u003d None\n\n        accuracies.append(accuracy)\n        reports.append(report)\n        roc_aucs.append(roc_auc)\n\n    return np.mean(accuracies), reports, np.mean([auc for auc in roc_aucs if auc is not None])\n\n"
      ],
      "outputs": []
    },
    {
      "cell_type": "markdown",
      "metadata": {},
      "source": [
        "# Apply to prepared_tweets_encryption"
      ]
    },
    {
      "execution_count": 0,
      "cell_type": "code",
      "metadata": {},
      "source": [
        "# Apply the function to each DataFrame\naccuracy_encrypted, report_encrypted, roc_auc_encrypted \u003d apply_and_evaluate_model_with_tfidf_stratified_kfold(prepared_tweets_encryption)\n"
      ],
      "outputs": []
    },
    {
      "execution_count": 0,
      "cell_type": "code",
      "metadata": {},
      "source": [
        "if accuracy_encrypted is not None:\n    encrypted_metrics_df \u003d pd.DataFrame({\n        \u0027Metric\u0027: [\u0027Average Accuracy\u0027, \u0027Average ROC AUC\u0027],\n        \u0027Value\u0027: [accuracy_encrypted, roc_auc_encrypted]\n    })\n    print(encrypted_metrics_df)\n"
      ],
      "outputs": []
    },
    {
      "execution_count": 0,
      "cell_type": "code",
      "metadata": {},
      "source": [
        "encrypted_metrics_per_fold \u003d pd.DataFrame()\n\nfor i, report in enumerate(report_encrypted):\n    if isinstance(report, dict):\n        # Remove \u0027accuracy\u0027, \u0027macro avg\u0027, and \u0027weighted avg\u0027 from the report\n        report.pop(\u0027accuracy\u0027, None)\n        report.pop(\u0027macro avg\u0027, None)\n        report.pop(\u0027weighted avg\u0027, None)\n        \n        report_df \u003d pd.DataFrame.from_dict(report).transpose()\n        report_df[\u0027class\u0027] \u003d report_df.index  # Save the key of each dictionary into a new column called \"class\"\n        report_df[\u0027Fold\u0027] \u003d i + 1  # Add the fold number to the DataFrame\n        encrypted_metrics_per_fold \u003d pd.concat([encrypted_metrics_per_fold, report_df], ignore_index\u003dTrue)\n    else:\n        print(f\"Warning: Report for Fold {i+1} is not a dictionary and cannot be converted to a DataFrame.\")\n"
      ],
      "outputs": []
    },
    {
      "cell_type": "markdown",
      "metadata": {},
      "source": [
        "# Apply to prepared_tweets_removal"
      ]
    },
    {
      "execution_count": 0,
      "cell_type": "code",
      "metadata": {},
      "source": [
        "accuracy_removed, report_removed, roc_auc_removed \u003d apply_and_evaluate_model_with_tfidf_stratified_kfold(prepared_tweets_removal)\n"
      ],
      "outputs": []
    },
    {
      "execution_count": 0,
      "cell_type": "code",
      "metadata": {},
      "source": [
        "if accuracy_removed is not None:\n    removed_metrics_df \u003d pd.DataFrame({\n        \u0027Metric\u0027: [\u0027Average Accuracy\u0027, \u0027Average ROC AUC\u0027],\n        \u0027Value\u0027: [accuracy_removed, roc_auc_removed]\n    })\n    print(removed_metrics_df)\n"
      ],
      "outputs": []
    },
    {
      "execution_count": 0,
      "cell_type": "code",
      "metadata": {},
      "source": [
        "removed_data_metrics_per_fold \u003d pd.DataFrame()\n\nfor i, report in enumerate(report_removed):\n    if isinstance(report, dict):\n        # Remove \u0027accuracy\u0027, \u0027macro avg\u0027, and \u0027weighted avg\u0027 from the report\n        report.pop(\u0027accuracy\u0027, None)\n        report.pop(\u0027macro avg\u0027, None)\n        report.pop(\u0027weighted avg\u0027, None)\n        \n        report_df \u003d pd.DataFrame.from_dict(report).transpose()\n        report_df[\u0027class\u0027] \u003d report_df.index  # Save the key of each dictionary into a new column called \"class\"\n        report_df[\u0027Fold\u0027] \u003d i + 1  # Add the fold number to the DataFrame\n        removed_data_metrics_per_fold \u003d pd.concat([removed_data_metrics_per_fold, report_df], ignore_index\u003dTrue)\n    else:\n        print(f\"Warning: Report for Fold {i+1} is not a dictionary and cannot be converted to a DataFrame.\")\n"
      ],
      "outputs": []
    },
    {
      "execution_count": 0,
      "cell_type": "code",
      "metadata": {},
      "source": [
        ""
      ],
      "outputs": []
    },
    {
      "execution_count": 0,
      "cell_type": "code",
      "metadata": {},
      "source": [
        ""
      ],
      "outputs": []
    }
  ]
}