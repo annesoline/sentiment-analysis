{
  "metadata": {
    "kernelspec": {
      "name": "py-dku-containerized-venv-edf_sentiment_analysis-cpu-xl-2-cpu-16gb-ram",
      "display_name": "Python in CPU-XL-2-cpu-16Gb-Ram (env edf_sentiment_analysis)",
      "language": "python"
    },
    "hide_input": false,
    "language_info": {
      "name": "python",
      "version": "3.9.20",
      "mimetype": "text/x-python",
      "codemirror_mode": {
        "name": "ipython",
        "version": 3
      },
      "pygments_lexer": "ipython3",
      "nbconvert_exporter": "python",
      "file_extension": ".py"
    },
    "creator": "anne-soline.guilbert-ly@dataiku.com",
    "customFields": {},
    "createdOn": 1742380638432,
    "tags": [
      "recipe-editor"
    ],
    "associatedRecipe": "5_data_labelling",
    "modifiedBy": "anne-soline.guilbert-ly@dataiku.com"
  },
  "nbformat": 4,
  "nbformat_minor": 1,
  "cells": [
    {
      "execution_count": 0,
      "cell_type": "code",
      "metadata": {},
      "source": [
        "import dataiku\nimport pandas as pd\nimport numpy as np\nfrom textblob import TextBlob\n"
      ],
      "outputs": []
    },
    {
      "execution_count": 0,
      "cell_type": "code",
      "metadata": {},
      "source": [
        "enhanced_tweets_informations \u003d dataiku.Dataset(\"enhanced_tweets_informations\")\nwhole_df \u003d enhanced_tweets_informations.get_dataframe()\n"
      ],
      "outputs": []
    },
    {
      "execution_count": 0,
      "cell_type": "code",
      "metadata": {},
      "source": [
        "\ndef get_sentiment_label(text):\n    polarity \u003d TextBlob(text).sentiment.polarity\n    if polarity \u003c\u003d -0.6:\n        return \"very negative\"\n    elif -0.6 \u003c polarity \u003c\u003d -0.2:\n        return \"negative\"\n    elif -0.2 \u003c polarity \u003c\u003d 0.2:\n        return \"neutral\"\n    elif 0.2 \u003c polarity \u003c\u003d 0.6:\n        return \"positive\"\n    else:\n        return \"very positive\"\n"
      ],
      "outputs": []
    },
    {
      "execution_count": 0,
      "cell_type": "code",
      "metadata": {},
      "source": [
        "whole_df[\u0027label\u0027] \u003d whole_df[\"text\"].apply(get_sentiment_label)"
      ],
      "outputs": []
    },
    {
      "execution_count": 0,
      "cell_type": "code",
      "metadata": {},
      "source": [
        "whole_df \u003d whole_df[[\u0027label\u0027, \u0027target\u0027, \u0027id\u0027, \u0027date\u0027, \u0027flag\u0027, \u0027user\u0027, \u0027text\u0027, \u0027is_duplicated\u0027, \u0027tweet_length_chars\u0027, \u0027tweet_length_words\u0027, \u0027repetitive_letters\u0027, \u0027mention_only\u0027, \u0027unreadable\u0027, \u0027too_many_numbers\u0027, \u0027language\u0027]]\nwhole_df.head(10)"
      ],
      "outputs": []
    },
    {
      "execution_count": 0,
      "cell_type": "code",
      "metadata": {},
      "source": [
        "\nfiltered_tweets \u003d dataiku.Dataset(\"filtered_tweets\")\ndf \u003d filtered_tweets.get_dataframe()\n\ndf[\u0027label\u0027] \u003d df[\u0027text\u0027].apply(get_sentiment_label)\n\ndf.head(10)"
      ],
      "outputs": []
    },
    {
      "execution_count": 0,
      "cell_type": "code",
      "metadata": {},
      "source": [
        ""
      ],
      "outputs": []
    }
  ]
}