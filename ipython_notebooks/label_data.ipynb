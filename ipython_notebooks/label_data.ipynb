{
  "metadata": {
    "kernelspec": {
      "name": "py-dku-venv-edf_sentiment_analysis",
      "display_name": "Python (env edf_sentiment_analysis)",
      "language": "python"
    },
    "hide_input": false,
    "language_info": {
      "name": "python",
      "version": "3.9.20",
      "mimetype": "text/x-python",
      "codemirror_mode": {
        "name": "ipython",
        "version": 3
      },
      "pygments_lexer": "ipython3",
      "nbconvert_exporter": "python",
      "file_extension": ".py"
    },
    "creator": "anne-soline.guilbert-ly@dataiku.com",
    "customFields": {},
    "createdOn": 1742380638432,
    "tags": [],
    "modifiedBy": "anne-soline.guilbert-ly@dataiku.com"
  },
  "nbformat": 4,
  "nbformat_minor": 1,
  "cells": [
    {
      "execution_count": 0,
      "cell_type": "code",
      "metadata": {},
      "source": [
        "import dataiku\nimport os\nimport io\nimport pandas as pd\nimport numpy as np\nimport torch\nfrom sentence_transformers.losses import CosineSimilarityLoss\nfrom setfit import SetFitModel, SetFitTrainer\nfrom datasets import Dataset\n"
      ],
      "outputs": []
    },
    {
      "execution_count": 0,
      "cell_type": "code",
      "metadata": {},
      "source": [
        "\ndf \u003d dataiku.Dataset(\"train_small\").get_dataframe()\nlabels \u003d sorted(list(np.unique(df[\"label_text\"])))\nlabel2label_id \u003d {labels[i]: i for i in range(len(labels))}\ndf[\"label\"] \u003d df[\"label_text\"].apply(lambda s: label2label_id[s])\nlabels_df \u003d pd.DataFrame.from_dict({\n    \"label\": list(range(len(labels))),\n    \"label_text\": labels\n})\ndataiku.Dataset(\"labels\").write_with_schema(labels_df)\n\n# "
      ],
      "outputs": []
    },
    {
      "execution_count": 0,
      "cell_type": "code",
      "metadata": {},
      "source": [
        "-------------------------------------------------------------------------------- NOTEBOOK-CELL: CODE\ntrain_ds \u003d Dataset.from_pandas(df)\n\nfolder \u003d dataiku.Folder(\"Ey4Ge7PK\")\n\nmodel \u003d SetFitModel.from_pretrained(\"sentence-transformers/paraphrase-mpnet-base-v2\")\n\n# -------------------------------------------------------------------------------- NOTEBOOK-CELL: CODE\ntrainer \u003d SetFitTrainer(\n    model\u003dmodel,\n    train_dataset\u003dtrain_ds,\n    loss_class\u003dCosineSimilarityLoss,\n    batch_size\u003d32,\n    num_iterations\u003d20,\n    num_epochs\u003d20\n)\n\ntrainer.train()\n\nbuffer \u003d io.BytesIO()\ntorch.save(model, buffer)\nfolder.upload_data(\"model.pt\", buffer.getvalue())\nbuffer.close()"
      ],
      "outputs": []
    }
  ]
}