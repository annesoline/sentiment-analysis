{
  "metadata": {
    "kernelspec": {
      "display_name": ".venv",
      "language": "python",
      "name": "python3"
    },
    "language_info": {
      "codemirror_mode": {
        "name": "ipython",
        "version": 3
      },
      "file_extension": ".py",
      "mimetype": "text/x-python",
      "name": "python",
      "nbconvert_exporter": "python",
      "pygments_lexer": "ipython3",
      "version": "3.9.21"
    },
    "creator": "anne-soline.guilbert-ly@dataiku.com",
    "createdOn": 1742456524925,
    "tags": [],
    "customFields": {}
  },
  "nbformat": 4,
  "nbformat_minor": 2,
  "cells": [
    {
      "execution_count": 0,
      "cell_type": "code",
      "metadata": {},
      "source": [
        "import pandas as pd"
      ],
      "outputs": []
    },
    {
      "execution_count": 0,
      "cell_type": "code",
      "metadata": {},
      "source": [
        "df \u003d pd.read_csv(\u0027filtered_tweets.csv\u0027, encoding\u003d\u0027latin-1\u0027, names\u003d[\u0027target\u0027, \u0027id\u0027, \u0027date\u0027, \u0027flag\u0027, \u0027user\u0027, \u0027text\u0027, \u0027is_duplicated\u0027, \u0027tweet_length_chars\u0027, \u0027tweet_length_words\u0027, \u0027repetitive_letters\u0027, \u0027mention_only\u0027, \u0027unreadable\u0027, \u0027too_many_numbers\u0027, \u0027language\u0027])"
      ],
      "outputs": []
    },
    {
      "execution_count": 0,
      "cell_type": "code",
      "metadata": {},
      "source": [
        "from textblob import TextBlob\n",
        "\n",
        "def get_sentiment_label(text):\n",
        "    polarity \u003d TextBlob(text).sentiment.polarity\n",
        "    if polarity \u003c\u003d -0.6:\n",
        "        return \"very negative\"\n",
        "    elif -0.6 \u003c polarity \u003c\u003d -0.2:\n",
        "        return \"negative\"\n",
        "    elif -0.2 \u003c polarity \u003c\u003d 0.2:\n",
        "        return \"neutral\"\n",
        "    elif 0.2 \u003c polarity \u003c\u003d 0.6:\n",
        "        return \"positive\"\n",
        "    else:\n",
        "        return \"very positive\"\n",
        "\n",
        "df[\u0027label\u0027] \u003d df[\u0027text\u0027].apply(get_sentiment_label)\n"
      ],
      "outputs": []
    },
    {
      "execution_count": 0,
      "cell_type": "code",
      "metadata": {},
      "source": [
        "df.head()"
      ],
      "outputs": []
    },
    {
      "execution_count": 0,
      "cell_type": "code",
      "metadata": {},
      "source": [
        "whole_df \u003d pd.read_csv(\u0027enhanced_tweets_informations.csv\u0027, encoding\u003d\u0027latin-1\u0027, names\u003d[\u0027target\u0027, \u0027id\u0027, \u0027date\u0027, \u0027flag\u0027, \u0027user\u0027, \u0027text\u0027, \u0027is_duplicated\u0027, \u0027tweet_length_chars\u0027, \u0027tweet_length_words\u0027, \u0027repetitive_letters\u0027, \u0027mention_only\u0027, \u0027unreadable\u0027, \u0027too_many_numbers\u0027, \u0027language\u0027])"
      ],
      "outputs": []
    },
    {
      "execution_count": 0,
      "cell_type": "code",
      "metadata": {},
      "source": [
        "whole_df[\u0027label\u0027] \u003d whole_df[\"text\"].apply(get_sentiment_label)"
      ],
      "outputs": []
    },
    {
      "execution_count": 0,
      "cell_type": "code",
      "metadata": {},
      "source": [
        "whole_df \u003d whole_df[[\u0027label\u0027, \u0027target\u0027, \u0027id\u0027, \u0027date\u0027, \u0027flag\u0027, \u0027user\u0027, \u0027text\u0027, \u0027is_duplicated\u0027, \u0027tweet_length_chars\u0027, \u0027tweet_length_words\u0027, \u0027repetitive_letters\u0027, \u0027mention_only\u0027, \u0027unreadable\u0027, \u0027too_many_numbers\u0027, \u0027language\u0027]]\n",
        "whole_df.head(10)"
      ],
      "outputs": []
    },
    {
      "execution_count": 0,
      "cell_type": "code",
      "metadata": {},
      "source": [
        "whole_df.to_csv(\u0027./df_labeled.csv\u0027, index\u003dFalse, encoding\u003d\u0027utf-8\u0027)\n"
      ],
      "outputs": []
    },
    {
      "execution_count": 0,
      "cell_type": "code",
      "metadata": {},
      "source": [],
      "outputs": []
    }
  ]
}