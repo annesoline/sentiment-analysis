{
  "metadata": {
    "kernelspec": {
      "name": "py-dku-venv-edf_sentiment_analysis",
      "display_name": "Python (env edf_sentiment_analysis)",
      "language": "python"
    },
    "hide_input": false,
    "language_info": {
      "name": "python",
      "version": "3.9.20",
      "mimetype": "text/x-python",
      "codemirror_mode": {
        "name": "ipython",
        "version": 3
      },
      "pygments_lexer": "ipython3",
      "nbconvert_exporter": "python",
      "file_extension": ".py"
    },
    "customFields": {},
    "createdOn": 1743164265805,
    "creator": "anne-soline.guilbert-ly@dataiku.com",
    "tags": [],
    "modifiedBy": "anne-soline.guilbert-ly@dataiku.com"
  },
  "nbformat": 4,
  "nbformat_minor": 1,
  "cells": [
    {
      "cell_type": "markdown",
      "metadata": {
        "trusted": false
      },
      "source": [
        "# Packages"
      ]
    },
    {
      "execution_count": 0,
      "cell_type": "code",
      "metadata": {},
      "source": [
        "import dataiku\n\nimport pandas as pd\n\nfrom sklearn.metrics import accuracy_score, precision_score, recall_score, f1_score, roc_auc_score\n\nfrom edf_commons.modelling import preprocess_data\n\nimport tempfile\nfrom datetime import datetime\nimport shutil\nimport pickle\nimport os"
      ],
      "outputs": []
    },
    {
      "cell_type": "markdown",
      "metadata": {},
      "source": [
        "# Global variables"
      ]
    },
    {
      "execution_count": 0,
      "cell_type": "code",
      "metadata": {},
      "source": [
        "project \u003d dataiku.Project()\nvariables \u003d project.get_variables()\nMODELS_PATH \u003d variables[\"standard\"][\"models_path\"]\nMODEL_FOLDER_ID \u003d variables[\"standard\"][\"model_folder_id\"]\nMODELS_DATA_FOLDER \u003d dataiku.Folder(MODEL_FOLDER_ID)"
      ],
      "outputs": []
    }
  ]
}