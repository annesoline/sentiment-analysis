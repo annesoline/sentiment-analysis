{
  "metadata": {
    "kernelspec": {
      "name": "py-dku-venv-edf_sentiment_analysis",
      "display_name": "Python (env edf_sentiment_analysis)",
      "language": "python"
    },
    "hide_input": false,
    "language_info": {
      "name": "python",
      "version": "3.9.20",
      "mimetype": "text/x-python",
      "codemirror_mode": {
        "name": "ipython",
        "version": 3
      },
      "pygments_lexer": "ipython3",
      "nbconvert_exporter": "python",
      "file_extension": ".py"
    },
    "customFields": {},
    "createdOn": 1743164265805,
    "creator": "anne-soline.guilbert-ly@dataiku.com",
    "tags": [],
    "modifiedBy": "anne-soline.guilbert-ly@dataiku.com"
  },
  "nbformat": 4,
  "nbformat_minor": 1,
  "cells": [
    {
      "cell_type": "markdown",
      "metadata": {
        "trusted": false
      },
      "source": [
        "# Packages"
      ]
    },
    {
      "execution_count": 0,
      "cell_type": "code",
      "metadata": {},
      "source": [
        "import dataiku\n\nimport pandas as pd\n\nfrom sklearn.metrics import accuracy_score, precision_score, recall_score, f1_score, roc_auc_score\n\nfrom edf_commons.modelling import preprocess_data\n\nimport tempfile\nfrom datetime import datetime\nimport shutil\nimport pickle\nimport os"
      ],
      "outputs": []
    },
    {
      "cell_type": "markdown",
      "metadata": {},
      "source": [
        "# Global variables"
      ]
    },
    {
      "execution_count": 0,
      "cell_type": "code",
      "metadata": {},
      "source": [
        "project \u003d dataiku.Project()\nvariables \u003d project.get_variables()\nMODEL_FOLDER_ID \u003d variables[\"standard\"][\"df_model_folder_id\"]\nMODELS_DATA_FOLDER \u003d dataiku.Folder(MODEL_FOLDER_ID)"
      ],
      "outputs": []
    },
    {
      "cell_type": "markdown",
      "metadata": {},
      "source": [
        "# Input"
      ]
    },
    {
      "execution_count": 0,
      "cell_type": "code",
      "metadata": {},
      "source": [
        "tweets_eval \u003d dataiku.Dataset(\"tweets_eval\")\neval_df \u003d tweets_eval.get_dataframe()"
      ],
      "outputs": []
    },
    {
      "execution_count": 0,
      "cell_type": "code",
      "metadata": {},
      "source": [
        "# Get the Logistic Regression model\ndl_path \u003d MODELS_DATA_FOLDER.list_paths_in_partition()[-1]\nlr_name \u003d model_path.split(\"/\")[-1].split(\".pkl\")[0]\n\n# load latest TFIDF model\nwith tempfile.TemporaryDirectory() as temp_directory_name:\n\n    local_file_path \u003d temp_directory_name + \"/\" + lr_name\n\n    # Copy file from remote to local\n    with MODELS_DATA_FOLDER.get_download_stream(lr_path) as f_remote, open(local_file_path,\u0027wb\u0027) as f_local:\n        shutil.copyfileobj(f_remote, f_local)\n\n    # Load the pipeline\n    with open(local_file_path, \u0027rb\u0027) as file:\n        lr_model \u003d pickle.load(file)"
      ],
      "outputs": []
    }
  ]
}