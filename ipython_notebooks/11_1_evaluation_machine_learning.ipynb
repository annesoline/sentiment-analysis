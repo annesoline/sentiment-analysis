{
  "metadata": {
    "kernelspec": {
      "name": "py-dku-containerized-venv-edf_sentiment_analysis-cpu-xl-2-cpu-16gb-ram",
      "display_name": "Python in CPU-XL-2-cpu-16Gb-Ram (env edf_sentiment_analysis)",
      "language": "python"
    },
    "hide_input": false,
    "language_info": {
      "name": "python",
      "version": "3.9.20",
      "mimetype": "text/x-python",
      "codemirror_mode": {
        "name": "ipython",
        "version": 3
      },
      "pygments_lexer": "ipython3",
      "nbconvert_exporter": "python",
      "file_extension": ".py"
    },
    "customFields": {},
    "createdOn": 1743077160706,
    "creator": "anne-soline.guilbert-ly@dataiku.com",
    "tags": [],
    "modifiedBy": "anne-soline.guilbert-ly@dataiku.com"
  },
  "nbformat": 4,
  "nbformat_minor": 1,
  "cells": [
    {
      "cell_type": "markdown",
      "metadata": {
        "trusted": false
      },
      "source": [
        "# Evaluate"
      ]
    },
    {
      "execution_count": 0,
      "cell_type": "code",
      "metadata": {},
      "source": [
        "import pickle\nfrom sklearn.metrics import accuracy_score, precision_score, recall_score, f1_score, roc_auc_score\n\n# Load the data from the CSV file\ndata_path \u003d \u0027data/tweets_encryption_test.csv\u0027\ndata \u003d pd.read_csv(data_path)\n\n# Convert the data to a DataFrame\ntweets_eval \u003d dataiku.Dataset(\"tweets_eval\")\neval_df \u003d tweets_eval.get_dataframe()\n\nX_eval, y_eval, _ \u003d preprocess_data(eval_df, tfidf)\n\neval_prediction_results_df \u003d eval_df.copy()\n\neval_prediction_results_df[\u0027predicted\u0027] \u003d lr_model.predict(X_eval)\neval_prediction_results_df[\u0027probability\u0027] \u003d lr_model.predict_proba(X_eval)[:, 1]\neval_prediction_results_df[\u0027correct_prediction\u0027] \u003d results_df[\u0027label\u0027] \u003d\u003d results_df[\u0027predicted\u0027]\n\n# Calculate evaluation metrics\naccuracy \u003d accuracy_score(y_eval, results_df[\u0027predicted\u0027])\nprecision \u003d precision_score(y_eval, results_df[\u0027predicted\u0027], average\u003d\u0027weighted\u0027)\nrecall \u003d recall_score(y_eval, results_df[\u0027predicted\u0027], average\u003d\u0027weighted\u0027)\nf1 \u003d f1_score(y_eval, results_df[\u0027predicted\u0027], average\u003d\u0027weighted\u0027)\nroc_auc \u003d roc_auc_score(y_eval, lr_model.predict_proba(X_eval), multi_class\u003d\u0027ovr\u0027, average\u003d\u0027weighted\u0027)\n\n# Print the evaluation metrics\nprint(f\"Accuracy: {accuracy}\")\nprint(f\"Precision: {precision}\")\nprint(f\"Recall: {recall}\")\nprint(f\"F1 Score: {f1}\")\nprint(f\"ROC AUC: {roc_auc}\")\n\neval_metrics_df \u003d pd.DataFrame({\n    \u0027Mean Accuracy\u0027: [accuracy],\n    \u0027Mean Precision\u0027: [precision],\n    \u0027Mean Recall\u0027: [recall],\n    \u0027Mean F1 Score\u0027: [f1],\n    \u0027Mean ROC AUC\u0027: [roc_auc],\n    \u0027Model Name\u0027: [\u0027Logistic Regression\u0027],\n    \u0027Date and Time\u0027: [datetime.now().strftime(\u0027%Y-%m-%d %H:%M:%S\u0027)]\n})\n"
      ],
      "outputs": []
    },
    {
      "cell_type": "markdown",
      "metadata": {
        "trusted": false
      },
      "source": [
        "# Create output datasets"
      ]
    },
    {
      "execution_count": 0,
      "cell_type": "code",
      "metadata": {},
      "source": [
        "# Recipe outputs\neval_prediction_results \u003d dataiku.Dataset(\"eval_prediction_results\")\neval_prediction_results.write_with_schema(eval_prediction_results_df)\n\neval_metrics \u003d dataiku.Dataset(\"eval_metrics\")\neval_metrics.write_with_schema(eval_metrics_df)\n"
      ],
      "outputs": []
    }
  ]
}