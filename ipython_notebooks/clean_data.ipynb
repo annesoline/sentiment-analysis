{
  "metadata": {
    "kernelspec": {
      "name": "py-dku-containerized-venv-edf_sentiment_analysis-cpu-m-1-cpu-4gb-ram",
      "display_name": "Python in CPU-M-1-cpu-4Gb-Ram (env edf_sentiment_analysis)",
      "language": "python"
    },
    "hide_input": false,
    "language_info": {
      "name": "python",
      "version": "3.9.20",
      "mimetype": "text/x-python",
      "codemirror_mode": {
        "name": "ipython",
        "version": 3
      },
      "pygments_lexer": "ipython3",
      "nbconvert_exporter": "python",
      "file_extension": ".py"
    },
    "creator": "anne-soline.guilbert-ly@dataiku.com",
    "customFields": {},
    "createdOn": 1742394175740,
    "tags": [],
    "modifiedBy": "anne-soline.guilbert-ly@dataiku.com"
  },
  "nbformat": 4,
  "nbformat_minor": 1,
  "cells": [
    {
      "execution_count": 0,
      "cell_type": "code",
      "metadata": {},
      "source": [
        "labelled_tweets \u003d dataiku.Dataset(\"sensible_data_identified\")\ndf \u003d labelled_tweets.get_dataframe()\n"
      ],
      "outputs": []
    },
    {
      "execution_count": 0,
      "cell_type": "code",
      "metadata": {},
      "source": [
        "from cryptography.fernet import Fernet\n\n# Generate a key for encryption\nkey \u003d Fernet.generate_key()\ncipher_suite \u003d Fernet(key)\n\n# Define a function to encrypt text\ndef encrypt_text(text):\n    return cipher_suite.encrypt(text.encode()).decode()\n\n# Encrypt emails and IPs if present\ndef encrypt_sensitive_data(row):\n    if pd.notnull(row[\u0027email_present\u0027]) or pd.notnull(row[\u0027ip_present\u0027]):\n        if pd.notnull(row[\u0027email_present\u0027]):\n            # Encrypt email\n            row[\u0027encrypted_text\u0027] \u003d re.sub(row[\u0027email_present\u0027], \n                                 lambda match: encrypt_text(match.group()), row[\u0027text\u0027])\n        if pd.notnull(row[\u0027ip_present\u0027]):\n            # Encrypt IP\n            row[\u0027encrypted_text\u0027] \u003d re.sub(row[\u0027ip_present\u0027], \n                                 lambda match: encrypt_text(match.group()), row[\u0027text\u0027])\n    return row\n\n# Apply the encryption function to the dataframe\ndf \u003d df.apply(encrypt_sensitive_data, axis\u003d1)\n"
      ],
      "outputs": []
    },
    {
      "execution_count": 0,
      "cell_type": "code",
      "metadata": {},
      "source": [
        ""
      ],
      "outputs": []
    }
  ]
}