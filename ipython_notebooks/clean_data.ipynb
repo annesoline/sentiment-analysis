{
  "metadata": {
    "kernelspec": {
      "name": "py-dku-containerized-venv-edf_sentiment_analysis-cpu-m-1-cpu-4gb-ram",
      "display_name": "Python in CPU-M-1-cpu-4Gb-Ram (env edf_sentiment_analysis)",
      "language": "python"
    },
    "hide_input": false,
    "language_info": {
      "name": "python",
      "version": "3.9.20",
      "mimetype": "text/x-python",
      "codemirror_mode": {
        "name": "ipython",
        "version": 3
      },
      "pygments_lexer": "ipython3",
      "nbconvert_exporter": "python",
      "file_extension": ".py"
    },
    "creator": "anne-soline.guilbert-ly@dataiku.com",
    "customFields": {},
    "createdOn": 1742394175740,
    "tags": [],
    "modifiedBy": "anne-soline.guilbert-ly@dataiku.com"
  },
  "nbformat": 4,
  "nbformat_minor": 1,
  "cells": [
    {
      "execution_count": 0,
      "cell_type": "code",
      "metadata": {},
      "source": [
        "sensible_data_identified \u003d dataiku.Dataset(\"sensible_data_identified\")\ndf \u003d sensible_data_identified.get_dataframe()\n"
      ],
      "outputs": []
    },
    {
      "execution_count": 0,
      "cell_type": "code",
      "metadata": {},
      "source": [
        "from cryptography.fernet import Fernet\n\n# Generate a key for encryption\nkey \u003d Fernet.generate_key()\ncipher_suite \u003d Fernet(key)\n\n# Define a function to encrypt text\ndef encrypt_text(text):\n    return cipher_suite.encrypt(text.encode()).decode()\n\n# Encrypt emails and IPs if present\ndef encrypt_sensitive_data(row):\n    if pd.notnull(row[\u0027email_present\u0027]) or pd.notnull(row[\u0027ip_present\u0027]):\n        if pd.notnull(row[\u0027email_present\u0027]):\n            # Encrypt email\n            row[\u0027encrypted_text\u0027] \u003d re.sub(row[\u0027email_present\u0027], \n                                 lambda match: encrypt_text(match.group()), row[\u0027text\u0027])\n        if pd.notnull(row[\u0027ip_present\u0027]):\n            # Encrypt IP\n            row[\u0027encrypted_text\u0027] \u003d re.sub(row[\u0027ip_present\u0027], \n                                 lambda match: encrypt_text(match.group()), row[\u0027text\u0027])\n    return row\n\n# Apply the encryption function to the dataframe\ndf \u003d df.apply(encrypt_sensitive_data, axis\u003d1)\n"
      ],
      "outputs": []
    },
    {
      "execution_count": 0,
      "cell_type": "code",
      "metadata": {},
      "source": [
        "# Print the text of rows where email_present is not None and ip_present is not None\nemail_and_ip_present_rows \u003d df[df[\u0027email_present\u0027].notnull()| df[\u0027ip_present\u0027].notnull()]\nfor index, row in email_and_ip_present_rows.iterrows():\n    print(row[\u0027encrypted_text\u0027])\n"
      ],
      "outputs": []
    },
    {
      "execution_count": 0,
      "cell_type": "code",
      "metadata": {},
      "source": [
        "def remove_sensitive_data(row):\n    text \u003d row[\u0027text\u0027]\n    # Remove encrypted emails if email_present is not null\n    text \u003d text.replace(row[\u0027email_present\u0027], \u0027\u0027) if pd.notnull(row[\u0027email_present\u0027]) else text\n    # Remove encrypted IPs if ip_present is not null\n    text \u003d text.replace(row[\u0027ip_present\u0027], \u0027\u0027) if pd.notnull(row[\u0027ip_present\u0027]) else text\n    \n    return text\n\n# Create a new column \u0027text_without_sensible_data\u0027\ndf[\u0027text_without_sensible_data\u0027] \u003d df.apply(remove_sensitive_data, axis\u003d1)\n"
      ],
      "outputs": []
    },
    {
      "execution_count": 0,
      "cell_type": "code",
      "metadata": {},
      "source": [
        "# Print text without sensible data for a maximum of 5 rows where it\u0027s different from the original text\ncount \u003d 0\nfor index, row in df.iterrows():\n    if row[\u0027text\u0027] !\u003d row[\u0027text_without_sensible_data\u0027]:\n        print(row[\u0027text_without_sensible_data\u0027])\n        print()\n        count +\u003d 1\n        if count \u003e\u003d 5:\n            break"
      ],
      "outputs": []
    }
  ]
}