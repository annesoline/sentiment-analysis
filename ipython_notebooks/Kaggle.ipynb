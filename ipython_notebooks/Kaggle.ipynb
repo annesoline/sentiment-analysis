{
  "metadata": {
    "kernelspec": {
      "name": "py-dku-venv-edf_sentiment_analysis",
      "display_name": "Python (env edf_sentiment_analysis)",
      "language": "python"
    },
    "hide_input": false,
    "language_info": {
      "name": "python",
      "version": "3.9.20",
      "mimetype": "text/x-python",
      "codemirror_mode": {
        "name": "ipython",
        "version": 3
      },
      "pygments_lexer": "ipython3",
      "nbconvert_exporter": "python",
      "file_extension": ".py"
    },
    "creator": "francois.phe@dataiku.com",
    "customFields": {},
    "modifiedBy": "francois.phe@dataiku.com",
    "createdOn": 1741887169834,
    "tags": []
  },
  "nbformat": 4,
  "nbformat_minor": 1,
  "cells": [
    {
      "execution_count": 0,
      "cell_type": "code",
      "metadata": {},
      "source": [
        "import dataiku\nimport os\nimport tempfile\nfrom pathlib import Path\nimport shutil"
      ],
      "outputs": []
    },
    {
      "execution_count": 0,
      "cell_type": "code",
      "metadata": {},
      "source": [
        "os.environ[\u0027KAGGLE_USERNAME\u0027] \u003d \u0027franoisphe\u0027\nos.environ[\u0027KAGGLE_KEY\u0027] \u003d \u0027b7533c71dbbb8fb155b843fae45ec93a\u0027\n\nfrom kaggle import api # import the already authenticated API client"
      ],
      "outputs": []
    },
    {
      "execution_count": 0,
      "cell_type": "code",
      "metadata": {},
      "source": [
        "folder \u003d dataiku.Folder(\"q5bLIkWU\")\n\nwith tempfile.TemporaryDirectory() as tmpdirname:\n    \n    api.dataset_download_files(\"kazanova/sentiment140\", path\u003dtmpdirname, unzip\u003dTrue)\n\n    for file in os.listdir(tmpdirname):\n        local_file \u003d os.path.join(tmpdirname, file)\n        folder.upload_file(file, local_file)"
      ],
      "outputs": []
    },
    {
      "execution_count": 0,
      "cell_type": "code",
      "metadata": {},
      "source": [
        ""
      ],
      "outputs": []
    }
  ]
}