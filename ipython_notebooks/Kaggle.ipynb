{
  "metadata": {
    "kernelspec": {
      "name": "py-dku-venv-edf_sentiment_analysis",
      "display_name": "Python (env edf_sentiment_analysis)",
      "language": "python"
    },
    "hide_input": false,
    "language_info": {
      "name": "python",
      "version": "3.9.20",
      "mimetype": "text/x-python",
      "codemirror_mode": {
        "name": "ipython",
        "version": 3
      },
      "pygments_lexer": "ipython3",
      "nbconvert_exporter": "python",
      "file_extension": ".py"
    },
    "creator": "francois.phe@dataiku.com",
    "tags": [],
    "customFields": {},
    "createdOn": 1741887169834,
    "modifiedBy": "francois.phe@dataiku.com"
  },
  "nbformat": 4,
  "nbformat_minor": 1,
  "cells": [
    {
      "execution_count": 0,
      "cell_type": "code",
      "metadata": {},
      "source": [
        "import dataiku\nimport json\nimport os"
      ],
      "outputs": []
    },
    {
      "execution_count": 0,
      "cell_type": "code",
      "metadata": {},
      "source": [
        "def configure_kaggle_api(kaggle_json):\n    \"\"\"Creates a Kaggle API configuration file programmatically.\"\"\"\n    kaggle_dir \u003d os.path.expanduser(\"~/.config\")\n    os.makedirs(kaggle_dir, exist_ok\u003dTrue)\n    \n    kaggle_json_path \u003d os.path.join(kaggle_dir, \"kaggle.json\")\n    \n    # Save API key to kaggle.json\n    with open(kaggle_json_path, \"w\") as f:\n        json.dump(kaggle_json, f)\n    \n    # Set permissions\n    os.chmod(kaggle_json_path, 0o600)\n    \n    print(\"Kaggle API configured successfully!\")\n    print(kaggle_json_path)"
      ],
      "outputs": []
    },
    {
      "execution_count": 0,
      "cell_type": "code",
      "metadata": {},
      "source": [
        "kaggle_json \u003d {\n    \"username\": \"franoisphe\",\n    \"key\": \"b7533c71dbbb8fb155b843fae45ec93a\"\n}"
      ],
      "outputs": []
    },
    {
      "execution_count": 0,
      "cell_type": "code",
      "metadata": {},
      "source": [
        "configure_kaggle_api(kaggle_json)"
      ],
      "outputs": []
    },
    {
      "execution_count": 0,
      "cell_type": "code",
      "metadata": {},
      "source": [
        "from kaggle.api.kaggle_api_extended import KaggleApi"
      ],
      "outputs": []
    },
    {
      "execution_count": 0,
      "cell_type": "code",
      "metadata": {},
      "source": [
        "def download_dataset(dataset: str, destination: str \u003d \"./\"):\n    \"\"\"Downloads a dataset from Kaggle.\"\"\"\n    api \u003d KaggleApi()\n    api.authenticate()\n    \n    api.dataset_download_files(dataset, path\u003ddestination, unzip\u003dTrue)\n    print(f\"Dataset \u0027{dataset}\u0027 downloaded to {destination}\")"
      ],
      "outputs": []
    },
    {
      "execution_count": 0,
      "cell_type": "code",
      "metadata": {},
      "source": [
        "# Example: Download a dataset\ndataset_name \u003d \"zynicide/wine-reviews\"\ndownload_dataset(dataset_name)"
      ],
      "outputs": []
    },
    {
      "execution_count": 0,
      "cell_type": "code",
      "metadata": {},
      "source": [
        ""
      ],
      "outputs": []
    }
  ]
}