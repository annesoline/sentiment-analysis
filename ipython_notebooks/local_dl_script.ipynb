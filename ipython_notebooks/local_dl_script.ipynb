{
  "metadata": {
    "kernelspec": {
      "name": "py-dku-venv-edf_sentiment_analysis",
      "display_name": "Python (env edf_sentiment_analysis)",
      "language": "python"
    },
    "hide_input": false,
    "language_info": {
      "name": "python",
      "version": "3.9.20",
      "mimetype": "text/x-python",
      "codemirror_mode": {
        "name": "ipython",
        "version": 3
      },
      "pygments_lexer": "ipython3",
      "nbconvert_exporter": "python",
      "file_extension": ".py"
    },
    "modifiedBy": "anne-soline.guilbert-ly@dataiku.com",
    "customFields": {},
    "createdOn": 1742824723900,
    "creator": "anne-soline.guilbert-ly@dataiku.com",
    "tags": []
  },
  "nbformat": 4,
  "nbformat_minor": 1,
  "cells": [
    {
      "execution_count": 0,
      "cell_type": "code",
      "metadata": {},
      "source": [
        "import dataiku\nfrom dataiku import pandasutils as pdu"
      ],
      "outputs": []
    },
    {
      "execution_count": 0,
      "cell_type": "code",
      "metadata": {},
      "source": [
        "prepared_tweets_encryption \u003d dataiku.Dataset(\"prepared_tweets_encryption\")\nprepared_tweets_encryption_df \u003d prepared_tweets_encryption.get_dataframe()\n"
      ],
      "outputs": []
    },
    {
      "execution_count": 0,
      "cell_type": "code",
      "metadata": {},
      "source": [
        "# Define features and target\nfeatures \u003d [\n    \u0027date\u0027, \n    \u0027user\u0027, \n    \u0027language\u0027, \n    \u0027tweet_length_chars\u0027, \n    \u0027tweet_length_words\u0027, \n    \u0027repetitive_letters\u0027, \n    \u0027mention_only\u0027, \n    \u0027unreadable\u0027, \n    \u0027too_many_numbers\u0027,\n    \u0027text\u0027\n]\n\nfrom tensorflow.keras.models import Sequential\nfrom tensorflow.keras.layers import Dense, Dropout, Embedding, LSTM\nfrom tensorflow.keras.optimizers import Adam\nfrom sklearn.preprocessing import StandardScaler\nfrom sklearn.preprocessing import OneHotEncoder\nfrom sklearn.model_selection import train_test_split\nfrom tensorflow.keras.preprocessing.text import Tokenizer\nfrom tensorflow.keras.preprocessing.sequence import pad_sequences\nimport pandas as pd\nimport tensorflow as tf\n\ndef preprocess_data(X: pd.DataFrame) -\u003e pd.DataFrame:\n    \"\"\"\n    Preprocesses the data by handling categorical variables with one-hot encoding,\n    numerical columns with standard scaling, and text data with tokenization and padding.\n\n    Parameters:\n    X (pd.DataFrame): The data to preprocess.\n\n    Returns:\n    pd.DataFrame: The processed data including numerical, categorical, and text data.\n    \"\"\"\n    # Handle categorical variables with one-hot encoding\n    categorical_features \u003d [\u0027date\u0027, \u0027user\u0027, \u0027language\u0027]\n    encoder \u003d OneHotEncoder(sparse_output\u003dFalse, handle_unknown\u003d\u0027ignore\u0027)\n    X_categorical \u003d encoder.fit_transform(X[categorical_features])\n    \n    # Handle numerical columns with standard scaling\n    numerical_features \u003d X.drop(columns\u003dcategorical_features + [\u0027text\u0027]).columns\n    scaler \u003d StandardScaler()\n    X_numerical \u003d scaler.fit_transform(X[numerical_features])\n    \n    # Handle text data with tokenization and padding\n    tokenizer \u003d Tokenizer(num_words\u003d5000)\n    tokenizer.fit_on_texts(X[\u0027text\u0027])\n    X_text \u003d tokenizer.texts_to_sequences(X[\u0027text\u0027])\n    X_text \u003d pad_sequences(X_text, maxlen\u003d100)\n    \n    # Concatenate processed categorical, numerical, and text features\n    X_processed \u003d pd.concat([pd.DataFrame(X_numerical), pd.DataFrame(X_categorical), pd.DataFrame(X_text)], axis\u003d1)\n    \n    return X_processed\n\ndef apply_and_evaluate_deep_learning_model(X: pd.DataFrame, y: pd.Series) -\u003e pd.DataFrame:\n    \"\"\"\n    Applies a deep learning model to the preprocessed data and evaluates its performance.\n\n    Parameters:\n    X (pd.DataFrame): The preprocessed data including numerical, categorical, and text data.\n    y (pd.Series): The labels.\n\n    Returns:\n    pd.DataFrame: A DataFrame containing the loss and accuracy of the model on the test data.\n    \"\"\"\n    # Split the data into training and testing sets\n    X_train, X_test, y_train, y_test \u003d train_test_split(X, y, test_size\u003d0.2, random_state\u003d42)\n\n    # Convert processed data to TensorFlow datasets\n    train_dataset \u003d tf.data.Dataset.from_tensor_slices((X_train.values, y_train.values))\n    test_dataset \u003d tf.data.Dataset.from_tensor_slices((X_test.values, y_test.values))\n\n    # Batch the datasets\n    train_dataset \u003d train_dataset.batch(32)\n    test_dataset \u003d test_dataset.batch(32)\n\n    # Initialize the model\n    model \u003d Sequential([\n        Dense(128, activation\u003d\u0027relu\u0027, input_shape\u003d(X_train.shape[1],)),\n        Dropout(0.5),\n        Dense(64, activation\u003d\u0027relu\u0027),\n        Dropout(0.5),\n        Dense(1, activation\u003d\u0027sigmoid\u0027)\n    ])\n\n    # Compile the model\n    model.compile(optimizer\u003dAdam(learning_rate\u003d0.001), \n                  loss\u003d\u0027binary_crossentropy\u0027, \n                  metrics\u003d[\u0027accuracy\u0027])\n\n    # Train the model\n    model.fit(train_dataset, epochs\u003d1, validation_data\u003dtest_dataset, verbose\u003d1)\n\n    # Evaluate the model\n    loss, accuracy \u003d model.evaluate(test_dataset, verbose\u003d0)\n    \n    # Save metrics into a DataFrame\n    metrics_df \u003d pd.DataFrame({\u0027loss\u0027: [loss], \u0027accuracy\u0027: [accuracy]})\n    \n    return metrics_df\n"
      ],
      "outputs": []
    },
    {
      "execution_count": 0,
      "cell_type": "code",
      "metadata": {
        "scrolled": false
      },
      "source": [
        "# Evaluate model on encrypted data\nX_encrypted \u003d prepared_tweets_encryption_df[features]\ny_encrypted \u003d prepared_tweets_encryption_df[\u0027label\u0027]\nmetrics_encrypted \u003d apply_and_evaluate_deep_learning_model(X_encrypted, y_encrypted)\nprint(f\"Metrics on encrypted data:\")\nmetrics_encrypted.head()\n"
      ],
      "outputs": []
    },
    {
      "execution_count": 0,
      "cell_type": "code",
      "metadata": {},
      "source": [
        ""
      ],
      "outputs": []
    }
  ]
}