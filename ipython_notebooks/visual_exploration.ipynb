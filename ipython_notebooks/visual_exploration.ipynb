{
  "metadata": {
    "kernelspec": {
      "name": "python3",
      "display_name": "Python 3 (ipykernel)",
      "language": "python"
    },
    "language_info": {
      "name": "python",
      "version": "3.9.20",
      "mimetype": "text/x-python",
      "codemirror_mode": {
        "name": "ipython",
        "version": 3
      },
      "pygments_lexer": "ipython3",
      "nbconvert_exporter": "python",
      "file_extension": ".py"
    },
    "creator": "anne-soline.guilbert-ly@dataiku.com",
    "dkuGit": {
      "lastInteraction": 1742213538057,
      "gitReference": {
        "remote": "git@github.com:annesoline/sentiment-analysis.git",
        "checkout": "refs/heads/main",
        "remotePath": "visual_exploration.ipynb",
        "remoteLogin": "",
        "lastHash": "2fa6138d799b001ab2aaea8b0946955fbd531195",
        "lastTimestamp": 1742213513000,
        "isDirty": false
      }
    },
    "customFields": {},
    "createdOn": 1742213538051,
    "tags": [],
    "modifiedBy": "anne-soline.guilbert-ly@dataiku.com",
    "hide_input": false
  },
  "nbformat": 4,
  "nbformat_minor": 2,
  "cells": [
    {
      "execution_count": 0,
      "cell_type": "code",
      "metadata": {},
      "source": [
        "import matplotlib.pyplot as plt\nimport pandas as pd\n# Word Cloud Visualization\nimport matplotlib.pyplot as plt\nfrom wordcloud import WordCloud\nimport re\npd.set_option(\u0027display.max_colwidth\u0027, None)\n"
      ],
      "outputs": []
    },
    {
      "execution_count": 0,
      "cell_type": "code",
      "metadata": {},
      "source": [
        "df \u003d pd.read_csv(\u0027training.1600000.processed.noemoticon.csv\u0027, encoding\u003d\u0027latin-1\u0027, names\u003d[\u0027target\u0027, \u0027id\u0027, \u0027date\u0027, \u0027flag\u0027, \u0027user\u0027, \u0027text\u0027])"
      ],
      "outputs": []
    },
    {
      "cell_type": "markdown",
      "metadata": {},
      "source": [
        "# 3. Visual exploration of textual data"
      ]
    },
    {
      "execution_count": 0,
      "cell_type": "code",
      "metadata": {},
      "source": [
        "# Filter the data randomly and keep 10000 rows\ndf \u003d df.sample(n\u003d10000, random_state\u003d42)\n"
      ],
      "outputs": []
    },
    {
      "execution_count": 0,
      "cell_type": "code",
      "metadata": {},
      "source": [
        "# Combine all tweets into one text\nall_text \u003d \u0027 \u0027.join(df[\u0027text\u0027].astype(str))\n\n# Clean text - remove URLs, mentions, special chars\nall_text \u003d re.sub(r\u0027http\\S+|@\\S+|[^\\w\\s]\u0027, \u0027\u0027, all_text.lower())\n\n# Create word cloud\nwordcloud \u003d WordCloud(width\u003d1200, height\u003d600, \n                     background_color\u003d\u0027white\u0027,\n                     max_words\u003d100).generate(all_text)\n\n# Display the word cloud\nplt.figure(figsize\u003d(12, 6))\nplt.imshow(wordcloud, interpolation\u003d\u0027bilinear\u0027)\nplt.axis(\u0027off\u0027)\nplt.title(\u0027Most Frequent Words in Tweets\u0027)\nplt.show()\n"
      ],
      "outputs": []
    },
    {
      "execution_count": 0,
      "cell_type": "code",
      "metadata": {},
      "source": [
        ""
      ],
      "outputs": []
    }
  ]
}