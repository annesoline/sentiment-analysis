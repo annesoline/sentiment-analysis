{
  "metadata": {
    "kernelspec": {
      "display_name": ".venv",
      "language": "python",
      "name": "python3"
    },
    "language_info": {
      "codemirror_mode": {
        "name": "ipython",
        "version": 3
      },
      "file_extension": ".py",
      "mimetype": "text/x-python",
      "name": "python",
      "nbconvert_exporter": "python",
      "pygments_lexer": "ipython3",
      "version": "3.9.21"
    },
    "tags": [],
    "createdOn": 1742215088267,
    "creator": "anne-soline.guilbert-ly@dataiku.com",
    "modifiedBy": "anne-soline.guilbert-ly@dataiku.com",
    "dkuGit": {
      "lastInteraction": 1742215088277,
      "gitReference": {
        "remote": "git@github.com:annesoline/sentiment-analysis.git",
        "checkout": "refs/heads/main",
        "remotePath": "visual_exploration.ipynb",
        "remoteLogin": "",
        "lastHash": "4dcb661cf1fe4521ac95b4dac17350d37f0d6261",
        "lastTimestamp": 1742215053000,
        "isDirty": false
      }
    }
  },
  "nbformat": 4,
  "nbformat_minor": 2,
  "cells": [
    {
      "execution_count": 0,
      "cell_type": "code",
      "metadata": {},
      "source": [
        "import matplotlib.pyplot as plt\n",
        "import pandas as pd\n",
        "# Word Cloud Visualization\n",
        "import matplotlib.pyplot as plt\n",
        "from wordcloud import WordCloud\n",
        "import re\n",
        "import nltk\n",
        "from nltk import pos_tag\n",
        "from nltk.tokenize import word_tokenize\n",
        "from collections import Counter\n",
        "\n",
        "pd.set_option(\u0027display.max_colwidth\u0027, None)\n"
      ],
      "outputs": []
    },
    {
      "execution_count": 0,
      "cell_type": "code",
      "metadata": {},
      "source": [
        "df \u003d pd.read_csv(\u0027training.1600000.processed.noemoticon.csv\u0027, encoding\u003d\u0027latin-1\u0027, names\u003d[\u0027target\u0027, \u0027id\u0027, \u0027date\u0027, \u0027flag\u0027, \u0027user\u0027, \u0027text\u0027])"
      ],
      "outputs": []
    },
    {
      "cell_type": "markdown",
      "metadata": {},
      "source": [
        "# 3. Visual exploration of textual data"
      ]
    },
    {
      "execution_count": 0,
      "cell_type": "code",
      "metadata": {},
      "source": [
        "# Filter the data randomly and keep 10000 rows\n",
        "df \u003d df.sample(n\u003d10000, random_state\u003d42)\n"
      ],
      "outputs": []
    },
    {
      "execution_count": 0,
      "cell_type": "code",
      "metadata": {},
      "source": [
        "# Combine all tweets into one text\n",
        "all_text \u003d \u0027 \u0027.join(df[\u0027text\u0027].astype(str))\n",
        "\n",
        "# Clean text - remove URLs, mentions, special chars\n",
        "all_text \u003d re.sub(r\u0027http\\S+|@\\S+|[^\\w\\s]\u0027, \u0027\u0027, all_text.lower())\n",
        "\n",
        "# Create word cloud\n",
        "wordcloud \u003d WordCloud(width\u003d1200, height\u003d600, \n",
        "                     background_color\u003d\u0027white\u0027,\n",
        "                     max_words\u003d100).generate(all_text)\n",
        "\n",
        "# Display the word cloud\n",
        "plt.figure(figsize\u003d(12, 6))\n",
        "plt.imshow(wordcloud, interpolation\u003d\u0027bilinear\u0027)\n",
        "plt.axis(\u0027off\u0027)\n",
        "plt.title(\u0027Most Frequent Words in Tweets\u0027)\n",
        "plt.show()\n"
      ],
      "outputs": []
    },
    {
      "execution_count": 0,
      "cell_type": "code",
      "metadata": {},
      "source": [
        "# Tokenize the cleaned text\n",
        "tokens \u003d word_tokenize(all_text)\n",
        "\n",
        "# Tag tokens with part of speech\n",
        "tagged_tokens \u003d pos_tag(tokens)\n",
        "\n",
        "# Filter for common nouns (NN, NNS)\n",
        "common_nouns \u003d [word for word, pos in tagged_tokens if pos in (\u0027NN\u0027, \u0027NNS\u0027)]\n",
        "\n",
        "# Count noun frequencies\n",
        "noun_counts \u003d Counter(common_nouns)\n",
        "\n",
        "# Get the 20 most common nouns and their counts\n",
        "common_nouns \u003d noun_counts.most_common(20)\n",
        "nouns, noun_counts \u003d zip(*common_nouns)\n",
        "\n",
        "# Plot the bar chart for common nouns\n",
        "plt.figure(figsize\u003d(12, 6))\n",
        "plt.bar(nouns, noun_counts, color\u003d\u0027lightgreen\u0027)\n",
        "plt.xticks(rotation\u003d45, ha\u003d\u0027right\u0027)\n",
        "plt.title(\u0027Top 20 Most Frequent Common Nouns in Tweets\u0027)\n",
        "plt.xlabel(\u0027Nouns\u0027)\n",
        "plt.ylabel(\u0027Frequency\u0027)\n",
        "plt.tight_layout()\n",
        "plt.show()\n"
      ],
      "outputs": []
    },
    {
      "execution_count": 0,
      "cell_type": "code",
      "metadata": {},
      "source": [
        "\n",
        "# Create a bigram frequency distribution\n",
        "bigrams \u003d list(nltk.bigrams(tokens))\n",
        "bigram_counts \u003d Counter(bigrams)\n",
        "\n",
        "# Get the 20 most common bigrams and their counts\n",
        "common_bigrams \u003d bigram_counts.most_common(20)\n",
        "bigrams, bigram_counts \u003d zip(*common_bigrams)\n",
        "\n",
        "# Convert bigrams to a more readable format\n",
        "bigrams \u003d [\u0027 \u0027.join(bigram) for bigram in bigrams]\n",
        "\n",
        "# Plot the bar chart for common bigrams\n",
        "plt.figure(figsize\u003d(12, 6))\n",
        "plt.bar(bigrams, bigram_counts, color\u003d\u0027skyblue\u0027)\n",
        "plt.xticks(rotation\u003d45, ha\u003d\u0027right\u0027)\n",
        "plt.title(\u0027Top 20 Most Frequent Bigrams in Tweets\u0027)\n",
        "plt.xlabel(\u0027Bigrams\u0027)\n",
        "plt.ylabel(\u0027Frequency\u0027)\n",
        "plt.tight_layout()\n",
        "plt.show()\n",
        "\n"
      ],
      "outputs": []
    },
    {
      "execution_count": 0,
      "cell_type": "code",
      "metadata": {},
      "source": [
        "# Create a trigram frequency distribution\n",
        "trigrams \u003d list(nltk.trigrams(tokens))\n",
        "trigram_counts \u003d Counter(trigrams)\n",
        "\n",
        "# Get the 20 most common trigrams and their counts\n",
        "common_trigrams \u003d trigram_counts.most_common(20)\n",
        "trigrams, trigram_counts \u003d zip(*common_trigrams)\n",
        "\n",
        "# Convert trigrams to a more readable format\n",
        "trigrams \u003d [\u0027 \u0027.join(trigram) for trigram in trigrams]\n",
        "\n",
        "# Plot the bar chart for common trigrams\n",
        "plt.figure(figsize\u003d(12, 6))\n",
        "plt.bar(trigrams, trigram_counts, color\u003d\u0027salmon\u0027)\n",
        "plt.xticks(rotation\u003d45, ha\u003d\u0027right\u0027)\n",
        "plt.title(\u0027Top 20 Most Frequent Trigrams in Tweets\u0027)\n",
        "plt.xlabel(\u0027Trigrams\u0027)\n",
        "plt.ylabel(\u0027Frequency\u0027)\n",
        "plt.tight_layout()\n",
        "plt.show()\n"
      ],
      "outputs": []
    }
  ]
}