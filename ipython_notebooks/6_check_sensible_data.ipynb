{
  "metadata": {
    "kernelspec": {
      "name": "py-dku-containerized-venv-edf_sentiment_analysis-cpu-xl-2-cpu-16gb-ram",
      "display_name": "Python in CPU-XL-2-cpu-16Gb-Ram (env edf_sentiment_analysis)",
      "language": "python"
    },
    "language_info": {
      "name": "python",
      "version": "3.9.20",
      "mimetype": "text/x-python",
      "codemirror_mode": {
        "name": "ipython",
        "version": 3
      },
      "pygments_lexer": "ipython3",
      "nbconvert_exporter": "python",
      "file_extension": ".py"
    },
    "hide_input": false,
    "creator": "anne-soline.guilbert-ly@dataiku.com",
    "dkuGit": {
      "lastInteraction": 1742230932865,
      "gitReference": {
        "remote": "git@github.com:annesoline/sentiment-analysis.git",
        "checkout": "refs/heads/main",
        "remotePath": "check_sensible_data.ipynb",
        "remoteLogin": "",
        "lastHash": "804e5cfc33c9ef3e4f1d1489c9df687ccb0c5950",
        "lastTimestamp": 1742230879000,
        "isDirty": false
      }
    },
    "customFields": {},
    "createdOn": 1742230932864,
    "tags": [
      "recipe-editor"
    ],
    "associatedRecipe": "recipe_from_notebook_check_sensible_data",
    "modifiedBy": "anne-soline.guilbert-ly@dataiku.com"
  },
  "nbformat": 4,
  "nbformat_minor": 2,
  "cells": [
    {
      "execution_count": 0,
      "cell_type": "code",
      "metadata": {},
      "source": [
        "# Load the required libraries\nimport os\nimport torch\nimport dataiku\nimport pandas as pd\nfrom transformers import pipeline\nfrom dataiku import pandasutils as pdu\nfrom transformers import AutoTokenizer, AutoModelForTokenClassification\npd.set_option(\u0027display.max_colwidth\u0027, None)\n"
      ],
      "outputs": []
    },
    {
      "execution_count": 0,
      "cell_type": "code",
      "metadata": {},
      "source": [
        "labelled_tweets \u003d dataiku.Dataset(\"labelled_tweets\")\ndf \u003d labelled_tweets.get_dataframe()"
      ],
      "outputs": []
    },
    {
      "cell_type": "markdown",
      "metadata": {},
      "source": [
        "# 6. Vérification de la présence de données sensibles\n## 6.1. Named Entities Recognition"
      ]
    },
    {
      "execution_count": 0,
      "cell_type": "code",
      "metadata": {},
      "source": [
        "hf_transformers_home_dir \u003d os.getenv(\"HF_HOME\")"
      ],
      "outputs": []
    },
    {
      "execution_count": 0,
      "cell_type": "code",
      "metadata": {},
      "source": [
        "# Compute recipe outputs from inputs\n# Define the model to use\nmodel_name \u003d \"dslim/bert-base-NER\"\n\ndef perform_ner_inference(model_name, input_df):\n    \"\"\"\n    perform_ner_inference performs NER inference on a dataframe using a specified Hugging Face model.\n    \n    :param model_name: The name of the Hugging Face model to use for NER.\n    :param input_df: The input dataframe with at least two columns, document_id and text.\n    :return: pd.DataFrame. A dataframe containing the NER results, with at least columns \"document_id\", \"text\", and \"predicted_labels\".\n    \"\"\"\n    # Load the pre-trained tokenizer and model\n    tokenizer \u003d AutoTokenizer.from_pretrained(model_name, cache_dir\u003dhf_transformers_home_dir)\n    model \u003d AutoModelForTokenClassification.from_pretrained(model_name, cache_dir\u003dhf_transformers_home_dir)\n\n    # Load the token classification pipeline\n    token_classification_pipeline \u003d pipeline(\"ner\", model\u003dmodel, tokenizer\u003dtokenizer, aggregation_strategy\u003d\"first\") # pass device\u003d0 if using gpu\n\n    # Perform token classification on each row of the dataframe\n    predicted_labels \u003d []\n    for index, row in input_df.iterrows():\n        document_id \u003d row[\"id\"]\n        text \u003d row[\"text\"]\n        results \u003d token_classification_pipeline(text)\n        predicted_labels.append(results)\n        \n    input_df[\u0027predicted_labels\u0027] \u003d predicted_labels\n\n    return input_df\n"
      ],
      "outputs": []
    },
    {
      "execution_count": 0,
      "cell_type": "code",
      "metadata": {},
      "source": [
        "df \u003d perform_ner_inference(model_name, df)\n\ndf.head()\n"
      ],
      "outputs": []
    },
    {
      "execution_count": 0,
      "cell_type": "code",
      "metadata": {},
      "source": [
        "non_empty_rows \u003d df[df[\u0027predicted_labels\u0027].notnull()]\nnon_empty_rows.head()"
      ],
      "outputs": []
    },
    {
      "cell_type": "markdown",
      "metadata": {},
      "source": [
        "## 6.2. Reconnaissance et encryption ou retrait des emails et adresses IP"
      ]
    },
    {
      "execution_count": 0,
      "cell_type": "code",
      "metadata": {
        "scrolled": true
      },
      "source": [
        "import re\n\n# Define a function to extract email addresses\ndef extract_email(text):\n    # Regular expression pattern for matching email addresses\n    email_pattern \u003d r\u0027[\\w\\-\\.]+@([\\w-]+\\.)+[\\w-]{2,}\u0027\n    # Search for the pattern in the text\n    match \u003d re.search(email_pattern, text)\n    if match:\n        return match.group(0)\n    else:\n        return None\n\n# Apply the function to the \u0027text\u0027 column and create a new column \u0027email_present\u0027\ndf[\u0027email_present\u0027] \u003d df[\u0027text\u0027].apply(extract_email)\n\n\n# Print the text of rows where there is an email\nemail_present_rows \u003d df[df[\u0027email_present\u0027].notnull()]\nfor index, row in email_present_rows.iterrows():\n    print(row[\u0027text\u0027])\n    print(row[\u0027email_present\u0027])\n"
      ],
      "outputs": []
    },
    {
      "execution_count": 0,
      "cell_type": "code",
      "metadata": {
        "scrolled": true
      },
      "source": [
        "\n# Define a function to check for IP addresses and URLs containing IPs\ndef check_ip_or_url_presence(text):\n    # Regular expression pattern for matching IP addresses\n    ip_pattern \u003d r\u0027\\b(?:[0-9]{1,3}\\.){3}[0-9]{1,3}\\b\u0027\n    # Regular expression pattern for matching URLs containing IP addresses\n    url_pattern \u003d r\u0027\\b(?:http|https)://(?:[0-9]{1,3}\\.){3}[0-9]{1,3}(?:/[^\\s]*)?\\b\u0027\n    \n    # Search for the URL pattern first\n    url_match \u003d re.search(url_pattern, text)\n    if url_match:\n        return url_match.group(0)\n    \n    # If no URL is found, search for the IP pattern\n    ip_match \u003d re.search(ip_pattern, text)\n    if ip_match:\n        return ip_match.group(0)\n    \n    return None\n\n# Apply the function to the \u0027text\u0027 column and create a new column \u0027ip_present\u0027\ndf[\u0027ip_present\u0027] \u003d df[\u0027text\u0027].apply(check_ip_or_url_presence)\n\n# Print the text of rows where ip_present is not None\nip_present_rows \u003d df[df[\u0027ip_present\u0027].notnull()]\nfor index, row in ip_present_rows.iterrows():\n    print(row[\u0027text\u0027])\n    print(row[\u0027ip_present\u0027])\n"
      ],
      "outputs": []
    },
    {
      "execution_count": 0,
      "cell_type": "code",
      "metadata": {},
      "source": [
        ""
      ],
      "outputs": []
    }
  ]
}