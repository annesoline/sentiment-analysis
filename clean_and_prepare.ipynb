{
 "cells": [
  {
   "cell_type": "code",
   "execution_count": 1,
   "metadata": {},
   "outputs": [],
   "source": [
    "import pandas as pd"
   ]
  },
  {
   "cell_type": "code",
   "execution_count": 5,
   "metadata": {},
   "outputs": [
    {
     "name": "stderr",
     "output_type": "stream",
     "text": [
      "/var/folders/76/4bn4ybn13vq8nd277yr2xdk40000gp/T/ipykernel_23764/1796006953.py:1: DtypeWarning: Columns (0,1,6,7,8,9,10) have mixed types. Specify dtype option on import or set low_memory=False.\n",
      "  df = pd.read_csv('enhanced_tweets_informations.csv', encoding='latin-1', names=['target', 'id', 'date', 'flag', 'user', 'text', 'tweet_length_chars', 'tweet_length_words', 'mention_only', 'unreadable', 'too_many_numbers'])\n"
     ]
    }
   ],
   "source": [
    "df = pd.read_csv('enhanced_tweets_informations.csv', encoding='latin-1', names=['target', 'id', 'date', 'flag', 'user', 'text', 'tweet_length_chars', 'tweet_length_words', 'mention_only', 'unreadable', 'too_many_numbers'])"
   ]
  },
  {
   "cell_type": "code",
   "execution_count": 6,
   "metadata": {},
   "outputs": [
    {
     "name": "stdout",
     "output_type": "stream",
     "text": [
      "Number of rows: 1600001\n"
     ]
    }
   ],
   "source": [
    "print(f\"Number of rows: {len(df)}\")\n"
   ]
  },
  {
   "cell_type": "code",
   "execution_count": 7,
   "metadata": {},
   "outputs": [],
   "source": [
    "df = df[(df['mention_only'] != 1) & (df['unreadable'] != 1) & (df['too_many_numbers'] != 1) & (df['is_duplicated'] != 1)]\n"
   ]
  },
  {
   "cell_type": "code",
   "execution_count": 8,
   "metadata": {},
   "outputs": [
    {
     "name": "stdout",
     "output_type": "stream",
     "text": [
      "Number of rows: 1595327\n"
     ]
    }
   ],
   "source": [
    "print(f\"Number of rows: {len(df)}\")\n"
   ]
  },
  {
   "cell_type": "code",
   "execution_count": 9,
   "metadata": {},
   "outputs": [],
   "source": [
    "df = df.drop(columns=['flag'])\n"
   ]
  },
  {
   "cell_type": "code",
   "execution_count": 11,
   "metadata": {},
   "outputs": [],
   "source": [
    "df = df.sample(n=1000, random_state=42)\n"
   ]
  },
  {
   "cell_type": "code",
   "execution_count": 10,
   "metadata": {},
   "outputs": [
    {
     "name": "stdout",
     "output_type": "stream",
     "text": [
      "Oh my god what are you doing?\n"
     ]
    },
    {
     "name": "stderr",
     "output_type": "stream",
     "text": [
      "/Users/anne-soline.guilbert-ly@dataiku.com/EDF-sentiment-analysis/.venv/lib/python3.9/site-packages/symspellpy/symspellpy.py:1137: UserWarning: Failed to parse frequency count as a 64 bit integer.\n",
      "  warnings.warn(\"Failed to parse frequency count as a 64 bit integer.\")\n"
     ]
    }
   ],
   "source": [
    "import re\n",
    "import os\n",
    "import requests\n",
    "from symspellpy import SymSpell, Verbosity\n",
    "\n",
    "# Initialize SymSpell\n",
    "sym_spell = SymSpell(max_dictionary_edit_distance=2, prefix_length=7)\n",
    "\n",
    "# Download and load the frequency dictionary if not already available\n",
    "dict_path = \"frequency_dictionary_en_82_765.txt\"\n",
    "if not os.path.exists(dict_path):\n",
    "    url = \"https://raw.githubusercontent.com/mammothb/symspellpy/master/symspellpy/data/frequency_dictionary_en_82_765.txt\"\n",
    "    response = requests.get(url)\n",
    "    with open(dict_path, \"wb\") as f:\n",
    "        f.write(response.content)\n",
    "\n",
    "# Load the dictionary into SymSpell\n",
    "sym_spell.load_dictionary(dict_path, term_index=0, count_index=1)\n",
    "\n",
    "def remove_repeated_chars(word):\n",
    "    \"\"\"Reduces any letter repeated 2+ times to a single occurrence.\"\"\"\n",
    "    return re.sub(r'(\\w)\\1{2,}', r'\\1', word)\n",
    "\n",
    "def correct_text(text):\n",
    "    \"\"\"Fixes repeated characters and corrects misspellings using SymSpell.\"\"\"\n",
    "    words = text.split()\n",
    "    cleaned_words = [remove_repeated_chars(word) for word in words]\n",
    "    \n",
    "    corrected_words = []\n",
    "    for word in cleaned_words:\n",
    "        suggestions = sym_spell.lookup(word, Verbosity.CLOSEST, max_edit_distance=2)\n",
    "        corrected_word = suggestions[0].term if suggestions else word  # Use the best suggestion\n",
    "        corrected_words.append(corrected_word)\n",
    "\n",
    "    return \" \".join(corrected_words)\n",
    "\n",
    "# Apply correction to the 'text' column in the DataFrame\n",
    "df['text'] = df['text'].apply(correct_text)\n",
    "\n",
    "# Show 5 examples of modified text\n",
    "for i, row in df.head(5).iterrows():\n",
    "    original_text = row['text']\n",
    "    modified_text = correct_text(original_text)\n",
    "    print(f\"Original: {original_text}\\nModified: {modified_text}\\n\")\n"
   ]
  },
  {
   "cell_type": "code",
   "execution_count": null,
   "metadata": {},
   "outputs": [],
   "source": []
  }
 ],
 "metadata": {
  "kernelspec": {
   "display_name": ".venv",
   "language": "python",
   "name": "python3"
  },
  "language_info": {
   "codemirror_mode": {
    "name": "ipython",
    "version": 3
   },
   "file_extension": ".py",
   "mimetype": "text/x-python",
   "name": "python",
   "nbconvert_exporter": "python",
   "pygments_lexer": "ipython3",
   "version": "3.9.21"
  }
 },
 "nbformat": 4,
 "nbformat_minor": 2
}
