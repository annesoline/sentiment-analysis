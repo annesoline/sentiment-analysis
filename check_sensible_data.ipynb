{
 "cells": [
  {
   "cell_type": "code",
   "execution_count": 9,
   "metadata": {},
   "outputs": [
    {
     "name": "stderr",
     "output_type": "stream",
     "text": [
      "/Users/anne-soline.guilbert-ly@dataiku.com/EDF-sentiment-analysis/.venv/lib/python3.9/site-packages/tqdm/auto.py:21: TqdmWarning: IProgress not found. Please update jupyter and ipywidgets. See https://ipywidgets.readthedocs.io/en/stable/user_install.html\n",
      "  from .autonotebook import tqdm as notebook_tqdm\n",
      "None of PyTorch, TensorFlow >= 2.0, or Flax have been found. Models won't be available and only tokenizers, configuration and file/data utilities can be used.\n",
      "None of PyTorch, TensorFlow >= 2.0, or Flax have been found. Models won't be available and only tokenizers, configuration and file/data utilities can be used.\n"
     ]
    }
   ],
   "source": [
    "import matplotlib.pyplot as plt\n",
    "import pandas as pd\n",
    "pd.set_option('display.max_colwidth', None)\n",
    "import pandas as pd\n",
    "from transformers import pipeline\n",
    "from transformers import AutoTokenizer, AutoModelForTokenClassification\n"
   ]
  },
  {
   "cell_type": "code",
   "execution_count": 3,
   "metadata": {},
   "outputs": [],
   "source": [
    "df = pd.read_csv('training.1600000.processed.noemoticon.csv', encoding='latin-1', names=['target', 'id', 'date', 'flag', 'user', 'text'])"
   ]
  },
  {
   "cell_type": "code",
   "execution_count": 8,
   "metadata": {},
   "outputs": [],
   "source": [
    "df_sample = df.sample(n=1000)"
   ]
  },
  {
   "cell_type": "code",
   "execution_count": 10,
   "metadata": {},
   "outputs": [
    {
     "ename": "NameError",
     "evalue": "name 'hf_transformers_home_dir' is not defined",
     "output_type": "error",
     "traceback": [
      "\u001b[0;31m---------------------------------------------------------------------------\u001b[0m",
      "\u001b[0;31mNameError\u001b[0m                                 Traceback (most recent call last)",
      "Cell \u001b[0;32mIn[10], line 32\u001b[0m\n\u001b[1;32m     28\u001b[0m     input_df[\u001b[38;5;124m'\u001b[39m\u001b[38;5;124mpredicted_labels\u001b[39m\u001b[38;5;124m'\u001b[39m] \u001b[38;5;241m=\u001b[39m predicted_labels\n\u001b[1;32m     30\u001b[0m     \u001b[38;5;28;01mreturn\u001b[39;00m input_df\n\u001b[0;32m---> 32\u001b[0m document_scored_df \u001b[38;5;241m=\u001b[39m \u001b[43mperform_ner_inference\u001b[49m\u001b[43m(\u001b[49m\u001b[43mmodel_name\u001b[49m\u001b[43m,\u001b[49m\u001b[43m \u001b[49m\u001b[43mdf_sample\u001b[49m\u001b[43m)\u001b[49m\n\u001b[1;32m     34\u001b[0m document_scored_df\u001b[38;5;241m.\u001b[39mhead()\n",
      "Cell \u001b[0;32mIn[10], line 14\u001b[0m, in \u001b[0;36mperform_ner_inference\u001b[0;34m(model_name, input_df)\u001b[0m\n\u001b[1;32m      6\u001b[0m \u001b[38;5;250m\u001b[39m\u001b[38;5;124;03m\"\"\"\u001b[39;00m\n\u001b[1;32m      7\u001b[0m \u001b[38;5;124;03mperform_ner_inference performs NER inference on a dataframe using a specified Hugging Face model.\u001b[39;00m\n\u001b[1;32m      8\u001b[0m \u001b[38;5;124;03m\u001b[39;00m\n\u001b[0;32m   (...)\u001b[0m\n\u001b[1;32m     11\u001b[0m \u001b[38;5;124;03m:return: pd.DataFrame. A dataframe containing the NER results, with at least columns \"document_id\", \"text\", and \"predicted_labels\".\u001b[39;00m\n\u001b[1;32m     12\u001b[0m \u001b[38;5;124;03m\"\"\"\u001b[39;00m\n\u001b[1;32m     13\u001b[0m \u001b[38;5;66;03m# Load the pre-trained tokenizer and model\u001b[39;00m\n\u001b[0;32m---> 14\u001b[0m tokenizer \u001b[38;5;241m=\u001b[39m AutoTokenizer\u001b[38;5;241m.\u001b[39mfrom_pretrained(model_name, cache_dir\u001b[38;5;241m=\u001b[39m\u001b[43mhf_transformers_home_dir\u001b[49m)\n\u001b[1;32m     15\u001b[0m model \u001b[38;5;241m=\u001b[39m AutoModelForTokenClassification\u001b[38;5;241m.\u001b[39mfrom_pretrained(model_name, cache_dir\u001b[38;5;241m=\u001b[39mhf_transformers_home_dir)\n\u001b[1;32m     17\u001b[0m \u001b[38;5;66;03m# Load the token classification pipeline\u001b[39;00m\n",
      "\u001b[0;31mNameError\u001b[0m: name 'hf_transformers_home_dir' is not defined"
     ]
    }
   ],
   "source": [
    "# Compute recipe outputs from inputs\n",
    "# Define the model to use\n",
    "model_name = \"dslim/bert-base-NER\"\n",
    "\n",
    "def perform_ner_inference(model_name, input_df):\n",
    "    \"\"\"\n",
    "    perform_ner_inference performs NER inference on a dataframe using a specified Hugging Face model.\n",
    "    \n",
    "    :param model_name: The name of the Hugging Face model to use for NER.\n",
    "    :param input_df: The input dataframe with at least two columns, document_id and text.\n",
    "    :return: pd.DataFrame. A dataframe containing the NER results, with at least columns \"document_id\", \"text\", and \"predicted_labels\".\n",
    "    \"\"\"\n",
    "    # Load the pre-trained tokenizer and model\n",
    "    tokenizer = AutoTokenizer.from_pretrained(model_name, cache_dir=\".cache/\")\n",
    "    model = AutoModelForTokenClassification.from_pretrained(model_name, cache_dir=\".cache/\")\n",
    "\n",
    "    # Load the token classification pipeline\n",
    "    token_classification_pipeline = pipeline(\"ner\", model=model, tokenizer=tokenizer, aggregation_strategy=\"first\") # pass device=0 if using gpu\n",
    "\n",
    "    # Perform token classification on each row of the dataframe\n",
    "    predicted_labels = []\n",
    "    for index, row in input_df.iterrows():\n",
    "        document_id = row[\"id\"]\n",
    "        text = row[\"text\"]\n",
    "        results = token_classification_pipeline(text)\n",
    "        predicted_labels.append(results)\n",
    "        \n",
    "    input_df['predicted_labels'] = predicted_labels\n",
    "\n",
    "    return input_df\n",
    "\n",
    "document_scored_df = perform_ner_inference(model_name, df_sample)\n",
    "\n",
    "document_scored_df.head()\n"
   ]
  },
  {
   "cell_type": "code",
   "execution_count": null,
   "metadata": {},
   "outputs": [],
   "source": []
  }
 ],
 "metadata": {
  "kernelspec": {
   "display_name": ".venv",
   "language": "python",
   "name": "python3"
  },
  "language_info": {
   "codemirror_mode": {
    "name": "ipython",
    "version": 3
   },
   "file_extension": ".py",
   "mimetype": "text/x-python",
   "name": "python",
   "nbconvert_exporter": "python",
   "pygments_lexer": "ipython3",
   "version": "3.9.21"
  }
 },
 "nbformat": 4,
 "nbformat_minor": 2
}
