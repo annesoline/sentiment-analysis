{
 "cells": [
  {
   "cell_type": "code",
   "execution_count": 47,
   "metadata": {},
   "outputs": [],
   "source": [
    "import matplotlib.pyplot as plt\n",
    "import pandas as pd\n",
    "pd.set_option('display.max_colwidth', None)\n",
    "\n"
   ]
  },
  {
   "cell_type": "markdown",
   "metadata": {},
   "source": [
    "# 1. Load tweets dataset"
   ]
  },
  {
   "cell_type": "code",
   "execution_count": 4,
   "metadata": {},
   "outputs": [],
   "source": [
    "df = pd.read_csv('training.1600000.processed.noemoticon.csv', encoding='latin-1', names=['target', 'id', 'date', 'flag', 'user', 'text'])"
   ]
  },
  {
   "cell_type": "code",
   "execution_count": 5,
   "metadata": {},
   "outputs": [
    {
     "data": {
      "text/html": [
       "<div>\n",
       "<style scoped>\n",
       "    .dataframe tbody tr th:only-of-type {\n",
       "        vertical-align: middle;\n",
       "    }\n",
       "\n",
       "    .dataframe tbody tr th {\n",
       "        vertical-align: top;\n",
       "    }\n",
       "\n",
       "    .dataframe thead th {\n",
       "        text-align: right;\n",
       "    }\n",
       "</style>\n",
       "<table border=\"1\" class=\"dataframe\">\n",
       "  <thead>\n",
       "    <tr style=\"text-align: right;\">\n",
       "      <th></th>\n",
       "      <th>target</th>\n",
       "      <th>id</th>\n",
       "      <th>date</th>\n",
       "      <th>flag</th>\n",
       "      <th>user</th>\n",
       "      <th>text</th>\n",
       "    </tr>\n",
       "  </thead>\n",
       "  <tbody>\n",
       "    <tr>\n",
       "      <th>0</th>\n",
       "      <td>0</td>\n",
       "      <td>1467810369</td>\n",
       "      <td>Mon Apr 06 22:19:45 PDT 2009</td>\n",
       "      <td>NO_QUERY</td>\n",
       "      <td>_TheSpecialOne_</td>\n",
       "      <td>@switchfoot http://twitpic.com/2y1zl - Awww, t...</td>\n",
       "    </tr>\n",
       "    <tr>\n",
       "      <th>1</th>\n",
       "      <td>0</td>\n",
       "      <td>1467810672</td>\n",
       "      <td>Mon Apr 06 22:19:49 PDT 2009</td>\n",
       "      <td>NO_QUERY</td>\n",
       "      <td>scotthamilton</td>\n",
       "      <td>is upset that he can't update his Facebook by ...</td>\n",
       "    </tr>\n",
       "    <tr>\n",
       "      <th>2</th>\n",
       "      <td>0</td>\n",
       "      <td>1467810917</td>\n",
       "      <td>Mon Apr 06 22:19:53 PDT 2009</td>\n",
       "      <td>NO_QUERY</td>\n",
       "      <td>mattycus</td>\n",
       "      <td>@Kenichan I dived many times for the ball. Man...</td>\n",
       "    </tr>\n",
       "    <tr>\n",
       "      <th>3</th>\n",
       "      <td>0</td>\n",
       "      <td>1467811184</td>\n",
       "      <td>Mon Apr 06 22:19:57 PDT 2009</td>\n",
       "      <td>NO_QUERY</td>\n",
       "      <td>ElleCTF</td>\n",
       "      <td>my whole body feels itchy and like its on fire</td>\n",
       "    </tr>\n",
       "    <tr>\n",
       "      <th>4</th>\n",
       "      <td>0</td>\n",
       "      <td>1467811193</td>\n",
       "      <td>Mon Apr 06 22:19:57 PDT 2009</td>\n",
       "      <td>NO_QUERY</td>\n",
       "      <td>Karoli</td>\n",
       "      <td>@nationwideclass no, it's not behaving at all....</td>\n",
       "    </tr>\n",
       "  </tbody>\n",
       "</table>\n",
       "</div>"
      ],
      "text/plain": [
       "   target          id                          date      flag  \\\n",
       "0       0  1467810369  Mon Apr 06 22:19:45 PDT 2009  NO_QUERY   \n",
       "1       0  1467810672  Mon Apr 06 22:19:49 PDT 2009  NO_QUERY   \n",
       "2       0  1467810917  Mon Apr 06 22:19:53 PDT 2009  NO_QUERY   \n",
       "3       0  1467811184  Mon Apr 06 22:19:57 PDT 2009  NO_QUERY   \n",
       "4       0  1467811193  Mon Apr 06 22:19:57 PDT 2009  NO_QUERY   \n",
       "\n",
       "              user                                               text  \n",
       "0  _TheSpecialOne_  @switchfoot http://twitpic.com/2y1zl - Awww, t...  \n",
       "1    scotthamilton  is upset that he can't update his Facebook by ...  \n",
       "2         mattycus  @Kenichan I dived many times for the ball. Man...  \n",
       "3          ElleCTF    my whole body feels itchy and like its on fire   \n",
       "4           Karoli  @nationwideclass no, it's not behaving at all....  "
      ]
     },
     "execution_count": 5,
     "metadata": {},
     "output_type": "execute_result"
    }
   ],
   "source": [
    "df.head()"
   ]
  },
  {
   "cell_type": "markdown",
   "metadata": {},
   "source": [
    "# 2. Textual data quality analysis\n",
    "## 2.1. Basic information"
   ]
  },
  {
   "cell_type": "code",
   "execution_count": 6,
   "metadata": {},
   "outputs": [
    {
     "name": "stdout",
     "output_type": "stream",
     "text": [
      "<class 'pandas.core.frame.DataFrame'>\n",
      "RangeIndex: 1600000 entries, 0 to 1599999\n",
      "Data columns (total 6 columns):\n",
      " #   Column  Non-Null Count    Dtype \n",
      "---  ------  --------------    ----- \n",
      " 0   target  1600000 non-null  int64 \n",
      " 1   id      1600000 non-null  int64 \n",
      " 2   date    1600000 non-null  object\n",
      " 3   flag    1600000 non-null  object\n",
      " 4   user    1600000 non-null  object\n",
      " 5   text    1600000 non-null  object\n",
      "dtypes: int64(2), object(4)\n",
      "memory usage: 73.2+ MB\n"
     ]
    }
   ],
   "source": [
    "df.info()"
   ]
  },
  {
   "cell_type": "code",
   "execution_count": 7,
   "metadata": {},
   "outputs": [
    {
     "name": "stdout",
     "output_type": "stream",
     "text": [
      "Values taken by the column flag: NO_QUERY\n"
     ]
    }
   ],
   "source": [
    "print(f\"Values taken by the column flag: {df['flag'].unique()[0]}\")"
   ]
  },
  {
   "cell_type": "code",
   "execution_count": 8,
   "metadata": {},
   "outputs": [
    {
     "name": "stdout",
     "output_type": "stream",
     "text": [
      "There are 659775 different users.\n"
     ]
    }
   ],
   "source": [
    "print(f\"There are {df['user'].nunique()} different users.\")"
   ]
  },
  {
   "cell_type": "code",
   "execution_count": 48,
   "metadata": {},
   "outputs": [
    {
     "name": "stdout",
     "output_type": "stream",
     "text": [
      "\n",
      "Number of empty tweets: 0\n"
     ]
    }
   ],
   "source": [
    "# Check for empty tweets\n",
    "empty_tweets = len(df[df['text'].str.len() == 0])\n",
    "print(f\"\\nNumber of empty tweets: {empty_tweets}\")\n"
   ]
  },
  {
   "cell_type": "markdown",
   "metadata": {},
   "source": [
    "## 2.2. Tweet length"
   ]
  },
  {
   "cell_type": "code",
   "execution_count": 9,
   "metadata": {},
   "outputs": [
    {
     "data": {
      "text/html": [
       "<div>\n",
       "<style scoped>\n",
       "    .dataframe tbody tr th:only-of-type {\n",
       "        vertical-align: middle;\n",
       "    }\n",
       "\n",
       "    .dataframe tbody tr th {\n",
       "        vertical-align: top;\n",
       "    }\n",
       "\n",
       "    .dataframe thead th {\n",
       "        text-align: right;\n",
       "    }\n",
       "</style>\n",
       "<table border=\"1\" class=\"dataframe\">\n",
       "  <thead>\n",
       "    <tr style=\"text-align: right;\">\n",
       "      <th></th>\n",
       "      <th>target</th>\n",
       "      <th>id</th>\n",
       "      <th>date</th>\n",
       "      <th>flag</th>\n",
       "      <th>user</th>\n",
       "      <th>text</th>\n",
       "      <th>tweet_length_chars</th>\n",
       "      <th>tweet_length_words</th>\n",
       "    </tr>\n",
       "  </thead>\n",
       "  <tbody>\n",
       "    <tr>\n",
       "      <th>0</th>\n",
       "      <td>0</td>\n",
       "      <td>1467810369</td>\n",
       "      <td>Mon Apr 06 22:19:45 PDT 2009</td>\n",
       "      <td>NO_QUERY</td>\n",
       "      <td>_TheSpecialOne_</td>\n",
       "      <td>@switchfoot http://twitpic.com/2y1zl - Awww, t...</td>\n",
       "      <td>115</td>\n",
       "      <td>19</td>\n",
       "    </tr>\n",
       "    <tr>\n",
       "      <th>1</th>\n",
       "      <td>0</td>\n",
       "      <td>1467810672</td>\n",
       "      <td>Mon Apr 06 22:19:49 PDT 2009</td>\n",
       "      <td>NO_QUERY</td>\n",
       "      <td>scotthamilton</td>\n",
       "      <td>is upset that he can't update his Facebook by ...</td>\n",
       "      <td>111</td>\n",
       "      <td>21</td>\n",
       "    </tr>\n",
       "    <tr>\n",
       "      <th>2</th>\n",
       "      <td>0</td>\n",
       "      <td>1467810917</td>\n",
       "      <td>Mon Apr 06 22:19:53 PDT 2009</td>\n",
       "      <td>NO_QUERY</td>\n",
       "      <td>mattycus</td>\n",
       "      <td>@Kenichan I dived many times for the ball. Man...</td>\n",
       "      <td>89</td>\n",
       "      <td>18</td>\n",
       "    </tr>\n",
       "    <tr>\n",
       "      <th>3</th>\n",
       "      <td>0</td>\n",
       "      <td>1467811184</td>\n",
       "      <td>Mon Apr 06 22:19:57 PDT 2009</td>\n",
       "      <td>NO_QUERY</td>\n",
       "      <td>ElleCTF</td>\n",
       "      <td>my whole body feels itchy and like its on fire</td>\n",
       "      <td>47</td>\n",
       "      <td>10</td>\n",
       "    </tr>\n",
       "    <tr>\n",
       "      <th>4</th>\n",
       "      <td>0</td>\n",
       "      <td>1467811193</td>\n",
       "      <td>Mon Apr 06 22:19:57 PDT 2009</td>\n",
       "      <td>NO_QUERY</td>\n",
       "      <td>Karoli</td>\n",
       "      <td>@nationwideclass no, it's not behaving at all....</td>\n",
       "      <td>111</td>\n",
       "      <td>21</td>\n",
       "    </tr>\n",
       "  </tbody>\n",
       "</table>\n",
       "</div>"
      ],
      "text/plain": [
       "   target          id                          date      flag  \\\n",
       "0       0  1467810369  Mon Apr 06 22:19:45 PDT 2009  NO_QUERY   \n",
       "1       0  1467810672  Mon Apr 06 22:19:49 PDT 2009  NO_QUERY   \n",
       "2       0  1467810917  Mon Apr 06 22:19:53 PDT 2009  NO_QUERY   \n",
       "3       0  1467811184  Mon Apr 06 22:19:57 PDT 2009  NO_QUERY   \n",
       "4       0  1467811193  Mon Apr 06 22:19:57 PDT 2009  NO_QUERY   \n",
       "\n",
       "              user                                               text  \\\n",
       "0  _TheSpecialOne_  @switchfoot http://twitpic.com/2y1zl - Awww, t...   \n",
       "1    scotthamilton  is upset that he can't update his Facebook by ...   \n",
       "2         mattycus  @Kenichan I dived many times for the ball. Man...   \n",
       "3          ElleCTF    my whole body feels itchy and like its on fire    \n",
       "4           Karoli  @nationwideclass no, it's not behaving at all....   \n",
       "\n",
       "   tweet_length_chars  tweet_length_words  \n",
       "0                 115                  19  \n",
       "1                 111                  21  \n",
       "2                  89                  18  \n",
       "3                  47                  10  \n",
       "4                 111                  21  "
      ]
     },
     "execution_count": 9,
     "metadata": {},
     "output_type": "execute_result"
    }
   ],
   "source": [
    "df['tweet_length_chars'] = df['text'].str.len()\n",
    "df['tweet_length_words'] = df['text'].str.split().apply(len)\n",
    "df.head()"
   ]
  },
  {
   "cell_type": "code",
   "execution_count": 16,
   "metadata": {},
   "outputs": [
    {
     "name": "stdout",
     "output_type": "stream",
     "text": [
      "\n",
      "Tweet length statistics:\n",
      "count    1.600000e+06\n",
      "mean     7.409011e+01\n",
      "std      3.644114e+01\n",
      "min      6.000000e+00\n",
      "25%      4.400000e+01\n",
      "50%      6.900000e+01\n",
      "75%      1.040000e+02\n",
      "max      3.740000e+02\n",
      "Name: tweet_length_chars, dtype: float64\n"
     ]
    },
    {
     "data": {
      "image/png": "[encoded data removed]",
      "text/plain": [
       "<Figure size 1200x600 with 1 Axes>"
      ]
     },
     "metadata": {},
     "output_type": "display_data"
    },
    {
     "name": "stdout",
     "output_type": "stream",
     "text": [
      "\n",
      "Most common tweet lengths (in words):\n",
      "tweet_length_words\n",
      "7     89283\n",
      "8     88847\n",
      "6     87307\n",
      "9     87014\n",
      "10    83542\n",
      "Name: count, dtype: int64\n"
     ]
    }
   ],
   "source": [
    "# Tweet column analysis\n",
    "print(\"\\nTweet length statistics:\")\n",
    "print(df['tweet_length_chars'].describe())\n",
    "\n",
    "# Plot distribution of tweet lengths\n",
    "plt.figure(figsize=(12,6))\n",
    "plt.hist(df['tweet_length_chars'], bins=50, edgecolor='black')\n",
    "plt.title('Distribution of Tweet Lengths')\n",
    "plt.xlabel('Number of Characters')\n",
    "plt.ylabel('Frequency')\n",
    "plt.show()\n",
    "\n",
    "# Most common tweet lengths in words\n",
    "print(\"\\nMost common tweet lengths (in words):\")\n",
    "print(df['tweet_length_words'].value_counts().head())"
   ]
  },
  {
   "cell_type": "markdown",
   "metadata": {},
   "source": [
    "## 2.3. Tweet specificities (characters, URL, and mentions)"
   ]
  },
  {
   "cell_type": "code",
   "execution_count": 64,
   "metadata": {},
   "outputs": [
    {
     "name": "stdout",
     "output_type": "stream",
     "text": [
      "\n",
      "Number of unique characters used: 193\n",
      "Unique characters used: \t !#$%&'()*+,-./0123456789:;=?@ABCDEFGHIJKLMNOPQRSTUVWXYZ[\\]^_`abcdefghijklmnopqrstuvwxyz{|}~ ¡¢£¤¥¦§¨©ª«¬­®¯°±²³´µ¶·¸¹º»¼½¾¿ÂÃÄÅÆÇÈÉÊËÌÍÎÏÐÑÒÓ×ØÙÚÛßàáâãäåæçèéêëìíîï\n",
      "\n",
      "Tweets with repetitive characters: 68145 (4.26%)\n",
      "\n",
      "Examples of tweets with repetitive characters:\n",
      "69                                                                                  @Lt_Algonquin agreed, I saw the failwhale allllll day today. \n",
      "73     Gym attire today was: Puma singlet, Adidas shorts.......and black business socks and leather shoes  Lucky did not run into any cute girls.\n",
      "96                               so rylee,grace...wana go steve's party or not?? SADLY SINCE ITS EASTER I WNT B ABLE 2 DO MUCH  BUT OHH WELL.....\n",
      "111                                                                                   I'm sooo sad!!! they killed off Kutner on House  whyyyyyyyy\n",
      "130                        @chelserlynn haha its so cooooold in the d! and no  but you should still go to the show. they do some incredible stuff\n",
      "160      Picked Mich St to win it all from the get go.  Was feeling pretty good about that pick all the way up until......tonight.  A's lost too \n",
      "169                                                  @naughtyhaughty I had on my page for sooooo long!!! Until it got deleted  Sad day in history\n",
      "251                                                                         feeling lost, naked and confused (JK, sort of).....no iphone for me. \n",
      "256     @burgaw Ooooooh! *sealclap* See, I download shitloads of zip folders off 4chan. I have no internet moneys.  FUCK YEAH ALICIA &amp; MIKEY.\n",
      "267                                                                                 poor socks  luvvvvv the golden retriever!! I want one sighhhh\n",
      "Name: text, dtype: object\n",
      "\n",
      "Example tweets containing URLs:\n",
      "0                   @switchfoot http://twitpic.com/2y1zl - Awww, that's a bummer.  You shoulda got David Carr of Third Day to do it. ;D\n",
      "37                                                                        @MissXu sorry! bed time came here (GMT+1)   http://is.gd/fNge\n",
      "50    Broadband plan 'a massive broken promise' http://tinyurl.com/dcuc33 via www.diigo.com/~tautao Still waiting for broadband we are \n",
      "74                                                                          Why won't you show my location?!   http://twitpic.com/2y2es\n",
      "95                                                Strider is a sick little puppy  http://apps.facebook.com/dogbook/profile/view/5248435\n",
      "Name: text, dtype: object\n",
      "\n",
      "Example tweets containing @mentions:\n",
      "0    @switchfoot http://twitpic.com/2y1zl - Awww, that's a bummer.  You shoulda got David Carr of Third Day to do it. ;D\n",
      "2                              @Kenichan I dived many times for the ball. Managed to save 50%  The rest go out of bounds\n",
      "4        @nationwideclass no, it's not behaving at all. i'm mad. why am i here? because I can't see you all over there. \n",
      "5                                                                                          @Kwesidei not the whole crew \n",
      "7                    @LOLTrish hey  long time no see! Yes.. Rains a bit ,only a bit  LOL , I'm fine thanks , how's you ?\n",
      "Name: text, dtype: object\n",
      "\n",
      "Tweets containing URLs: 85444 (5.34%)\n",
      "Tweets containing @mentions: 746432 (46.65%)\n"
     ]
    }
   ],
   "source": [
    "# Unique characters analysis\n",
    "all_chars = ''.join(df['text'].values)\n",
    "unique_chars = set(all_chars)\n",
    "print(f\"\\nNumber of unique characters used: {len(unique_chars)}\")\n",
    "print(f\"Unique characters used: {''.join(sorted(unique_chars))}\")\n",
    "\n",
    "# Check for repetitive characters (like 'aaaaaa' or '!!!!!!!')\n",
    "repetitive_chars = df[df['text'].str.match(r'.*(.)\\1{4,}.*')].shape[0]\n",
    "print(f\"\\nTweets with repetitive characters: {repetitive_chars} ({(repetitive_chars/len(df)*100):.2f}%)\")\n",
    "print(\"\\nExamples of tweets with repetitive characters:\")\n",
    "print(df[df['text'].str.match(r'.*(.)\\1{4,}.*')]['text'].head(10))\n",
    "\n",
    "\n",
    "# URL and mention analysis\n",
    "tweets_with_urls = len(df[df['text'].str.contains('http|www', regex=True)])\n",
    "tweets_with_mentions = len(df[df['text'].str.contains('@')])\n",
    "\n",
    "# Print examples of tweets with URLs\n",
    "print(\"\\nExample tweets containing URLs:\")\n",
    "urls = df['text'].str.extract(r'\\b(http|www\\S+)', expand=False)\n",
    "print(df[urls.notna()]['text'].head())\n",
    "\n",
    "# Print examples of tweets with mentions\n",
    "print(\"\\nExample tweets containing @mentions:\")\n",
    "print(df[df['text'].str.contains('@')]['text'].head())\n",
    "\n",
    "print(f\"\\nTweets containing URLs: {tweets_with_urls} ({tweets_with_urls/len(df)*100:.2f}%)\")\n",
    "print(f\"Tweets containing @mentions: {tweets_with_mentions} ({tweets_with_mentions/len(df)*100:.2f}%)\")\n"
   ]
  },
  {
   "cell_type": "markdown",
   "metadata": {},
   "source": [
    "### Comments\n",
    "Tweets with repetitive characters often contain repeated dots or letters. For the latter, we can easily eliminate the repetition in the letters, helping the model better understand the words.\n",
    "\n",
    "It will be useful to remove all the URL from the text to ease the detection of sentiment in the text.\n",
    "\n",
    "Tweets containing only a mention in the text are tagged, allowing them to be removed from the dataset later, as they provide no relevant information for sentiment analysis."
   ]
  },
  {
   "cell_type": "code",
   "execution_count": 56,
   "metadata": {},
   "outputs": [
    {
     "name": "stdout",
     "output_type": "stream",
     "text": [
      "\n",
      "Tweets that are only mentions: 2673 (0.17%)\n",
      "\n",
      "Example tweets that are only mentions:\n",
      "208         @mandayyy \n",
      "249       @mandayyy   \n",
      "398     @danadearmond \n",
      "430         @anistorm \n",
      "1011    @citizensheep \n",
      "Name: text, dtype: object\n"
     ]
    }
   ],
   "source": [
    "# Create mention_only column\n",
    "# Pattern matches tweets that only contain @ followed by word characters\n",
    "df['mention_only'] = df['text'].str.match(r'^\\s*@\\w+\\s*$').astype(int)\n",
    "\n",
    "# Print summary\n",
    "print(f\"\\nTweets that are only mentions: {df['mention_only'].sum()} ({df['mention_only'].sum()/len(df)*100:.2f}%)\")\n",
    "print(\"\\nExample tweets that are only mentions:\")\n",
    "print(df[df['mention_only'] == 1]['text'].head())\n"
   ]
  },
  {
   "cell_type": "markdown",
   "metadata": {},
   "source": [
    "## 2.4. Tweets with special characters and unreadable tweets"
   ]
  },
  {
   "cell_type": "code",
   "execution_count": 52,
   "metadata": {},
   "outputs": [
    {
     "name": "stdout",
     "output_type": "stream",
     "text": [
      "Special characters: ['\\t', '\\x7f', '\\x80', '\\x82', '\\x83', '\\x84', '\\x85', '\\x86', '\\x87', '\\x88', '\\x89', '\\x8a', '\\x8b', '\\x8c', '\\x8e', '\\x91', '\\x92', '\\x93', '\\x94', '\\x95', '\\x96', '\\x97', '\\x98', '\\x99', '\\x9a', '\\x9b', '\\x9c', '\\x9e', '\\x9f', '\\xa0', '¡', '¢', '£', '¤', '¥', '¦', '§', '¨', '©', '¬', '\\xad', '®', '¯', '°', '±', '²', '³', '¶', '¹', '¼', '½', '¾', '¿', '×']\n"
     ]
    }
   ],
   "source": [
    "import string\n",
    "\n",
    "special_chars = [c for c in unique_chars \n",
    "                if c not in string.ascii_letters \n",
    "                and c not in string.digits\n",
    "                and c not in string.punctuation\n",
    "                and not c.isalpha()\n",
    "                and c not in ['¸', '·', ' ', '´', '»', '«']]  # Excludes accented letters, euro symbol, and specific characters\n",
    "print('Special characters:', (sorted(special_chars)))"
   ]
  },
  {
   "cell_type": "code",
   "execution_count": 53,
   "metadata": {},
   "outputs": [
    {
     "name": "stdout",
     "output_type": "stream",
     "text": [
      "\n",
      "Tweets with more than 5 special characters:\n",
      "--------------------------------------------------\n",
      "\n",
      "Number of unreadable tweets: 2010\n",
      "\n",
      "Example unreadable tweets:\n",
      "                                                                                                                                                        text\n",
      "3318   http://tr.im/imOv ï¿½i, bï¿½c H?i Tho?i th? lï¿½ giï¿½ t? cu?c ??i r?i ( Mï¿½nh v?n cï¿½n nh? cï¿½i nhï¿½ t?p th? bï¿½ tï¿½ c?a bï¿½c ï¿½ ? ch? Tr?i \n",
      "3688                              @kijuto em ng? t? 1h sï¿½ng -&gt; 11h tr?a d?y ?n c?m, ?n xong ng? ti?p ??n t?n bï¿½y gi?  ! mï¿½ m?t.... mï¿½ m?t...... !\n",
      "5055                                                                                                   Em ?ang lï¿½m gï¿½ nh? ? Sao ko th?y tr? l?i mï¿½nh  \n",
      "5626                mai thi communication system mï¿½ ch?a cï¿½ h?c ???c ch? nï¿½o h?t, ch?c l?i f?i n?p gi?y tr?ng nh? hï¿½m thi mï¿½n Anten quï¿½,  :'&lt;\n",
      "6916                                                                                                          th? ï¿½ hjc Tr c?ng ch?a rï¿½ cï¿½i nï¿½y l?m \n",
      "7761                                                       online bankovnictvï¿½ KB je offline zrovna kdyï¿½ je to nejvï¿½c pot?eba  ï¿½lak m? trefï¿½, grrr\n",
      "8150                                              Your average industry ï¿½nilla porno doesnï¿½t even start around a coffee table anymoreï¿½ what the hell? \n",
      "10111  @mileycyrus Iï¿½d like to go to Madrid to see you but I think itï¿½s not possible   anyway, Iï¿½ll watch you on tuesday on &quot;El hormiguero&quot; \n",
      "12780                          @quocbao em th?y dï¿½ng b?n ï¿½ s??ng  nh?ng mï¿½ b?n ï¿½ ko h? tr? wifi  Vn l?i ch?a cï¿½ 3G nï¿½n c?m giï¿½c h?i thi?u th?n\n",
      "14684                                                                                                    Bientï¿½t dï¿½collage vacances, bye bye Twitterï¿½ \n"
     ]
    }
   ],
   "source": [
    "# Create unreadable column based on special character count\n",
    "df['unreadable'] = df['text'].apply(lambda x: 1 if sum(1 for c in x if c in special_chars) > 5 else 0)\n",
    "\n",
    "# Print summary statistics\n",
    "print(\"\\nTweets with more than 5 special characters:\")\n",
    "print(\"-\" * 50)\n",
    "print(f\"\\nNumber of unreadable tweets: {df['unreadable'].sum()}\")\n",
    "print(\"\\nExample unreadable tweets:\")\n",
    "print(df[df['unreadable'] == 1][['text']].head(10))\n"
   ]
  },
  {
   "cell_type": "code",
   "execution_count": 32,
   "metadata": {},
   "outputs": [
    {
     "name": "stdout",
     "output_type": "stream",
     "text": [
      "\n",
      "Tweets containing special characters:\n",
      "--------------------------------------------------\n",
      "\n",
      "Tweets containing '':\n",
      "                                                                                                                                                                                                                                      text\n",
      "245571                                                              ä»²æä¸èª²adverse possessionï¼?ä½ä¹å?çco-own, leasehold, license, proprietary estoppel å?ç¡ä¹å?°è±¡â¦ åâ¦ ç?å®å?ç?ï¼ç?å®å?ç?ï¼ç?å®å?ç?â¦ \n",
      "248973  Ð?ÑÑ, OpenOffice Ð²ÑÐ±ÐµÑ?Ð¸Ð» Ñ?Ð²Ð¾ÐµÐ¹ Ð½ÐµÑ?ÑÐ°Ð±Ð¸Ð»ÑÐ½Ð¾Ñ?ÑÑÑ Ð¿ÑÐ¸ ÑÐ°Ð±Ð¾ÑÐµ Ñ? ÑÐ°Ð±Ð»Ð¸ÑÐ°Ð¼Ð¸, Ð²ÑÐµÐ¼ÐµÐ½Ð½Ð¾ Ð¿ÐµÑÐµÐµÐ·Ð¶Ð°Ñ Ð¾Ð±ÑÐ°ÑÐ½Ð¾ Ð½Ð° M$. Ð§ÑÐ²Ñ?ÑÐ²ÑÑ Ñ?ÐµÐ±Ñ? Ð¿ÑÐµÐ´Ð°ÑÐµÐ»ÐµÐ¼ \n",
      "256818                                                                                                                                                                There are too many people in the train   é»è»ã?«äººã?ã?ã?£ã?±ã?\n",
      "267198                                                                                                                           Ð¢ÑÐ°Ð½Ñ?Ð¿Ð¾ÑÑ Ð² Gtalk icq.freeside.ru Ð¿ÐµÑÐµÑ?ÑÐ°Ð» ÑÐ°Ð±Ð¾ÑÐ°ÑÑ (Ñ?ÑÑÐµÑ?ÑÐ²Ð¾Ð²Ð°ÑÑ) \n",
      "269905                                                                   MacPorts ã?§swigå¥ããã?ã?¨ãªãã·ã§ã³ã?ªã?ã?§ã¤ã³ã¹ãã¼ã«ã?ã?ãapache2+php5ã?ã?¤ã?ã?¦ã??ã?ï¼ä½è¨ã?«æéã?ã?ã?¡ãã?ã?ãã?ªã?ã?® \n",
      "\n",
      "Tweets containing ' ':\n",
      "                                                                                                                                 text\n",
      "240464                                   @Buou å¦å èå å¤±è¯¯ä¸è¶ åæ?¥å?¶æ²¡æå?å½ä½ å Sä¼ä¸è¾¹æ´è¡£ä¸è¾¹å??ç?ç \n",
      "241225                                                         @tranvinhnt  thÃ´i, rÃºt kinh nghiá»m cho láº§n thÆ°Æ¡ng Äau nÃ y :|\n",
      "245862                                                            Tháº¿ mÃ  chÆ°a báº¯t ÄÆ°á»£c con cÃ¡ nÃ o, tháº­t lÃ  phÃ­ sá»©c \n",
      "245949  má»t wa', thÃ´i mai lÃ m tiáº¿p, cÃ²n 3 chá»¯ ná»¯a  lÃ  xong 1/3 cÃ´ng viá»c, cháº¯c pháº£i 2 ngÃ y ná»¯a má»i xong (3/6)\n",
      "246160                          hic, mÃ£i má»i cÃ i xong cÃ¡i giáº£i thuáº­t merge sort cho danh sÃ¡ch liÃªn káº¿t, xáº¥u há» quÃ¡ \n",
      "\n",
      "Tweets containing '¼':\n",
      "                                                                                                                                                                                                                                      text\n",
      "240464                                                                                                                                        @Buou å¦å èå å¤±è¯¯ä¸è¶ åæ?¥å?¶æ²¡æå?å½ä½ å Sä¼ä¸è¾¹æ´è¡£ä¸è¾¹å??ç?ç \n",
      "243625                                                                                                                                                Final episode of ã?ã?ã¯ã­ ã?ã?ããã?¨ã¯ã­ã¼ã?ã¼ a.k.a Honey and Clover \n",
      "245571                                                              ä»²æä¸èª²adverse possessionï¼?ä½ä¹å?çco-own, leasehold, license, proprietary estoppel å?ç¡ä¹å?°è±¡â¦ åâ¦ ç?å®å?ç?ï¼ç?å®å?ç?ï¼ç?å®å?ç?â¦ \n",
      "245941                                                                                                                                                                       @13th ÑÑÐ¾ Ñ?Ð¾Ð²Ñ?ÐµÐ¼ Ð¿Ð»Ð¾ÑÐ¾?  Ð° blue eyes Ð¿ÐµÐ»Ð¸?\n",
      "248973  Ð?ÑÑ, OpenOffice Ð²ÑÐ±ÐµÑ?Ð¸Ð» Ñ?Ð²Ð¾ÐµÐ¹ Ð½ÐµÑ?ÑÐ°Ð±Ð¸Ð»ÑÐ½Ð¾Ñ?ÑÑÑ Ð¿ÑÐ¸ ÑÐ°Ð±Ð¾ÑÐµ Ñ? ÑÐ°Ð±Ð»Ð¸ÑÐ°Ð¼Ð¸, Ð²ÑÐµÐ¼ÐµÐ½Ð½Ð¾ Ð¿ÐµÑÐµÐµÐ·Ð¶Ð°Ñ Ð¾Ð±ÑÐ°ÑÐ½Ð¾ Ð½Ð° M$. Ð§ÑÐ²Ñ?ÑÐ²ÑÑ Ñ?ÐµÐ±Ñ? Ð¿ÑÐµÐ´Ð°ÑÐµÐ»ÐµÐ¼ \n",
      "\n",
      "Tweets containing '²':\n",
      "                                                                                                                                                                                                                                      text\n",
      "240464                                                                                                                                        @Buou å¦å èå å¤±è¯¯ä¸è¶ åæ?¥å?¶æ²¡æå?å½ä½ å Sä¼ä¸è¾¹æ´è¡£ä¸è¾¹å??ç?ç \n",
      "245571                                                              ä»²æä¸èª²adverse possessionï¼?ä½ä¹å?çco-own, leasehold, license, proprietary estoppel å?ç¡ä¹å?°è±¡â¦ åâ¦ ç?å®å?ç?ï¼ç?å®å?ç?ï¼ç?å®å?ç?â¦ \n",
      "245941                                                                                                                                                                       @13th ÑÑÐ¾ Ñ?Ð¾Ð²Ñ?ÐµÐ¼ Ð¿Ð»Ð¾ÑÐ¾?  Ð° blue eyes Ð¿ÐµÐ»Ð¸?\n",
      "245949                                                                                                       má»t wa', thÃ´i mai lÃ m tiáº¿p, cÃ²n 3 chá»¯ ná»¯a  lÃ  xong 1/3 cÃ´ng viá»c, cháº¯c pháº£i 2 ngÃ y ná»¯a má»i xong (3/6)\n",
      "248973  Ð?ÑÑ, OpenOffice Ð²ÑÐ±ÐµÑ?Ð¸Ð» Ñ?Ð²Ð¾ÐµÐ¹ Ð½ÐµÑ?ÑÐ°Ð±Ð¸Ð»ÑÐ½Ð¾Ñ?ÑÑÑ Ð¿ÑÐ¸ ÑÐ°Ð±Ð¾ÑÐµ Ñ? ÑÐ°Ð±Ð»Ð¸ÑÐ°Ð¼Ð¸, Ð²ÑÐµÐ¼ÐµÐ½Ð½Ð¾ Ð¿ÐµÑÐµÐµÐ·Ð¶Ð°Ñ Ð¾Ð±ÑÐ°ÑÐ½Ð¾ Ð½Ð° M$. Ð§ÑÐ²Ñ?ÑÐ²ÑÑ Ñ?ÐµÐ±Ñ? Ð¿ÑÐµÐ´Ð°ÑÐµÐ»ÐµÐ¼ \n",
      "\n",
      "Tweets containing '':\n",
      "                                                                                                                                                                          text\n",
      "240454                      faceyourmanga.com áá±áá¬áá¹á¸áá°á¸ áá¬á·áá¶á¯áá­á¯ áá?á¶á¯á¸ááá®á¸áá­á¯ááá­á¯á¹áá¹á?áá¹.. \n",
      "240464                                                                            @Buou å¦å èå å¤±è¯¯ä¸è¶ åæ?¥å?¶æ²¡æå?å½ä½ å Sä¼ä¸è¾¹æ´è¡£ä¸è¾¹å??ç?ç \n",
      "245571  ä»²æä¸èª²adverse possessionï¼?ä½ä¹å?çco-own, leasehold, license, proprietary estoppel å?ç¡ä¹å?°è±¡â¦ åâ¦ ç?å®å?ç?ï¼ç?å®å?ç?ï¼ç?å®å?ç?â¦ \n",
      "258973                               âIt takes one word to break up, It takes one breathe to say I love you, It also takes one second for your heart to fall into peicesâ? \n",
      "266686                                                     Ãber happy now that Pauls home, was only one weekend... So god knows how I'm gonna be when he's away for 4 months \n",
      "\n",
      "Tweets containing '¸':\n",
      "                                                                                                                                                                                                                                      text\n",
      "240454                                                                                  faceyourmanga.com áá±áá¬áá¹á¸áá°á¸ áá¬á·áá¶á¯áá­á¯ áá?á¶á¯á¸ááá®á¸áá­á¯ááá­á¯á¹áá¹á?áá¹.. \n",
      "240464                                                                                                                                        @Buou å¦å èå å¤±è¯¯ä¸è¶ åæ?¥å?¶æ²¡æå?å½ä½ å Sä¼ä¸è¾¹æ´è¡£ä¸è¾¹å??ç?ç \n",
      "245571                                                              ä»²æä¸èª²adverse possessionï¼?ä½ä¹å?çco-own, leasehold, license, proprietary estoppel å?ç¡ä¹å?°è±¡â¦ åâ¦ ç?å®å?ç?ï¼ç?å®å?ç?ï¼ç?å®å?ç?â¦ \n",
      "245941                                                                                                                                                                       @13th ÑÑÐ¾ Ñ?Ð¾Ð²Ñ?ÐµÐ¼ Ð¿Ð»Ð¾ÑÐ¾?  Ð° blue eyes Ð¿ÐµÐ»Ð¸?\n",
      "248973  Ð?ÑÑ, OpenOffice Ð²ÑÐ±ÐµÑ?Ð¸Ð» Ñ?Ð²Ð¾ÐµÐ¹ Ð½ÐµÑ?ÑÐ°Ð±Ð¸Ð»ÑÐ½Ð¾Ñ?ÑÑÑ Ð¿ÑÐ¸ ÑÐ°Ð±Ð¾ÑÐµ Ñ? ÑÐ°Ð±Ð»Ð¸ÑÐ°Ð¼Ð¸, Ð²ÑÐµÐ¼ÐµÐ½Ð½Ð¾ Ð¿ÐµÑÐµÐµÐ·Ð¶Ð°Ñ Ð¾Ð±ÑÐ°ÑÐ½Ð¾ Ð½Ð° M$. Ð§ÑÐ²Ñ?ÑÐ²ÑÑ Ñ?ÐµÐ±Ñ? Ð¿ÑÐµÐ´Ð°ÑÐµÐ»ÐµÐ¼ \n",
      "\n",
      "Tweets containing '·':\n",
      "                                                                                                                                                                                                                                      text\n",
      "240454                                                                                  faceyourmanga.com áá±áá¬áá¹á¸áá°á¸ áá¬á·áá¶á¯áá­á¯ áá?á¶á¯á¸ááá®á¸áá­á¯ááá­á¯á¹áá¹á?áá¹.. \n",
      "248973  Ð?ÑÑ, OpenOffice Ð²ÑÐ±ÐµÑ?Ð¸Ð» Ñ?Ð²Ð¾ÐµÐ¹ Ð½ÐµÑ?ÑÐ°Ð±Ð¸Ð»ÑÐ½Ð¾Ñ?ÑÑÑ Ð¿ÑÐ¸ ÑÐ°Ð±Ð¾ÑÐµ Ñ? ÑÐ°Ð±Ð»Ð¸ÑÐ°Ð¼Ð¸, Ð²ÑÐµÐ¼ÐµÐ½Ð½Ð¾ Ð¿ÐµÑÐµÐµÐ·Ð¶Ð°Ñ Ð¾Ð±ÑÐ°ÑÐ½Ð¾ Ð½Ð° M$. Ð§ÑÐ²Ñ?ÑÐ²ÑÑ Ñ?ÐµÐ±Ñ? Ð¿ÑÐµÐ´Ð°ÑÐµÐ»ÐµÐ¼ \n",
      "252785                                                                                                                                                           @cyounes ÙÙØ§Ø³Ù? ÙØ§ Ù?ÙØ· Ø§ÙØ®Ø·ÙØ· Ø§ÙØ¹Ø±Ø¨ÙØ© Ø§ÙÙÙØªØ© \n",
      "258460                                     @CrEaTiVe_B Ø§Ø®ØªØ¨Ø§Ø±Ù .. final freshman lab,Quiz Chemistry &amp; Thermodynamic ..   Ø§ÙÙØ³ ÙØ§ Ø·Ø§Ø¹Øª Ø§ØªØ£Ø¬Ù Ø§ÙØ«ÙØ±ÙÙ ÙÙ ÙÙÙÙ Ø§ÙØ«ÙØ§Ø«Ø§ .. ÙØ±ÙØªÙØ§ &gt;&lt;\n",
      "264481                                                                                                                                                                                                    @deepsishere à¶à¶ºà·à¶ºà·?... \n",
      "\n",
      "Tweets containing '':\n",
      "                                                                                                                                                                          text\n",
      "6483                                                                                           Ï ï¿½??k  **pouty face** Shitty day out in Boston again ugh no wonder I'm sick\n",
      "240454                      faceyourmanga.com áá±áá¬áá¹á¸áá°á¸ áá¬á·áá¶á¯áá­á¯ áá?á¶á¯á¸ááá®á¸áá­á¯ááá­á¯á¹áá¹á?áá¹.. \n",
      "240464                                                                            @Buou å¦å èå å¤±è¯¯ä¸è¶ åæ?¥å?¶æ²¡æå?å½ä½ å Sä¼ä¸è¾¹æ´è¡£ä¸è¾¹å??ç?ç \n",
      "245571  ä»²æä¸èª²adverse possessionï¼?ä½ä¹å?çco-own, leasehold, license, proprietary estoppel å?ç¡ä¹å?°è±¡â¦ åâ¦ ç?å®å?ç?ï¼ç?å®å?ç?ï¼ç?å®å?ç?â¦ \n",
      "257292                                                                                                                    Åo Åot Ã­n thÄ mÃ¶Ã¶d fÃ´r wÃ¸rk tÃ´mÃµrrÃ²w!!!! \n",
      "\n",
      "Tweets containing '':\n",
      "                                                                                                                                                      text\n",
      "240454  faceyourmanga.com áá±áá¬áá¹á¸áá°á¸ áá¬á·áá¶á¯áá­á¯ áá?á¶á¯á¸ááá®á¸áá­á¯ááá­á¯á¹áá¹á?áá¹.. \n",
      "240464                                                        @Buou å¦å èå å¤±è¯¯ä¸è¶ åæ?¥å?¶æ²¡æå?å½ä½ å Sä¼ä¸è¾¹æ´è¡£ä¸è¾¹å??ç?ç \n",
      "242910                                       Nadal's loss has rendered me speechless. I donât think even the baklava in the fridge is going to help me. \n",
      "242918            Back to work tomorrow after a week off  looking forward to all the E3 news from everyone.  Halo 5? Fable 3? Gran Turismo? Mario (contâ¦\n",
      "243285            No one showed up for my class this morning.  But that means I get to save this lesson for next week and I don't have to prepare (contâ¦\n",
      "\n",
      "Tweets containing '­':\n",
      "                                                                                                                                                      text\n",
      "240454  faceyourmanga.com áá±áá¬áá¹á¸áá°á¸ áá¬á·áá¶á¯áá­á¯ áá?á¶á¯á¸ááá®á¸áá­á¯ááá­á¯á¹áá¹á?áá¹.. \n",
      "243625                                                                Final episode of ã?ã?ã¯ã­ ã?ã?ããã?¨ã¯ã­ã¼ã?ã¼ a.k.a Honey and Clover \n",
      "245862                                                                                 Tháº¿ mÃ  chÆ°a báº¯t ÄÆ°á»£c con cÃ¡ nÃ o, tháº­t lÃ  phÃ­ sá»©c \n",
      "246160                                               hic, mÃ£i má»i cÃ i xong cÃ¡i giáº£i thuáº­t merge sort cho danh sÃ¡ch liÃªn káº¿t, xáº¥u há» quÃ¡ \n",
      "246580          a tomamme un goyur y a seguÃ­ empollando inglÃ©.. what I really need is a cup of coffee, but is very difficult indeed, as there's no milk \n",
      "\n",
      "Tweets containing '¾':\n",
      "                                                                                                                                                                                                                                      text\n",
      "240464                                                                                                                                        @Buou å¦å èå å¤±è¯¯ä¸è¶ åæ?¥å?¶æ²¡æå?å½ä½ å Sä¼ä¸è¾¹æ´è¡£ä¸è¾¹å??ç?ç \n",
      "244842                                                                                                                                                         @michichan ã?ã??ã?ã?§ã?ã?ã ã?ã?¿ã?¾ã?ãã?i can't help you there. \n",
      "245941                                                                                                                                                                       @13th ÑÑÐ¾ Ñ?Ð¾Ð²Ñ?ÐµÐ¼ Ð¿Ð»Ð¾ÑÐ¾?  Ð° blue eyes Ð¿ÐµÐ»Ð¸?\n",
      "248973  Ð?ÑÑ, OpenOffice Ð²ÑÐ±ÐµÑ?Ð¸Ð» Ñ?Ð²Ð¾ÐµÐ¹ Ð½ÐµÑ?ÑÐ°Ð±Ð¸Ð»ÑÐ½Ð¾Ñ?ÑÑÑ Ð¿ÑÐ¸ ÑÐ°Ð±Ð¾ÑÐµ Ñ? ÑÐ°Ð±Ð»Ð¸ÑÐ°Ð¼Ð¸, Ð²ÑÐµÐ¼ÐµÐ½Ð½Ð¾ Ð¿ÐµÑÐµÐµÐ·Ð¶Ð°Ñ Ð¾Ð±ÑÐ°ÑÐ½Ð¾ Ð½Ð° M$. Ð§ÑÐ²Ñ?ÑÐ²ÑÑ Ñ?ÐµÐ±Ñ? Ð¿ÑÐµÐ´Ð°ÑÐµÐ»ÐµÐ¼ \n",
      "267198                                                                                                                           Ð¢ÑÐ°Ð½Ñ?Ð¿Ð¾ÑÑ Ð² Gtalk icq.freeside.ru Ð¿ÐµÑÐµÑ?ÑÐ°Ð» ÑÐ°Ð±Ð¾ÑÐ°ÑÑ (Ñ?ÑÑÐµÑ?ÑÐ²Ð¾Ð²Ð°ÑÑ) \n",
      "\n",
      "Tweets containing '':\n",
      "                                                                                                               text\n",
      "242045                                                                                 @housamz: Ø£Ø®Ù ÙÙØ§ÙÙ \n",
      "242207                                           ce greu este sÄ scriu cu diacritice atunci cÃ¢nd sunt prea multe \n",
      "242230  ce greu este sÄ scriu cu diacritice atunci cÃ¢nd sunt prea multe  sper sÄ mÄ obiÅnuiesc cÃ¢t mai repede\n",
      "243625                         Final episode of ã?ã?ã¯ã­ ã?ã?ããã?¨ã¯ã­ã¼ã?ã¼ a.k.a Honey and Clover \n",
      "244527                                     Le planetarium de montreal: le show est nul et le prÃÂ©sentateur aussi \n",
      "\n",
      "Tweets containing '¢':\n",
      "                                                                                                                                                    text\n",
      "242207                                                                                ce greu este sÄ scriu cu diacritice atunci cÃ¢nd sunt prea multe \n",
      "242230                                       ce greu este sÄ scriu cu diacritice atunci cÃ¢nd sunt prea multe  sper sÄ mÄ obiÅnuiesc cÃ¢t mai repede\n",
      "250642                                                                                                     MÃ¬nh sinh há»?at theo mÃºi giá»? nÃ o ÄÃ¢y \n",
      "254475  The â¢Â¶Â§âing button on my MacBook Pro has stopped working properly  We couldn't just have a regular button - oh nooo. We have to have none.\n",
      "262601                                                                                                                i REALLY want the Samsung Viceâ¢ \n",
      "\n",
      "Tweets containing '¿':\n",
      "                                                                                                                                              text\n",
      "194                             @JonathanRKnight I hate the limited letters,too.Hope you and the guys are fine?I pray for my dog,sheï¿½s not well \n",
      "226  Tuesdayï¿½ll start with reflection ï¿½n then a lecture in Stress reducing techniques. That sure might become very useful for us accompaniers \n",
      "270                                                            @DonnieWahlberg ooh Iï¿½m excited and not even going 2 be there  long love YOUTUBE!\n",
      "372               Time to move my posterior  and lose some fat. My articulation are creaking so no more running  but Iï¿½m drool for some swimming\n",
      "447                                                                                                                      @Sofii_Noel thatï¿½s bad \n",
      "\n",
      "Tweets containing '':\n",
      "                                                                                                                                                                text\n",
      "240454            faceyourmanga.com áá±áá¬áá¹á¸áá°á¸ áá¬á·áá¶á¯áá­á¯ áá?á¶á¯á¸ááá®á¸áá­á¯ááá­á¯á¹áá¹á?áá¹.. \n",
      "246890         @TIME  &quot;Obama has more czars than the Romanovs â who ruled Russia for 3 centuries. Romanovs 18, cyberczar makes 20. &quot; @johnmccain  Scary \n",
      "268773                                                                          Found nearly $200 of receipts I meant to get reimbursed for â dated August 2006.  \n",
      "272385  thinks å¥³çç¸½æ¯è¦ºå¾ç·å­©å­?å?ªæ¯çºèªå·±ï¼é¡§èªå·±ï¼å?¯æ¯ï¼ç·å­©å­?å¶å¯¦ç¶å·²è² åºäºä¸?å°?çµ¦å¥³çèªªï¼ï¼ï¼  http://plurk.com/p/xm745\n",
      "275360                               juick.com: Ð¡Ð¸Ð¶Ñ Ð¸ ÑÑÑ Ñ?ÑÐ¸ Ð³ÑÐµÐ±Ð°Ð½ÑÐµ Ð±Ð°Ð·Ñ Ð´Ð°Ð½Ð½ÑÑ. Ð¡ÑÐ°Ð½ÑÐ¹ ÐÐµÐ»ÑÐ¸  http://tinyurl.com/mxoym7\n",
      "\n",
      "Tweets containing ' ':\n",
      "                                                                                                                  text\n",
      "0  @switchfoot http://twitpic.com/2y1zl - Awww, that's a bummer.  You shoulda got David Carr of Third Day to do it. ;D\n",
      "1      is upset that he can't update his Facebook by texting it... and might cry as a result  School today also. Blah!\n",
      "2                            @Kenichan I dived many times for the ball. Managed to save 50%  The rest go out of bounds\n",
      "3                                                                      my whole body feels itchy and like its on fire \n",
      "4      @nationwideclass no, it's not behaving at all. i'm mad. why am i here? because I can't see you all over there. \n",
      "\n",
      "Tweets containing '':\n",
      "                                                                                                                                            text\n",
      "50952        Found another book I want to read, but I don't know if it was ever translated from Japanese to English  The search starts again...\n",
      "57914   It's a shame I can't get the NYT Sunday edition here  I love more reading the whole thing, every section, getting all the information \n",
      "72477                                                                        @chris_alexander Yeah, unfortunately I'll need 80% of it on day 1 \n",
      "84926                                                                 @GFRoSTY I used to have 3G coverage at home with Orange, but not with O2 \n",
      "154824      *Phew* just submitted my module selections, that was tough, back to revision for Accounting *sigh* two exams in less than 24 hours \n",
      "\n",
      "Tweets containing '¦':\n",
      "                                                                                                                                                                          text\n",
      "240464                                                                            @Buou å¦å èå å¤±è¯¯ä¸è¶ åæ?¥å?¶æ²¡æå?å½ä½ å Sä¼ä¸è¾¹æ´è¡£ä¸è¾¹å??ç?ç \n",
      "242918                                Back to work tomorrow after a week off  looking forward to all the E3 news from everyone.  Halo 5? Fable 3? Gran Turismo? Mario (contâ¦\n",
      "243285                                No one showed up for my class this morning.  But that means I get to save this lesson for next week and I don't have to prepare (contâ¦\n",
      "245571  ä»²æä¸èª²adverse possessionï¼?ä½ä¹å?çco-own, leasehold, license, proprietary estoppel å?ç¡ä¹å?°è±¡â¦ åâ¦ ç?å®å?ç?ï¼ç?å®å?ç?ï¼ç?å®å?ç?â¦ \n",
      "246253                                                                                                          I'm stranded @ the house w/ no car, and my carâ¦is puked in. \n",
      "\n",
      "Tweets containing '¹':\n",
      "                                                                                                                                                                                                                                      text\n",
      "240454                                                                                  faceyourmanga.com áá±áá¬áá¹á¸áá°á¸ áá¬á·áá¶á¯áá­á¯ áá?á¶á¯á¸ááá®á¸áá­á¯ááá­á¯á¹áá¹á?áá¹.. \n",
      "240464                                                                                                                                        @Buou å¦å èå å¤±è¯¯ä¸è¶ åæ?¥å?¶æ²¡æå?å½ä½ å Sä¼ä¸è¾¹æ´è¡£ä¸è¾¹å??ç?ç \n",
      "245571                                                              ä»²æä¸èª²adverse possessionï¼?ä½ä¹å?çco-own, leasehold, license, proprietary estoppel å?ç¡ä¹å?°è±¡â¦ åâ¦ ç?å®å?ç?ï¼ç?å®å?ç?ï¼ç?å®å?ç?â¦ \n",
      "248973  Ð?ÑÑ, OpenOffice Ð²ÑÐ±ÐµÑ?Ð¸Ð» Ñ?Ð²Ð¾ÐµÐ¹ Ð½ÐµÑ?ÑÐ°Ð±Ð¸Ð»ÑÐ½Ð¾Ñ?ÑÑÑ Ð¿ÑÐ¸ ÑÐ°Ð±Ð¾ÑÐµ Ñ? ÑÐ°Ð±Ð»Ð¸ÑÐ°Ð¼Ð¸, Ð²ÑÐµÐ¼ÐµÐ½Ð½Ð¾ Ð¿ÐµÑÐµÐµÐ·Ð¶Ð°Ñ Ð¾Ð±ÑÐ°ÑÐ½Ð¾ Ð½Ð° M$. Ð§ÑÐ²Ñ?ÑÐ²ÑÑ Ñ?ÐµÐ±Ñ? Ð¿ÑÐµÐ´Ð°ÑÐµÐ»ÐµÐ¼ \n",
      "252785                                                                                                                                                           @cyounes ÙÙØ§Ø³Ù? ÙØ§ Ù?ÙØ· Ø§ÙØ®Ø·ÙØ· Ø§ÙØ¹Ø±Ø¨ÙØ© Ø§ÙÙÙØªØ© \n",
      "\n",
      "Tweets containing '¶':\n",
      "                                                                                                                                                                                                                                      text\n",
      "240454                                                                                  faceyourmanga.com áá±áá¬áá¹á¸áá°á¸ áá¬á·áá¶á¯áá­á¯ áá?á¶á¯á¸ááá®á¸áá­á¯ááá­á¯á¹áá¹á?áá¹.. \n",
      "240464                                                                                                                                        @Buou å¦å èå å¤±è¯¯ä¸è¶ åæ?¥å?¶æ²¡æå?å½ä½ å Sä¼ä¸è¾¹æ´è¡£ä¸è¾¹å??ç?ç \n",
      "244715                                                                                                                                                Did that just happen? What? I just.... SÃ¶derling def. Nadal 6-2, 6-7, 6-4, 7-6     \n",
      "248973  Ð?ÑÑ, OpenOffice Ð²ÑÐ±ÐµÑ?Ð¸Ð» Ñ?Ð²Ð¾ÐµÐ¹ Ð½ÐµÑ?ÑÐ°Ð±Ð¸Ð»ÑÐ½Ð¾Ñ?ÑÑÑ Ð¿ÑÐ¸ ÑÐ°Ð±Ð¾ÑÐµ Ñ? ÑÐ°Ð±Ð»Ð¸ÑÐ°Ð¼Ð¸, Ð²ÑÐµÐ¼ÐµÐ½Ð½Ð¾ Ð¿ÐµÑÐµÐµÐ·Ð¶Ð°Ñ Ð¾Ð±ÑÐ°ÑÐ½Ð¾ Ð½Ð° M$. Ð§ÑÐ²Ñ?ÑÐ²ÑÑ Ñ?ÐµÐ±Ñ? Ð¿ÑÐµÐ´Ð°ÑÐµÐ»ÐµÐ¼ \n",
      "254475                                                                                    The â¢Â¶Â§âing button on my MacBook Pro has stopped working properly  We couldn't just have a regular button - oh nooo. We have to have none.\n",
      "\n",
      "Tweets containing '¨':\n",
      "                                                                                                                                                                                                   text\n",
      "243625                                                                                                             Final episode of ã?ã?ã¯ã­ ã?ã?ããã?¨ã¯ã­ã¼ã?ã¼ a.k.a Honey and Clover \n",
      "245805                                                                                                       @kalyni hahah good job caro!!! Jsu mad aprÃ¨s toi tho.. You don't answer my txt!!  haha ;)\n",
      "252785                                                                                                                        @cyounes ÙÙØ§Ø³Ù? ÙØ§ Ù?ÙØ· Ø§ÙØ®Ø·ÙØ· Ø§ÙØ¹Ø±Ø¨ÙØ© Ø§ÙÙÙØªØ© \n",
      "257435                                                                                                                            CanÃ¨t find her nose ring.  looks like Im stuck with studs for a bit.\n",
      "258460  @CrEaTiVe_B Ø§Ø®ØªØ¨Ø§Ø±Ù .. final freshman lab,Quiz Chemistry &amp; Thermodynamic ..   Ø§ÙÙØ³ ÙØ§ Ø·Ø§Ø¹Øª Ø§ØªØ£Ø¬Ù Ø§ÙØ«ÙØ±ÙÙ ÙÙ ÙÙÙÙ Ø§ÙØ«ÙØ§Ø«Ø§ .. ÙØ±ÙØªÙØ§ &gt;&lt;\n",
      "\n",
      "Tweets containing '±':\n",
      "                                                                                                                                                                          text\n",
      "240454                      faceyourmanga.com áá±áá¬áá¹á¸áá°á¸ áá¬á·áá¶á¯áá­á¯ áá?á¶á¯á¸ááá®á¸áá­á¯ááá­á¯á¹áá¹á?áá¹.. \n",
      "240464                                                                            @Buou å¦å èå å¤±è¯¯ä¸è¶ åæ?¥å?¶æ²¡æå?å½ä½ å Sä¼ä¸è¾¹æ´è¡£ä¸è¾¹å??ç?ç \n",
      "240578                                                                                                                       nÎ±o curti Î± musicÎ± novÎ± dÎ± @fresnorock nÎ±o \n",
      "245571  ä»²æä¸èª²adverse possessionï¼?ä½ä¹å?çco-own, leasehold, license, proprietary estoppel å?ç¡ä¹å?°è±¡â¦ åâ¦ ç?å®å?ç?ï¼ç?å®å?ç?ï¼ç?å®å?ç?â¦ \n",
      "247849                                                                                   me that I was just entering depresion       maÃ±ana and start to work!! noooo!! jjaja\n",
      "\n",
      "Tweets containing '×':\n",
      "                                                                                                                                                                                                             text\n",
      "282763                                    LEAVING THE ISLAND TOMORROWW !! bak to my apartment in NY ... Dom, dont kill me  ... [ Â¡ É?É?É?É¥É?É¥ ×É?uÄ±É¯É¹Ç?Ê Ç?É¥Ê ÊÉ? ××Ä±Ês ××É?Ê Ê×É os É¯Ä± ]]\n",
      "288541                                                         @lilahmcfly ××?! ×× ××? ×¤×××¨ !  × ×× , ×?× ×ª××× ×¤×¢××××?. ×?×ª ×××××ª ×× ×××× ××ª××¨ ××ª× × ××××××××ª! XD\n",
      "367864  @tommcfly ×××?× ×××¨ ×××©×¨×?×! ×× ××? ×¤×××¨, ×?×ª×? ××××××? ××?××¡××¨×××, ××¨×××, ×?×¨×× ××× ×... ××? ××××¢×ª ×?××¤× ×¢××.. ×?×× ×?×¤×¢×? ××? ×××©×¨×?×! \n",
      "368175                                                                                                                      @BATYASMUSIC ×¨×§ ×?×? ×?××? ×©×× ××?×××ª× ××? ××× ×?×××××ª ×?××ª×. \n",
      "397859                                                                                                                    @LinkTree ×××××§ ×?×¦××¢××ª  ××¦××¢×¨ ××©×××¢ ×¢× ×× ××¡××¤××¨ ×××.\n",
      "\n",
      "Tweets containing '´':\n",
      "                                                                                                                                        text\n",
      "240464                                          @Buou å¦å èå å¤±è¯¯ä¸è¶ åæ?¥å?¶æ²¡æå?å½ä½ å Sä¼ä¸è¾¹æ´è¡£ä¸è¾¹å??ç?ç \n",
      "240726                                               @babygirlparis ur so Cute and Sexy! IÂ´ve hope to see u in Monaco but u wasnt there  ^^\n",
      "241225                                                                @tranvinhnt  thÃ´i, rÃºt kinh nghiá»m cho láº§n thÆ°Æ¡ng Äau nÃ y :|\n",
      "241777                                                                    IÂ´m not stupid, joana wrote the last post  she is the stupid one!\n",
      "243174  More CONFUSED that yesterday!!!  I donÂ´t know what to do... OnIy I know that IÂ´m the worst singer and that I donÂ´t have a guitar \n",
      "\n",
      "Tweets containing '©':\n",
      "                                                                                                                                           text\n",
      "241136                                                            dÃ©teste ANA IVANOVIC eliminated at the French Open  http://plurk.com/p/xfp50\n",
      "242808                                                                                  cháº¯c thá»©c cáº£ ÄÃªm qua', giá»? má»i Äc 2 chá»¯ \n",
      "244043                      Friend on her way round again! FiancÃ© still being a prat.I thought he was being commitment phobe but it seems not \n",
      "244527                                                                 Le planetarium de montreal: le show est nul et le prÃÂ©sentateur aussi \n",
      "245081  XÃ´n xao vá»¥ ná»¯ sinh quá»³ gá»i giá»¯a ÄÆ°á»?ng xin ngÆ°á»?i yÃªu tha thá»©  [ Äá»?c xog nhá» thanks ] http://tinyurl.com/na7kdb\n",
      "\n",
      "Tweets containing '¤':\n",
      "                                                                                                                                                                                                         text\n",
      "240464                                                                                                           @Buou å¦å èå å¤±è¯¯ä¸è¶ åæ?¥å?¶æ²¡æå?å½ä½ å Sä¼ä¸è¾¹æ´è¡£ä¸è¾¹å??ç?ç \n",
      "251425                                                                              @AmandaJansson  I think that @Dannymcfly has signed out from twitter..  So you can go and take a shower ;) hahah BlÃ¤Ã¤Ã¤\n",
      "269905                                      MacPorts ã?§swigå¥ããã?ã?¨ãªãã·ã§ã³ã?ªã?ã?§ã¤ã³ã¹ãã¼ã«ã?ã?ãapache2+php5ã?ã?¤ã?ã?¦ã??ã?ï¼ä½è¨ã?«æéã?ã?ã?¡ãã?ã?ãã?ªã?ã?® \n",
      "271633  @khushi4all àª¶à«?àª àª¥àª¯à«?àª àªàª¬àª° àªà«? àª®à«àª àª°àª¾àªà«. àªàª°àª¾àªµà«?àª¯à«?àª àª¤à« it says, &quot;you have not confirmed earlier registration  Let me try with my Yahoo ID.\n",
      "272877                  @khushi4all àªà«?àª, àª®à«àª àª¬à«àªàª¾ id àªªàª° àª¥à« signup àªàª°à«?àª¯à«?àª, àªàª¤àª¾àª àª¤à«àª®àª£à« confirmation mail àª¨àª¥à« àª®à«àªàª²à«?àª¯à« àª¹àªà«?.. \n",
      "\n",
      "Tweets containing '':\n",
      "                                                                                                                                                                                                   text\n",
      "244538                                                                                        @hanizo welcome back. im sorry to hear that you still have å?£åç  maybe you had too much good food ;)\n",
      "245941                                                                                                                                    @13th ÑÑÐ¾ Ñ?Ð¾Ð²Ñ?ÐµÐ¼ Ð¿Ð»Ð¾ÑÐ¾?  Ð° blue eyes Ð¿ÐµÐ»Ð¸?\n",
      "252785                                                                                                                        @cyounes ÙÙØ§Ø³Ù? ÙØ§ Ù?ÙØ· Ø§ÙØ®Ø·ÙØ· Ø§ÙØ¹Ø±Ø¨ÙØ© Ø§ÙÙÙØªØ© \n",
      "258460  @CrEaTiVe_B Ø§Ø®ØªØ¨Ø§Ø±Ù .. final freshman lab,Quiz Chemistry &amp; Thermodynamic ..   Ø§ÙÙØ³ ÙØ§ Ø·Ø§Ø¹Øª Ø§ØªØ£Ø¬Ù Ø§ÙØ«ÙØ±ÙÙ ÙÙ ÙÙÙÙ Ø§ÙØ«ÙØ§Ø«Ø§ .. ÙØ±ÙØªÙØ§ &gt;&lt;\n",
      "258511                                       @CrEaTiVe_B Ø¹ÙØ¯Ù ÙÙÙØ² 8Ø§ÙØµØ¨Ø­ Ù Ø§ÙÙÙÙØ² Ø§ÙØ«Ø§ÙÙ 2Ø§ÙØ¸ÙØ± Ù Ø§ÙÙ?ÙÙØ§Ù Ø§ÙØ³Ø§Ø¹Ù 7 Ø§ÙÙØ³Ø§Ø¡ .. Ø­Ø§ÙØªÙ ÙØ³ÙÙ?Ù \n",
      "\n",
      "Tweets containing '³':\n",
      "                                                                                                                                                                text\n",
      "245081                       XÃ´n xao vá»¥ ná»¯ sinh quá»³ gá»i giá»¯a ÄÆ°á»?ng xin ngÆ°á»?i yÃªu tha thá»©  [ Äá»?c xog nhá» thanks ] http://tinyurl.com/na7kdb\n",
      "247659                                                                                     waahh, the ending of æç¬å¥³ç was so good! sad it's over now, though \n",
      "248243  @anhhung cÃ i moto4lin rá»i anh  XÃ i ÄÆ°á»£c nhÆ°ng váº¥t váº£ quÃ¡. CÃ¡c báº£n Ubuntu cÅ© Äá»?u xem nhÆ° 1 USB, chá» cÃ³ tháº±ng Jaunty trá» chá»©ng \n",
      "250250                                    cháº³ng hiá»u sao chá» muá»n nháº¯n cho anh  nháº¯n cho Junsu tháº¥y náº£ quÃ¡ Ã  Min yÃªu Ã  anh yÃªu Æ¡i baby Æ¡i ...\n",
      "252785                                                                                     @cyounes ÙÙØ§Ø³Ù? ÙØ§ Ù?ÙØ· Ø§ÙØ®Ø·ÙØ· Ø§ÙØ¹Ø±Ø¨ÙØ© Ø§ÙÙÙØªØ© \n",
      "\n",
      "Tweets containing '':\n",
      "                                                                                                                                                      text\n",
      "240454  faceyourmanga.com áá±áá¬áá¹á¸áá°á¸ áá¬á·áá¶á¯áá­á¯ áá?á¶á¯á¸ááá®á¸áá­á¯ááá­á¯á¹áá¹á?áá¹.. \n",
      "242932        Added 39 items to basket on favourite fashion site! Total came to â¬23,306.21 ... oh well,dreams are free ~ it was fun now I'll hit cancel \n",
      "242954           Added 39 items to basket on favourite fashion site! Total came to â¬23,306.21 ... oh well, it was fun daydreaming ~ now I'll hit cancel \n",
      "243625                                                                Final episode of ã?ã?ã¯ã­ ã?ã?ããã?¨ã¯ã­ã¼ã?ã¼ a.k.a Honey and Clover \n",
      "244538                                           @hanizo welcome back. im sorry to hear that you still have å?£åç  maybe you had too much good food ;)\n",
      "\n",
      "Tweets containing '':\n",
      "                                                                                                text\n",
      "240464  @Buou å¦å èå å¤±è¯¯ä¸è¶ åæ?¥å?¶æ²¡æå?å½ä½ å Sä¼ä¸è¾¹æ´è¡£ä¸è¾¹å??ç?ç \n",
      "242045                                                                  @housamz: Ø£Ø®Ù ÙÙØ§ÙÙ \n",
      "247659                     waahh, the ending of æç¬å¥³ç was so good! sad it's over now, though \n",
      "252785                     @cyounes ÙÙØ§Ø³Ù? ÙØ§ Ù?ÙØ· Ø§ÙØ®Ø·ÙØ· Ø§ÙØ¹Ø±Ø¨ÙØ© Ø§ÙÙÙØªØ© \n",
      "256818                          There are too many people in the train   é»è»ã?«äººã?ã?ã?£ã?±ã?\n",
      "\n",
      "Tweets containing '':\n",
      "                                                                                                                                                                                                   text\n",
      "245571                           ä»²æä¸èª²adverse possessionï¼?ä½ä¹å?çco-own, leasehold, license, proprietary estoppel å?ç¡ä¹å?°è±¡â¦ åâ¦ ç?å®å?ç?ï¼ç?å®å?ç?ï¼ç?å®å?ç?â¦ \n",
      "252785                                                                                                                        @cyounes ÙÙØ§Ø³Ù? ÙØ§ Ù?ÙØ· Ø§ÙØ®Ø·ÙØ· Ø§ÙØ¹Ø±Ø¨ÙØ© Ø§ÙÙÙØªØ© \n",
      "254475                                                 The â¢Â¶Â§âing button on my MacBook Pro has stopped working properly  We couldn't just have a regular button - oh nooo. We have to have none.\n",
      "258460  @CrEaTiVe_B Ø§Ø®ØªØ¨Ø§Ø±Ù .. final freshman lab,Quiz Chemistry &amp; Thermodynamic ..   Ø§ÙÙØ³ ÙØ§ Ø·Ø§Ø¹Øª Ø§ØªØ£Ø¬Ù Ø§ÙØ«ÙØ±ÙÙ ÙÙ ÙÙÙÙ Ø§ÙØ«ÙØ§Ø«Ø§ .. ÙØ±ÙØªÙØ§ &gt;&lt;\n",
      "258511                                       @CrEaTiVe_B Ø¹ÙØ¯Ù ÙÙÙØ² 8Ø§ÙØµØ¨Ø­ Ù Ø§ÙÙÙÙØ² Ø§ÙØ«Ø§ÙÙ 2Ø§ÙØ¸ÙØ± Ù Ø§ÙÙ?ÙÙØ§Ù Ø§ÙØ³Ø§Ø¹Ù 7 Ø§ÙÙØ³Ø§Ø¡ .. Ø­Ø§ÙØªÙ ÙØ³ÙÙ?Ù \n",
      "\n",
      "Tweets containing '»':\n",
      "                                                                                                                                                                          text\n",
      "241225                                                                                                  @tranvinhnt  thÃ´i, rÃºt kinh nghiá»m cho láº§n thÆ°Æ¡ng Äau nÃ y :|\n",
      "242808                                                                                                                 cháº¯c thá»©c cáº£ ÄÃªm qua', giá»? má»i Äc 2 chá»¯ \n",
      "245081                                 XÃ´n xao vá»¥ ná»¯ sinh quá»³ gá»i giá»¯a ÄÆ°á»?ng xin ngÆ°á»?i yÃªu tha thá»©  [ Äá»?c xog nhá» thanks ] http://tinyurl.com/na7kdb\n",
      "245571  ä»²æä¸èª²adverse possessionï¼?ä½ä¹å?çco-own, leasehold, license, proprietary estoppel å?ç¡ä¹å?°è±¡â¦ åâ¦ ç?å®å?ç?ï¼ç?å®å?ç?ï¼ç?å®å?ç?â¦ \n",
      "245862                                                                                                     Tháº¿ mÃ  chÆ°a báº¯t ÄÆ°á»£c con cÃ¡ nÃ o, tháº­t lÃ  phÃ­ sá»©c \n",
      "\n",
      "Tweets containing '':\n",
      "                                                                                                                                                                                                                                      text\n",
      "240464                                                                                                                                        @Buou å¦å èå å¤±è¯¯ä¸è¶ åæ?¥å?¶æ²¡æå?å½ä½ å Sä¼ä¸è¾¹æ´è¡£ä¸è¾¹å??ç?ç \n",
      "244538                                                                                                                           @hanizo welcome back. im sorry to hear that you still have å?£åç  maybe you had too much good food ;)\n",
      "247659                                                                                                                                                           waahh, the ending of æç¬å¥³ç was so good! sad it's over now, though \n",
      "248973  Ð?ÑÑ, OpenOffice Ð²ÑÐ±ÐµÑ?Ð¸Ð» Ñ?Ð²Ð¾ÐµÐ¹ Ð½ÐµÑ?ÑÐ°Ð±Ð¸Ð»ÑÐ½Ð¾Ñ?ÑÑÑ Ð¿ÑÐ¸ ÑÐ°Ð±Ð¾ÑÐµ Ñ? ÑÐ°Ð±Ð»Ð¸ÑÐ°Ð¼Ð¸, Ð²ÑÐµÐ¼ÐµÐ½Ð½Ð¾ Ð¿ÐµÑÐµÐµÐ·Ð¶Ð°Ñ Ð¾Ð±ÑÐ°ÑÐ½Ð¾ Ð½Ð° M$. Ð§ÑÐ²Ñ?ÑÐ²ÑÑ Ñ?ÐµÐ±Ñ? Ð¿ÑÐµÐ´Ð°ÑÐµÐ»ÐµÐ¼ \n",
      "255566                                                                                                                                                                  @kerrysholicar  not nice, good idea riniging the dentist then! î\n",
      "\n",
      "Tweets containing '':\n",
      "                                                                                                                                                                text\n",
      "240464                                                                  @Buou å¦å èå å¤±è¯¯ä¸è¶ åæ?¥å?¶æ²¡æå?å½ä½ å Sä¼ä¸è¾¹æ´è¡£ä¸è¾¹å??ç?ç \n",
      "244842                                                                                   @michichan ã?ã??ã?ã?§ã?ã?ã ã?ã?¿ã?¾ã?ãã?i can't help you there. \n",
      "248243  @anhhung cÃ i moto4lin rá»i anh  XÃ i ÄÆ°á»£c nhÆ°ng váº¥t váº£ quÃ¡. CÃ¡c báº£n Ubuntu cÅ© Äá»?u xem nhÆ° 1 USB, chá» cÃ³ tháº±ng Jaunty trá» chá»©ng \n",
      "250316                  @SpikeTheLobster Sorry about Barcelona  This might drive it away =&gt; Siouxsie and the Banshees â Arabian Kn... â« http://blip.fm/~7dysj\n",
      "256413                                                                      poo back to the 9â5  Or the 8â4.30. Leave early. Get stuck into the consultancy work\n",
      "\n",
      "Tweets containing '£':\n",
      "                                                                                                                                     text\n",
      "240464                                       @Buou å¦å èå å¤±è¯¯ä¸è¶ åæ?¥å?¶æ²¡æå?å½ä½ å Sä¼ä¸è¾¹æ´è¡£ä¸è¾¹å??ç?ç \n",
      "240704                             @Markus_Serious well its Â£4000 worth of music equipment (that i could sell) in NME. nobody knows it! \n",
      "240752                   @roughtradeshops I wish they would release it... downloading = bollocks.  I know about the book, but Â£40, ouch \n",
      "240817  @ItsBashy true something I am being deprived of since the Graduate Fashion Week started  so what's the Â£3 album showcase about??\n",
      "242045                                                                                                       @housamz: Ø£Ø®Ù ÙÙØ§ÙÙ \n",
      "\n",
      "Tweets containing '':\n",
      "                                                                                                                                                                          text\n",
      "240464                                                                            @Buou å¦å èå å¤±è¯¯ä¸è¶ åæ?¥å?¶æ²¡æå?å½ä½ å Sä¼ä¸è¾¹æ´è¡£ä¸è¾¹å??ç?ç \n",
      "241225                                                                                                  @tranvinhnt  thÃ´i, rÃºt kinh nghiá»m cho láº§n thÆ°Æ¡ng Äau nÃ y :|\n",
      "242808                                                                                                                 cháº¯c thá»©c cáº£ ÄÃªm qua', giá»? má»i Äc 2 chá»¯ \n",
      "245081                                 XÃ´n xao vá»¥ ná»¯ sinh quá»³ gá»i giá»¯a ÄÆ°á»?ng xin ngÆ°á»?i yÃªu tha thá»©  [ Äá»?c xog nhá» thanks ] http://tinyurl.com/na7kdb\n",
      "245571  ä»²æä¸èª²adverse possessionï¼?ä½ä¹å?çco-own, leasehold, license, proprietary estoppel å?ç¡ä¹å?°è±¡â¦ åâ¦ ç?å®å?ç?ï¼ç?å®å?ç?ï¼ç?å®å?ç?â¦ \n",
      "\n",
      "Tweets containing '':\n",
      "                                                                                                                                        text\n",
      "241897  This is my mom's jam...I like it too.  This is a great song, unfortunatly the video doesn't do it justice  â« http://blip.fm/~7dksa\n",
      "242372                                               @AndrewDearling haha, well they are a mjor part of my lifeâ¥! i duno what im gonna do \n",
      "242910                         Nadal's loss has rendered me speechless. I donât think even the baklava in the fridge is going to help me. \n",
      "243461                 Two songs that came to mind.  Good forgotten songs by me   The Church - Under the Milky Way â« http://blip.fm/~7dn4y\n",
      "243561                                 Omg!! I cannot believe it !!! Rafael Nadal was knocked out by Swedenâs Robin Soderling on Sunday!! \n",
      "\n",
      "Tweets containing '§':\n",
      "                                                                                                              text\n",
      "241225                                      @tranvinhnt  thÃ´i, rÃºt kinh nghiá»m cho láº§n thÆ°Æ¡ng Äau nÃ y :|\n",
      "242045                                                                                @housamz: Ø£Ø®Ù ÙÙØ§ÙÙ \n",
      "244428  Awake, I can't walk.  I'll play in photoshop. new video up: http://bit.ly/eBWQb  (my english horrible) :Â§\n",
      "244842                                 @michichan ã?ã??ã?ã?§ã?ã?ã ã?ã?¿ã?¾ã?ãã?i can't help you there. \n",
      "245390                                                                                              secar louÃ§aa \n",
      "\n",
      "Tweets containing '':\n",
      "                                                                                                                                                                                                                                      text\n",
      "244842                                                                                                                                                         @michichan ã?ã??ã?ã?§ã?ã?ã ã?ã?¿ã?¾ã?ãã?i can't help you there. \n",
      "245571                                                              ä»²æä¸èª²adverse possessionï¼?ä½ä¹å?çco-own, leasehold, license, proprietary estoppel å?ç¡ä¹å?°è±¡â¦ åâ¦ ç?å®å?ç?ï¼ç?å®å?ç?ï¼ç?å®å?ç?â¦ \n",
      "247659                                                                                                                                                           waahh, the ending of æç¬å¥³ç was so good! sad it's over now, though \n",
      "248973  Ð?ÑÑ, OpenOffice Ð²ÑÐ±ÐµÑ?Ð¸Ð» Ñ?Ð²Ð¾ÐµÐ¹ Ð½ÐµÑ?ÑÐ°Ð±Ð¸Ð»ÑÐ½Ð¾Ñ?ÑÑÑ Ð¿ÑÐ¸ ÑÐ°Ð±Ð¾ÑÐµ Ñ? ÑÐ°Ð±Ð»Ð¸ÑÐ°Ð¼Ð¸, Ð²ÑÐµÐ¼ÐµÐ½Ð½Ð¾ Ð¿ÐµÑÐµÐµÐ·Ð¶Ð°Ñ Ð¾Ð±ÑÐ°ÑÐ½Ð¾ Ð½Ð° M$. Ð§ÑÐ²Ñ?ÑÐ²ÑÑ Ñ?ÐµÐ±Ñ? Ð¿ÑÐµÐ´Ð°ÑÐµÐ»ÐµÐ¼ \n",
      "267869                                                                                                                                      @4aplin Ñ? Ð°Ð±ÑÐ¸ÐºÐ¾Ñ?Ð¾Ð²ÑÐ¼... Ð¼Ð¼Ð¼... Ð­Ñ Ð¸Ð· Ñ?Ð»Ð°Ð´ÐºÐ¾Ð³Ð¾ ÑÐ¾ÐºÐ° Ñ?Ð°ÑÐ°Ñ \n",
      "\n",
      "Tweets containing '«':\n",
      "                                                                                                                                                   text\n",
      "241897             This is my mom's jam...I like it too.  This is a great song, unfortunatly the video doesn't do it justice  â« http://blip.fm/~7dksa\n",
      "243461                            Two songs that came to mind.  Good forgotten songs by me   The Church - Under the Milky Way â« http://blip.fm/~7dn4y\n",
      "244739                                                                         â« Where, oh where did Prongs go? Oh where, oh where could he be? â«  \n",
      "246042                                           It's a rare Dry Day for me  - Chief Greenbud - Dry Day..http://bit.ly/11w1Z  â« http://blip.fm/~7drhm\n",
      "246363  @Jalapeno: &quot;Sorry I missed shout out Saturday.. had an emergency work problem had to solve  So we'll shout ou... â« http://blip.fm/~7dryx\n",
      "\n",
      "Tweets containing '¬':\n",
      "                                                                                                                                                      text\n",
      "240454  faceyourmanga.com áá±áá¬áá¹á¸áá°á¸ áá¬á·áá¶á¯áá­á¯ áá?á¶á¯á¸ááá®á¸áá­á¯ááá­á¯á¹áá¹á?áá¹.. \n",
      "241755                                                                        @criistina26 here it's winter Â¬Â¬ i miss the summer!! haha  where r u from?\n",
      "242932        Added 39 items to basket on favourite fashion site! Total came to â¬23,306.21 ... oh well,dreams are free ~ it was fun now I'll hit cancel \n",
      "242954           Added 39 items to basket on favourite fashion site! Total came to â¬23,306.21 ... oh well, it was fun daydreaming ~ now I'll hit cancel \n",
      "246114                                                                                                 Sprained ankle!  Â¬Â¬ ...Pe revision succcckksss!!!\n",
      "\n",
      "Tweets containing '':\n",
      "                                                                                                                                                                                                         text\n",
      "240454                                                     faceyourmanga.com áá±áá¬áá¹á¸áá°á¸ áá¬á·áá¶á¯áá­á¯ áá?á¶á¯á¸ááá®á¸áá­á¯ááá­á¯á¹áá¹á?áá¹.. \n",
      "240464                                                                                                           @Buou å¦å èå å¤±è¯¯ä¸è¶ åæ?¥å?¶æ²¡æå?å½ä½ å Sä¼ä¸è¾¹æ´è¡£ä¸è¾¹å??ç?ç \n",
      "246160                                                                                                  hic, mÃ£i má»i cÃ i xong cÃ¡i giáº£i thuáº­t merge sort cho danh sÃ¡ch liÃªn káº¿t, xáº¥u há» quÃ¡ \n",
      "247659                                                                                                                              waahh, the ending of æç¬å¥³ç was so good! sad it's over now, though \n",
      "271633  @khushi4all àª¶à«?àª àª¥àª¯à«?àª àªàª¬àª° àªà«? àª®à«àª àª°àª¾àªà«. àªàª°àª¾àªµà«?àª¯à«?àª àª¤à« it says, &quot;you have not confirmed earlier registration  Let me try with my Yahoo ID.\n",
      "\n",
      "Tweets containing '':\n",
      "                                                                                                                                           text\n",
      "240464                                             @Buou å¦å èå å¤±è¯¯ä¸è¶ åæ?¥å?¶æ²¡æå?å½ä½ å Sä¼ä¸è¾¹æ´è¡£ä¸è¾¹å??ç?ç \n",
      "242808                                                                                  cháº¯c thá»©c cáº£ ÄÃªm qua', giá»? má»i Äc 2 chá»¯ \n",
      "244842                                                              @michichan ã?ã??ã?ã?§ã?ã?ã ã?ã?¿ã?¾ã?ãã?i can't help you there. \n",
      "245081  XÃ´n xao vá»¥ ná»¯ sinh quá»³ gá»i giá»¯a ÄÆ°á»?ng xin ngÆ°á»?i yÃªu tha thá»©  [ Äá»?c xog nhá» thanks ] http://tinyurl.com/na7kdb\n",
      "245949            má»t wa', thÃ´i mai lÃ m tiáº¿p, cÃ²n 3 chá»¯ ná»¯a  lÃ  xong 1/3 cÃ´ng viá»c, cháº¯c pháº£i 2 ngÃ y ná»¯a má»i xong (3/6)\n",
      "\n",
      "Tweets containing '':\n",
      "                                                                                                                                                                     text\n",
      "240464                                                                       @Buou å¦å èå å¤±è¯¯ä¸è¶ åæ?¥å?¶æ²¡æå?å½ä½ å Sä¼ä¸è¾¹æ´è¡£ä¸è¾¹å??ç?ç \n",
      "242230                                                        ce greu este sÄ scriu cu diacritice atunci cÃ¢nd sunt prea multe  sper sÄ mÄ obiÅnuiesc cÃ¢t mai repede\n",
      "243625                                                                               Final episode of ã?ã?ã¯ã­ ã?ã?ããã?¨ã¯ã­ã¼ã?ã¼ a.k.a Honey and Clover \n",
      "248243       @anhhung cÃ i moto4lin rá»i anh  XÃ i ÄÆ°á»£c nhÆ°ng váº¥t váº£ quÃ¡. CÃ¡c báº£n Ubuntu cÅ© Äá»?u xem nhÆ° 1 USB, chá» cÃ³ tháº±ng Jaunty trá» chá»©ng \n",
      "269905  MacPorts ã?§swigå¥ããã?ã?¨ãªãã·ã§ã³ã?ªã?ã?§ã¤ã³ã¹ãã¼ã«ã?ã?ãapache2+php5ã?ã?¤ã?ã?¦ã??ã?ï¼ä½è¨ã?«æéã?ã?ã?¡ãã?ã?ãã?ªã?ã?® \n",
      "\n",
      "Tweets containing '¯':\n",
      "                                                                                                                                                      text\n",
      "240454  faceyourmanga.com áá±áá¬áá¹á¸áá°á¸ áá¬á·áá¶á¯áá­á¯ áá?á¶á¯á¸ááá®á¸áá­á¯ááá­á¯á¹áá¹á?áá¹.. \n",
      "240464                                                        @Buou å¦å èå å¤±è¯¯ä¸è¶ åæ?¥å?¶æ²¡æå?å½ä½ å Sä¼ä¸è¾¹æ´è¡£ä¸è¾¹å??ç?ç \n",
      "242808                                                                                             cháº¯c thá»©c cáº£ ÄÃªm qua', giá»? má»i Äc 2 chá»¯ \n",
      "243625                                                                Final episode of ã?ã?ã¯ã­ ã?ã?ããã?¨ã¯ã­ã¼ã?ã¼ a.k.a Honey and Clover \n",
      "245081             XÃ´n xao vá»¥ ná»¯ sinh quá»³ gá»i giá»¯a ÄÆ°á»?ng xin ngÆ°á»?i yÃªu tha thá»©  [ Äá»?c xog nhá» thanks ] http://tinyurl.com/na7kdb\n",
      "\n",
      "Tweets containing '':\n",
      "                                                                                                                                                                          text\n",
      "240464                                                                            @Buou å¦å èå å¤±è¯¯ä¸è¶ åæ?¥å?¶æ²¡æå?å½ä½ å Sä¼ä¸è¾¹æ´è¡£ä¸è¾¹å??ç?ç \n",
      "241225                                                                                                  @tranvinhnt  thÃ´i, rÃºt kinh nghiá»m cho láº§n thÆ°Æ¡ng Äau nÃ y :|\n",
      "245571  ä»²æä¸èª²adverse possessionï¼?ä½ä¹å?çco-own, leasehold, license, proprietary estoppel å?ç¡ä¹å?°è±¡â¦ åâ¦ ç?å®å?ç?ï¼ç?å®å?ç?ï¼ç?å®å?ç?â¦ \n",
      "245941                                                                                                           @13th ÑÑÐ¾ Ñ?Ð¾Ð²Ñ?ÐµÐ¼ Ð¿Ð»Ð¾ÑÐ¾?  Ð° blue eyes Ð¿ÐµÐ»Ð¸?\n",
      "245949                                           má»t wa', thÃ´i mai lÃ m tiáº¿p, cÃ²n 3 chá»¯ ná»¯a  lÃ  xong 1/3 cÃ´ng viá»c, cháº¯c pháº£i 2 ngÃ y ná»¯a má»i xong (3/6)\n",
      "\n",
      "Tweets containing '®':\n",
      "                                                                                                                                                                                                   text\n",
      "240454                                               faceyourmanga.com áá±áá¬áá¹á¸áá°á¸ áá¬á·áá¶á¯áá­á¯ áá?á¶á¯á¸ááá®á¸áá­á¯ááá­á¯á¹áá¹á?áá¹.. \n",
      "242045                                                                                                                                                                     @housamz: Ø£Ø®Ù ÙÙØ§ÙÙ \n",
      "245571                           ä»²æä¸èª²adverse possessionï¼?ä½ä¹å?çco-own, leasehold, license, proprietary estoppel å?ç¡ä¹å?°è±¡â¦ åâ¦ ç?å®å?ç?ï¼ç?å®å?ç?ï¼ç?å®å?ç?â¦ \n",
      "252785                                                                                                                        @cyounes ÙÙØ§Ø³Ù? ÙØ§ Ù?ÙØ· Ø§ÙØ®Ø·ÙØ· Ø§ÙØ¹Ø±Ø¨ÙØ© Ø§ÙÙÙØªØ© \n",
      "258460  @CrEaTiVe_B Ø§Ø®ØªØ¨Ø§Ø±Ù .. final freshman lab,Quiz Chemistry &amp; Thermodynamic ..   Ø§ÙÙØ³ ÙØ§ Ø·Ø§Ø¹Øª Ø§ØªØ£Ø¬Ù Ø§ÙØ«ÙØ±ÙÙ ÙÙ ÙÙÙÙ Ø§ÙØ«ÙØ§Ø«Ø§ .. ÙØ±ÙØªÙØ§ &gt;&lt;\n",
      "\n",
      "Tweets containing '¥':\n",
      "                                                                                                                                                text\n",
      "240464                                                  @Buou å¦å èå å¤±è¯¯ä¸è¶ åæ?¥å?¶æ²¡æå?å½ä½ å Sä¼ä¸è¾¹æ´è¡£ä¸è¾¹å??ç?ç \n",
      "242372                                                       @AndrewDearling haha, well they are a mjor part of my lifeâ¥! i duno what im gonna do \n",
      "245081       XÃ´n xao vá»¥ ná»¯ sinh quá»³ gá»i giá»¯a ÄÆ°á»?ng xin ngÆ°á»?i yÃªu tha thá»©  [ Äá»?c xog nhá» thanks ] http://tinyurl.com/na7kdb\n",
      "245409  okeei, whay all the men has to be like this??  i know only one man who's different.. @jonasbrothers yeah of course, Mr President â¥ love u!\n",
      "245432                                                                                            @Kulnyte its ok.  wish you were here though//  â¥\n",
      "\n",
      "Tweets containing '':\n",
      "                                                                                                                                                                                                                         text\n",
      "264481                                                                                                                                                                                       @deepsishere à¶à¶ºà·à¶ºà·?... \n",
      "270097                                            @pavelegorkin Ð¥Ð°, Ð° Ð³Ð´Ðµ Ð²Ð·Ñ?ÑÑ Ñ?Ð»Ð°Ð²Ð½ÑÑ Ð±ÐµÑÑÑ quickCalendar? http://isoftru.ru/products/quickcalendar ÑÐ°Ð¼ not found. Ð Ð¦Ð¸Ð´Ð¸Ð¸ ÑÐ¾Ð¶Ðµ Ð½ÐµÑ \n",
      "279634                                                                                                    å¥½ã?? 04å¹´çèµ¤è¥¿, å¤§å¥½ã??!! ä»å¤©è¤ç¿äºSUMMARY..ä¸å»ä¸?è¿çç¾å¥½é?æ¥å?¶  http://plurk.com/p/xo5yl\n",
      "305242  èªª åé«éå¾ç¬¬ä¸å (LOL),æ²æ³å°è?¸å®³é²æ²»æ³å¯¦è¡å¾,ä¸?ç¥é?æéº¼æ¨£,æä¹å?å¸¸å»çåäº (annoyed),å°å?¦ä¸ééè²¼èå¨é?¢ç¦?è?¸,å?¯æ¯ä¸é²å»å?æ¯ä¸å çå³  http://plurk.com/p/xryp0\n",
      "328285                                                                 å¨facebkéäºåpostæ¨beyondé¦æ­(é£èªå·±çæ?è¦é½ç¡å ), çµ?æè¢«äººæé¨å«.... ä»²è¦?æDäººæä¿åè­ç!   http://plurk.com/p/xzezm\n",
      "\n",
      "Tweets containing '':\n",
      "                                                                                                                                                                          text\n",
      "240464                                                                            @Buou å¦å èå å¤±è¯¯ä¸è¶ åæ?¥å?¶æ²¡æå?å½ä½ å Sä¼ä¸è¾¹æ´è¡£ä¸è¾¹å??ç?ç \n",
      "245571  ä»²æä¸èª²adverse possessionï¼?ä½ä¹å?çco-own, leasehold, license, proprietary estoppel å?ç¡ä¹å?°è±¡â¦ åâ¦ ç?å®å?ç?ï¼ç?å®å?ç?ï¼ç?å®å?ç?â¦ \n",
      "246667                                                                                              Minesweeper keeps crashin on my iTouch  I think it may have worn out.. î?\n",
      "247284                                                                                                        watching FandF4. why must they runin all the sexy muscle carsÃ \n",
      "248243            @anhhung cÃ i moto4lin rá»i anh  XÃ i ÄÆ°á»£c nhÆ°ng váº¥t váº£ quÃ¡. CÃ¡c báº£n Ubuntu cÅ© Äá»?u xem nhÆ° 1 USB, chá» cÃ³ tháº±ng Jaunty trá» chá»©ng \n",
      "\n",
      "Tweets containing '':\n",
      "                                                                                                                                                                                                                                      text\n",
      "242045                                                                                                                                                                                                        @housamz: Ø£Ø®Ù ÙÙØ§ÙÙ \n",
      "244538                                                                                                                           @hanizo welcome back. im sorry to hear that you still have å?£åç  maybe you had too much good food ;)\n",
      "244842                                                                                                                                                         @michichan ã?ã??ã?ã?§ã?ã?ã ã?ã?¿ã?¾ã?ãã?i can't help you there. \n",
      "245571                                                              ä»²æä¸èª²adverse possessionï¼?ä½ä¹å?çco-own, leasehold, license, proprietary estoppel å?ç¡ä¹å?°è±¡â¦ åâ¦ ç?å®å?ç?ï¼ç?å®å?ç?ï¼ç?å®å?ç?â¦ \n",
      "248973  Ð?ÑÑ, OpenOffice Ð²ÑÐ±ÐµÑ?Ð¸Ð» Ñ?Ð²Ð¾ÐµÐ¹ Ð½ÐµÑ?ÑÐ°Ð±Ð¸Ð»ÑÐ½Ð¾Ñ?ÑÑÑ Ð¿ÑÐ¸ ÑÐ°Ð±Ð¾ÑÐµ Ñ? ÑÐ°Ð±Ð»Ð¸ÑÐ°Ð¼Ð¸, Ð²ÑÐµÐ¼ÐµÐ½Ð½Ð¾ Ð¿ÐµÑÐµÐµÐ·Ð¶Ð°Ñ Ð¾Ð±ÑÐ°ÑÐ½Ð¾ Ð½Ð° M$. Ð§ÑÐ²Ñ?ÑÐ²ÑÑ Ñ?ÐµÐ±Ñ? Ð¿ÑÐµÐ´Ð°ÑÐµÐ»ÐµÐ¼ \n",
      "\n",
      "Tweets containing '':\n",
      "                                                                                                                                                                     text\n",
      "240454                 faceyourmanga.com áá±áá¬áá¹á¸áá°á¸ áá¬á·áá¶á¯áá­á¯ áá?á¶á¯á¸ááá®á¸áá­á¯ááá­á¯á¹áá¹á?áá¹.. \n",
      "251455                                                             @xXxnicci95xXx o dear  embarassed a lot !!! LOL hope    you told her I'm nice and not weird really âº\n",
      "269905  MacPorts ã?§swigå¥ããã?ã?¨ãªãã·ã§ã³ã?ªã?ã?§ã¤ã³ã¹ãã¼ã«ã?ã?ãapache2+php5ã?ã?¤ã?ã?¦ã??ã?ï¼ä½è¨ã?«æéã?ã?ã?¡ãã?ã?ãã?ªã?ã?® \n",
      "272385       thinks å¥³çç¸½æ¯è¦ºå¾ç·å­©å­?å?ªæ¯çºèªå·±ï¼é¡§èªå·±ï¼å?¯æ¯ï¼ç·å­©å­?å¶å¯¦ç¶å·²è² åºäºä¸?å°?çµ¦å¥³çèªªï¼ï¼ï¼  http://plurk.com/p/xm745\n",
      "279634                                                å¥½ã?? 04å¹´çèµ¤è¥¿, å¤§å¥½ã??!! ä»å¤©è¤ç¿äºSUMMARY..ä¸å»ä¸?è¿çç¾å¥½é?æ¥å?¶  http://plurk.com/p/xo5yl\n",
      "\n",
      "Tweets containing '°':\n",
      "                                                                                                                                                                          text\n",
      "240454                      faceyourmanga.com áá±áá¬áá¹á¸áá°á¸ áá¬á·áá¶á¯áá­á¯ áá?á¶á¯á¸ááá®á¸áá­á¯ááá­á¯á¹áá¹á?áá¹.. \n",
      "241225                                                                                                  @tranvinhnt  thÃ´i, rÃºt kinh nghiá»m cho láº§n thÆ°Æ¡ng Äau nÃ y :|\n",
      "241995                                                                                                                               Now it's autumn again... 10Â°C and rain. \n",
      "245081                                 XÃ´n xao vá»¥ ná»¯ sinh quá»³ gá»i giá»¯a ÄÆ°á»?ng xin ngÆ°á»?i yÃªu tha thá»©  [ Äá»?c xog nhá» thanks ] http://tinyurl.com/na7kdb\n",
      "245571  ä»²æä¸èª²adverse possessionï¼?ä½ä¹å?çco-own, leasehold, license, proprietary estoppel å?ç¡ä¹å?°è±¡â¦ åâ¦ ç?å®å?ç?ï¼ç?å®å?ç?ï¼ç?å®å?ç?â¦ \n",
      "\n",
      "Tweets containing '\t':\n",
      "                                                                                                                      text\n",
      "5311                                         Violence: bloodbath in Landgericht Landshut... \\t Germany is no longer safe  \n",
      "16549        im going to draw a picture; a picture with a twist! I'll draw it with a razorblade, and draw it in my wrist\\t\n",
      "19851                                                                  @staceyBEAR I mean really sick.\\t I just threw up. \n",
      "20231                                      LEARNING. Hate it. I have my \\tschool leaving examination this week  bï¿½ï¿½ï¿½\n",
      "29308  @rawralyrawr HAAAAAAAAH?! Forreal, I was too drunk to drive home. Shoulda just stayed \\tBut I'm at home. Goodnight!\n",
      "\n",
      "Tweets containing '¡':\n",
      "                                                                                                                                                                          text\n",
      "175326                                                                                                                     Oh joy its gong to be a long weekebd... Yipee :*Â¡ \n",
      "240464                                                                            @Buou å¦å èå å¤±è¯¯ä¸è¶ åæ?¥å?¶æ²¡æå?å½ä½ å Sä¼ä¸è¾¹æ´è¡£ä¸è¾¹å??ç?ç \n",
      "241225                                                                                                  @tranvinhnt  thÃ´i, rÃºt kinh nghiá»m cho láº§n thÆ°Æ¡ng Äau nÃ y :|\n",
      "244101                                                                                                  @tatianasilveira eu nem te vi  eu li no twitter lÃ¡, mas nem te achei \n",
      "245571  ä»²æä¸èª²adverse possessionï¼?ä½ä¹å?çco-own, leasehold, license, proprietary estoppel å?ç¡ä¹å?°è±¡â¦ åâ¦ ç?å®å?ç?ï¼ç?å®å?ç?ï¼ç?å®å?ç?â¦ \n",
      "\n",
      "Tweets containing '':\n",
      "                                                                                                                                                                                               text\n",
      "254475                                             The â¢Â¶Â§âing button on my MacBook Pro has stopped working properly  We couldn't just have a regular button - oh nooo. We have to have none.\n",
      "265700                                      @pammanista à¸¨à¸²à¸¥à¸à¸£à¸°à¸ à¸¹à¸¡à¸´ na ja u have spare ones at home? cos i need to take this stuff to IL too. some r even gifts and i ruined it \n",
      "268373                                                                                                                                                       à¸£à¸±à¸?à¹?à¸à¹à¹?à¸à¹ CIVIC 2.0 \n",
      "275354  @golev, Ð½ÐµÐ°. Ð¯ Ð²Ð¾Ð¾Ð±ÑÐµ Ð½Ðµ Ð»ÑÐ±Ð»Ñ Ð²Ñ?Ðµ Ñ?ÑÐ¸ S60. ÐÐµÑÐ¸ Ð°Ð¹ÑÐ¾Ð½ Ð¸Ð»Ð¸ Ð³ÑÐ³Ð»Ð¾ÑÐ¾Ð½, Ð¸Ð¼ÑÐ¾. ÐÐ±Ð½Ð¾Ð²Ð¸Ð», Ð±Ð»Ð¸Ð½, ÑÐ¶Ðµ Ð´Ð²Ð° ÑÐ°Ñ?Ð° Ð¿Ð¾ÑÐµÑÑ?Ð». \n",
      "284574                                                                                      Listening to 'à¹à¸?à¸¥à¸µà¸¢à¸à¹à¸à¸¥à¸à¸£à¸±à¸?' by PanCaKe @imeem http://x.imeem.com/Bcg3nx3y4t \n",
      "\n",
      "Tweets containing '½':\n",
      "                                                                                                                                              text\n",
      "194                             @JonathanRKnight I hate the limited letters,too.Hope you and the guys are fine?I pray for my dog,sheï¿½s not well \n",
      "226  Tuesdayï¿½ll start with reflection ï¿½n then a lecture in Stress reducing techniques. That sure might become very useful for us accompaniers \n",
      "270                                                            @DonnieWahlberg ooh Iï¿½m excited and not even going 2 be there  long love YOUTUBE!\n",
      "372               Time to move my posterior  and lose some fat. My articulation are creaking so no more running  but Iï¿½m drool for some swimming\n",
      "447                                                                                                                      @Sofii_Noel thatï¿½s bad \n",
      "\n",
      "Tweets containing '':\n",
      "                                                                                                                                                                     text\n",
      "240464                                                                       @Buou å¦å èå å¤±è¯¯ä¸è¶ åæ?¥å?¶æ²¡æå?å½ä½ å Sä¼ä¸è¾¹æ´è¡£ä¸è¾¹å??ç?ç \n",
      "247659                                                                                          waahh, the ending of æç¬å¥³ç was so good! sad it's over now, though \n",
      "268373                                                                                                                             à¸£à¸±à¸?à¹?à¸à¹à¹?à¸à¹ CIVIC 2.0 \n",
      "269905  MacPorts ã?§swigå¥ããã?ã?¨ãªãã·ã§ã³ã?ªã?ã?§ã¤ã³ã¹ãã¼ã«ã?ã?ãapache2+php5ã?ã?¤ã?ã?¦ã??ã?ï¼ä½è¨ã?«æéã?ã?ã?¡ãã?ã?ãã?ªã?ã?® \n",
      "272385       thinks å¥³çç¸½æ¯è¦ºå¾ç·å­©å­?å?ªæ¯çºèªå·±ï¼é¡§èªå·±ï¼å?¯æ¯ï¼ç·å­©å­?å¶å¯¦ç¶å·²è² åºäºä¸?å°?çµ¦å¥³çèªªï¼ï¼ï¼  http://plurk.com/p/xm745\n",
      "\n",
      "Tweets containing '':\n",
      "                                                                                                                                                                                                         text\n",
      "240464                                                                                                           @Buou å¦å èå å¤±è¯¯ä¸è¶ åæ?¥å?¶æ²¡æå?å½ä½ å Sä¼ä¸è¾¹æ´è¡£ä¸è¾¹å??ç?ç \n",
      "269905                                      MacPorts ã?§swigå¥ããã?ã?¨ãªãã·ã§ã³ã?ªã?ã?§ã¤ã³ã¹ãã¼ã«ã?ã?ãapache2+php5ã?ã?¤ã?ã?¦ã??ã?ï¼ä½è¨ã?«æéã?ã?ã?¡ãã?ã?ãã?ªã?ã?® \n",
      "271633  @khushi4all àª¶à«?àª àª¥àª¯à«?àª àªàª¬àª° àªà«? àª®à«àª àª°àª¾àªà«. àªàª°àª¾àªµà«?àª¯à«?àª àª¤à« it says, &quot;you have not confirmed earlier registration  Let me try with my Yahoo ID.\n",
      "283722      ÑÑÐºÐ°Ð²Ð¾, ÑÐ¾ Ð¿ÑÐ°Ð²Ð¾Ð¾ÑÐ¾ÑÐ¾Ð½Ð½Ñ Ð¾ÑÐ³Ð°Ð½Ð¸ Ð¼Ð¾Ð¶ÑÑÑ Ð·ÑÐ¾Ð±Ð¸ÑÐ¸ share.net.ua? Ð²Ð»Ð°Ñ?Ð½Ð¸Ðº Ð½ÑÐ±Ð¸ Ð·Ð° ÐºÐ¾ÑÐ´Ð¾Ð½Ð¾Ð¼? Ð±Ð»ÑÐ½, Ð° Ñ?ÐµÑÐ²Ð°Ðº ÑÐ¾ Ð² ÐÐ¸ÑÐ²Ñ \n",
      "288541                                                     @lilahmcfly ××?! ×× ××? ×¤×××¨ !  × ×× , ×?× ×ª××× ×¤×¢××××?. ×?×ª ×××××ª ×× ×××× ××ª××¨ ××ª× × ××××××××ª! XD\n",
      "\n",
      "Tweets containing '':\n",
      "                                                                                                                                                                          text\n",
      "240454                      faceyourmanga.com áá±áá¬áá¹á¸áá°á¸ áá¬á·áá¶á¯áá­á¯ áá?á¶á¯á¸ááá®á¸áá­á¯ááá­á¯á¹áá¹á?áá¹.. \n",
      "240464                                                                            @Buou å¦å èå å¤±è¯¯ä¸è¶ åæ?¥å?¶æ²¡æå?å½ä½ å Sä¼ä¸è¾¹æ´è¡£ä¸è¾¹å??ç?ç \n",
      "242045                                                                                                                                            @housamz: Ø£Ø®Ù ÙÙØ§ÙÙ \n",
      "243625                                                                                    Final episode of ã?ã?ã¯ã­ ã?ã?ããã?¨ã¯ã­ã¼ã?ã¼ a.k.a Honey and Clover \n",
      "245571  ä»²æä¸èª²adverse possessionï¼?ä½ä¹å?çco-own, leasehold, license, proprietary estoppel å?ç¡ä¹å?°è±¡â¦ åâ¦ ç?å®å?ç?ï¼ç?å®å?ç?ï¼ç?å®å?ç?â¦ \n"
     ]
    }
   ],
   "source": [
    "# Show tweets containing special characters\n",
    "print(\"\\nTweets containing special characters:\")\n",
    "print(\"-\" * 50)\n",
    "for char in special_chars:\n",
    "    tweets_with_char = df[df['text'].str.contains(char, regex=False)]\n",
    "    if len(tweets_with_char) > 0:\n",
    "        print(f\"\\nTweets containing '{char}':\")\n",
    "        print(tweets_with_char[['text']].head())\n"
   ]
  },
  {
   "cell_type": "code",
   "execution_count": 55,
   "metadata": {},
   "outputs": [
    {
     "name": "stdout",
     "output_type": "stream",
     "text": [
      "\n",
      "Tweets with high number ratio (>30%): 176 (0.01%)\n",
      "\n",
      "Examples of tweets with many numbers:\n",
      "13232                                                                                    @ASOT400 \n",
      "33162                                                                                     Ew 4/20 \n",
      "39345                                                                                   @easy1126 \n",
      "45054                                                                                   @Rove1974 \n",
      "64138             todays been abit good :') i miss chrisx 98502398423094823094238423 though  &lt;3\n",
      "78109                                                                                 is so 50/50 \n",
      "83042                                                                                  work 12-16 \n",
      "95463                                                                          13-02-09 = 50% day \n",
      "98359                                                                        work 0645-1915. Ugh. \n",
      "100125    oh crap i got the pole touch...THANK U HAILEY  Nate&lt;333333333333333333333333333333333\n",
      "Name: text, dtype: object\n"
     ]
    }
   ],
   "source": [
    "# Check for tweets with high percentage of numbers\n",
    "number_ratio = df['text'].str.count(r'[0-9]') / df['tweet_length_chars']\n",
    "df['too_many_numbers'] = (number_ratio > 0.3).astype(int)\n",
    "high_numbers = df['too_many_numbers'].sum()\n",
    "print(f\"\\nTweets with high number ratio (>30%): {high_numbers} ({(high_numbers/len(df)*100):.2f}%)\")\n",
    "print(\"\\nExamples of tweets with many numbers:\")\n",
    "print(df[df['too_many_numbers'] == 1]['text'].head(10))\n"
   ]
  },
  {
   "cell_type": "markdown",
   "metadata": {},
   "source": [
    "### Comments\n",
    "In this section, we reviewed tweets containing excessive special characters that render them unreadable, and created a column to tag these tweets so they can be removed from the dataset later."
   ]
  },
  {
   "cell_type": "markdown",
   "metadata": {},
   "source": [
    "## 2.5. Short tweets, repetitive characters, all caps tweets"
   ]
  },
  {
   "cell_type": "code",
   "execution_count": null,
   "metadata": {},
   "outputs": [
    {
     "name": "stdout",
     "output_type": "stream",
     "text": [
      "Text quality analysis:\n",
      "--------------------------------------------------\n",
      "\n",
      "Very short tweets (<10 chars): 3135 (0.20%)\n",
      "\n",
      "Examples of very short tweets:\n",
      "545      At work \n",
      "580      Evicted \n",
      "1189    headache \n",
      "1205    Up early \n",
      "1338      is cold\n",
      "1343    is coldd \n",
      "2359    is tired \n",
      "2407     SO COLD \n",
      "2997    Homework \n",
      "3261     bad day \n",
      "Name: text, dtype: object\n",
      "\n",
      "Tweets with repetitive characters: 68145 (4.26%)\n",
      "\n",
      "Examples of tweets with repetitive characters:\n",
      "69                                                                                  @Lt_Algonquin agreed, I saw the failwhale allllll day today. \n",
      "73     Gym attire today was: Puma singlet, Adidas shorts.......and black business socks and leather shoes  Lucky did not run into any cute girls.\n",
      "96                               so rylee,grace...wana go steve's party or not?? SADLY SINCE ITS EASTER I WNT B ABLE 2 DO MUCH  BUT OHH WELL.....\n",
      "111                                                                                   I'm sooo sad!!! they killed off Kutner on House  whyyyyyyyy\n",
      "130                        @chelserlynn haha its so cooooold in the d! and no  but you should still go to the show. they do some incredible stuff\n",
      "160      Picked Mich St to win it all from the get go.  Was feeling pretty good about that pick all the way up until......tonight.  A's lost too \n",
      "169                                                  @naughtyhaughty I had on my page for sooooo long!!! Until it got deleted  Sad day in history\n",
      "251                                                                         feeling lost, naked and confused (JK, sort of).....no iphone for me. \n",
      "256     @burgaw Ooooooh! *sealclap* See, I download shitloads of zip folders off 4chan. I have no internet moneys.  FUCK YEAH ALICIA &amp; MIKEY.\n",
      "267                                                                                 poor socks  luvvvvv the golden retriever!! I want one sighhhh\n",
      "Name: text, dtype: object\n",
      "\n",
      "All caps tweets: 5236 (0.33%)\n",
      "\n",
      "Examples of all caps tweets:\n",
      "417                                                 ITS NOT ENOUGH TO SAY THAT IMISS U \n",
      "695                                                      MY TWEETS ARENT GOING THROUGH \n",
      "766                                                    CASH RULES EVERYTHING AROUND ME \n",
      "835                                                  IS PHONELESS  ...NOW OFF TOO SLEEP\n",
      "1206                                        WHAT THE FUCK YOUKU  I WANT TO WATCH SKINS.\n",
      "1840                                                             FUCK....I CAN'T SLEEP \n",
      "2407                                                                           SO COLD \n",
      "2551                                                         MY FAST REMAINS UN BROKEN \n",
      "2683    MOTHER FUCKERS. CHANGING THE ROTAS WITHOUT TELLING ME = NOT COOL. OFF TO WORK. \n",
      "2912                                                         LAST DAY AT LSHS TOMORROW \n",
      "Name: text, dtype: object\n"
     ]
    }
   ],
   "source": [
    "# Check for very short tweets that might be low quality\n",
    "very_short_tweets = df[df['tweet_length_chars'] < 10].shape[0]\n",
    "print(f\"\\nVery short tweets (<10 chars): {very_short_tweets} ({(very_short_tweets/len(df)*100):.2f}%)\")\n",
    "print(\"\\nExamples of very short tweets:\")\n",
    "print(df[df['tweet_length_chars'] < 10]['text'].head(10))\n",
    "\n",
    "# Check for all caps tweets (possible spam/low quality)\n",
    "all_caps_tweets = df[df['text'].str.match(r'^[A-Z0-9\\s\\W]+$')].shape[0]\n",
    "print(f\"\\nAll caps tweets: {all_caps_tweets} ({(all_caps_tweets/len(df)*100):.2f}%)\")\n",
    "print(\"\\nExamples of all caps tweets:\")\n",
    "print(df[df['text'].str.match(r'^[A-Z0-9\\s\\W]+$')]['text'].head(10))\n"
   ]
  },
  {
   "cell_type": "markdown",
   "metadata": {},
   "source": [
    "### Comments\n",
    "As shown in the example above, very short tweets can still be used for sentiment analysis."
   ]
  },
  {
   "cell_type": "markdown",
   "metadata": {},
   "source": [
    "## 2.6. Average punctuation marks per tweet, word/character ratio"
   ]
  },
  {
   "cell_type": "code",
   "execution_count": 60,
   "metadata": {},
   "outputs": [
    {
     "name": "stdout",
     "output_type": "stream",
     "text": [
      "\n",
      "Average punctuation marks per tweet: 3.99\n",
      "Tweets with excessive punctuation: 70057 (4.38%)\n",
      "\n",
      "Tweets with suspicious character-to-word ratio: 57589 (3.60%)\n",
      "\n",
      "Examples of tweets with suspicious character-to-word ratio:\n",
      "58                                                               Ugh....92 degrees tomorrow \n",
      "95     Strider is a sick little puppy  http://apps.facebook.com/dogbook/profile/view/5248435\n",
      "103                                                              watching &quot;House&quot; \n",
      "108                                                             @Henkuyinepu it's overrated \n",
      "135                                                                           Agh...snow!!! \n",
      "161                                                           is alone downstairs...working \n",
      "181                                  Check out my mug  http://www.erika-obscura.blogspot.com\n",
      "208                                                                               @mandayyy \n",
      "249                                                                             @mandayyy   \n",
      "282                                                                    @ITS_NEMESIS ------- \n",
      "Name: text, dtype: object\n"
     ]
    },
    {
     "data": {
      "image/png": "[encoded data removed]",
      "text/plain": [
       "<Figure size 1200x600 with 1 Axes>"
      ]
     },
     "metadata": {},
     "output_type": "display_data"
    }
   ],
   "source": [
    "# Calculate average punctuation per tweet\n",
    "punct_counts = df['text'].str.count(f'[{string.punctuation}]')\n",
    "avg_punct = punct_counts.mean()\n",
    "print(f\"\\nAverage punctuation marks per tweet: {avg_punct:.2f}\")\n",
    "\n",
    "# Check for tweets with excessive punctuation\n",
    "excessive_punct = df[punct_counts > punct_counts.mean() + 2*punct_counts.std()].shape[0]\n",
    "print(f\"Tweets with excessive punctuation: {excessive_punct} ({(excessive_punct/len(df)*100):.2f}%)\")\n",
    "\n",
    "# Analyze word/character ratio (very low ratio might indicate spam or low quality)\n",
    "char_word_ratio = df['tweet_length_chars'] / df['tweet_length_words']\n",
    "suspicious_ratio = df[char_word_ratio > char_word_ratio.mean() + 2*char_word_ratio.std()].shape[0]\n",
    "print(f\"\\nTweets with suspicious character-to-word ratio: {suspicious_ratio} ({(suspicious_ratio/len(df)*100):.2f}%)\")\n",
    "print(\"\\nExamples of tweets with suspicious character-to-word ratio:\")\n",
    "print(df[char_word_ratio > char_word_ratio.mean() + 2*char_word_ratio.std()]['text'].head(10))\n",
    "\n",
    "# Distribution of character-to-word ratios\n",
    "plt.figure(figsize=(12, 6))\n",
    "plt.hist(char_word_ratio, bins=50, edgecolor='black')\n",
    "plt.title('Distribution of Character-to-Word Ratios')\n",
    "plt.xlabel('Characters per Word')\n",
    "plt.ylabel('Frequency')\n",
    "plt.show()\n"
   ]
  },
  {
   "cell_type": "code",
   "execution_count": null,
   "metadata": {},
   "outputs": [],
   "source": []
  },
  {
   "cell_type": "markdown",
   "metadata": {},
   "source": [
    "### Comments\n",
    "Tweets with excessive punctuations are often containing dots or a URL. Therefore, it is not necessary to remove them from the dataset. "
   ]
  },
  {
   "cell_type": "code",
   "execution_count": null,
   "metadata": {},
   "outputs": [],
   "source": []
  },
  {
   "cell_type": "code",
   "execution_count": null,
   "metadata": {},
   "outputs": [],
   "source": []
  },
  {
   "cell_type": "code",
   "execution_count": null,
   "metadata": {},
   "outputs": [],
   "source": [
    "# Replace &quot; with \" in text column\n",
    "df['text'] = df['text'].str.replace('&quot;', '\"')\n"
   ]
  },
  {
   "cell_type": "code",
   "execution_count": null,
   "metadata": {},
   "outputs": [],
   "source": []
  },
  {
   "cell_type": "code",
   "execution_count": null,
   "metadata": {},
   "outputs": [],
   "source": []
  },
  {
   "cell_type": "code",
   "execution_count": null,
   "metadata": {},
   "outputs": [],
   "source": [
    "# -------------------------------------------------------------------------------- NOTEBOOK-CELL: CODE_ASSISTANT_MAGIC_CELL\n",
    "# %load_ext ai_code_assistant\n",
    "\n",
    "# -------------------------------------------------------------------------------- NOTEBOOK-CELL: CODE\n",
    "import dataiku\n",
    "import pandas as pd, numpy as np\n",
    "from dataiku import pandasutils as pdu\n",
    "import os\n",
    "import tempfile\n",
    "\n",
    "# -------------------------------------------------------------------------------- NOTEBOOK-CELL: CODE\n",
    "project = dataiku.api_client().get_default_project()\n",
    "client = dataiku.api_client()\n",
    "\n",
    "# -------------------------------------------------------------------------------- NOTEBOOK-CELL: CODE\n",
    "# Retrieve Kaggle username and api key\n",
    "auth_info = client.get_auth_info(with_secrets=True)\n",
    "secret_value = None\n",
    "for secret in auth_info[\"secrets\"]:\n",
    "    if secret[\"key\"] == \"KAGGLE_API_KEY\":\n",
    "        os.environ[\"KAGGLE_KEY\"] = secret[\"value\"]\n",
    "        \n",
    "    elif secret[\"key\"] == \"KAGGLE_USERNAME\":\n",
    "        os.environ[\"KAGGLE_USERNAME\"] = secret[\"value\"]\n",
    "        \n",
    "from kaggle import api # import the already authenticated API client\n",
    "\n",
    "# -------------------------------------------------------------------------------- NOTEBOOK-CELL: CODE\n",
    "# Retrieve the folder id where the dataset will be stored\n",
    "folder_id = next((folder[\"id\"] for folder in project.list_managed_folders() if folder[\"name\"]==\"data\"), None)\n",
    "if folder_id is None:\n",
    "    print(\"Folder 'data' not found!\")\n",
    "\n",
    "# -------------------------------------------------------------------------------- NOTEBOOK-CELL: CODE\n",
    "import chardet\n",
    "folder = dataiku.Folder(folder_id)\n",
    "dataset_slug = \"kazanova/sentiment140\"\n",
    "with tempfile.TemporaryDirectory() as tmpdirname:\n",
    "    \n",
    "    api.dataset_download_files(dataset_slug, path=tmpdirname, unzip=True)\n",
    "\n",
    "    for file in os.listdir(tmpdirname):\n",
    "        local_file = os.path.join(tmpdirname, file)\n",
    "        folder.upload_file(file, local_file)\n",
    "        imported_tweets_df = pd.read_csv(local_file, encoding=\"latin-1\", \n",
    "                                       names=['target', 'id', 'date', 'flag', 'user', 'text'])\n",
    "\n",
    "# -------------------------------------------------------------------------------- NOTEBOOK-CELL: CODE\n",
    "# Write recipe outputs\n",
    "imported_tweets = dataiku.Dataset(\"imported_tweets\")\n",
    "imported_tweets.write_with_schema(imported_tweets_df)\n"
   ]
  }
 ],
 "metadata": {
  "kernelspec": {
   "display_name": ".venv",
   "language": "python",
   "name": "python3"
  },
  "language_info": {
   "codemirror_mode": {
    "name": "ipython",
    "version": 3
   },
   "file_extension": ".py",
   "mimetype": "text/x-python",
   "name": "python",
   "nbconvert_exporter": "python",
   "pygments_lexer": "ipython3",
   "version": "3.9.21"
  }
 },
 "nbformat": 4,
 "nbformat_minor": 2
}
