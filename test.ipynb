{
 "cells": [
  {
   "cell_type": "code",
   "execution_count": null,
   "metadata": {},
   "outputs": [],
   "source": [
    "import re\n",
    "from spellchecker import SpellChecker\n",
    "\n",
    "# Initialize SpellChecker\n",
    "spell = SpellChecker()\n",
    "\n",
    "def remove_repeated_chars(word):\n",
    "    \"\"\"Reduces any letter repeated 2+ times to a single or double occurrence if it's common in English.\"\"\"\n",
    "    return re.sub(r'(\\w)\\1{2,}', r'\\1', word)  # Keeps at most one repetition\n",
    "\n",
    "def correct_text(text):\n",
    "    \"\"\"Fixes repeated characters and corrects misspellings using a spell checker.\"\"\"\n",
    "    words = text.split()\n",
    "    cleaned_words = [remove_repeated_chars(word) for word in words]\n",
    "    \n",
    "    # Spell check words\n",
    "    corrected_words = [spell.correction(word) if word not in spell else word for word in cleaned_words]\n",
    "    \n",
    "    return \" \".join(corrected_words)\n",
    "\n",
    "# Example usage\n",
    "text = \"Oh my goood what are you doiiiiing?\"\n",
    "fixed_text = correct_text(text)\n",
    "print(fixed_text)  # Output: \"Oh my god what are you doing?\"\n"
   ]
  }
 ],
 "metadata": {
  "kernelspec": {
   "display_name": ".venv",
   "language": "python",
   "name": "python3"
  },
  "language_info": {
   "name": "python",
   "version": "3.9.21"
  }
 },
 "nbformat": 4,
 "nbformat_minor": 2
}
